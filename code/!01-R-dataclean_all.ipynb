{
 "cells": [
  {
   "cell_type": "markdown",
   "id": "ed824bc4-ff4f-40c5-8c35-2a4830fffb31",
   "metadata": {},
   "source": [
    "# Complete re-run 06/12/2024, 30% CV luminex, 50% CV functionals (rpm4, w Xin updates); QC index error corrected"
   ]
  },
  {
   "cell_type": "markdown",
   "id": "be3acbd5-94a2-437d-8046-2004923641b5",
   "metadata": {},
   "source": [
    "# Load libraries"
   ]
  },
  {
   "cell_type": "code",
   "execution_count": 1,
   "id": "9c4afbac-830f-4918-835b-3455a1d0ff02",
   "metadata": {},
   "outputs": [],
   "source": [
    "# install.packages(c('tidyverse','openxlsx','reshape2','gplots','lme4','nlme','ggpubr'))"
   ]
  },
  {
   "cell_type": "code",
   "execution_count": 2,
   "id": "554ffe87-4a59-4e30-9c49-d9562681ec78",
   "metadata": {},
   "outputs": [
    {
     "name": "stderr",
     "output_type": "stream",
     "text": [
      "\n",
      "Attaching package: 'dplyr'\n",
      "\n",
      "\n",
      "The following objects are masked from 'package:stats':\n",
      "\n",
      "    filter, lag\n",
      "\n",
      "\n",
      "The following objects are masked from 'package:base':\n",
      "\n",
      "    intersect, setdiff, setequal, union\n",
      "\n",
      "\n",
      "\n",
      "Attaching package: 'gplots'\n",
      "\n",
      "\n",
      "The following object is masked from 'package:stats':\n",
      "\n",
      "    lowess\n",
      "\n",
      "\n",
      "-- \u001b[1mAttaching core tidyverse packages\u001b[22m ---------------------------------------------------------------- tidyverse 2.0.0 --\n",
      "\u001b[32mv\u001b[39m \u001b[34mforcats  \u001b[39m 1.0.0     \u001b[32mv\u001b[39m \u001b[34mstringr  \u001b[39m 1.5.0\n",
      "\u001b[32mv\u001b[39m \u001b[34mlubridate\u001b[39m 1.9.3     \u001b[32mv\u001b[39m \u001b[34mtibble   \u001b[39m 3.2.1\n",
      "\u001b[32mv\u001b[39m \u001b[34mpurrr    \u001b[39m 1.0.2     \u001b[32mv\u001b[39m \u001b[34mtidyr    \u001b[39m 1.3.0\n",
      "\u001b[32mv\u001b[39m \u001b[34mreadr    \u001b[39m 2.1.4     \n",
      "-- \u001b[1mConflicts\u001b[22m ---------------------------------------------------------------------------------- tidyverse_conflicts() --\n",
      "\u001b[31mx\u001b[39m \u001b[34mdplyr\u001b[39m::\u001b[32mfilter()\u001b[39m masks \u001b[34mstats\u001b[39m::filter()\n",
      "\u001b[31mx\u001b[39m \u001b[34mdplyr\u001b[39m::\u001b[32mlag()\u001b[39m    masks \u001b[34mstats\u001b[39m::lag()\n",
      "\u001b[36mi\u001b[39m Use the conflicted package (\u001b[3m\u001b[34m<http://conflicted.r-lib.org/>\u001b[39m\u001b[23m) to force all conflicts to become errors\n"
     ]
    }
   ],
   "source": [
    "library(openxlsx)\n",
    "library(dplyr)\n",
    "library(reshape2)\n",
    "#library(lme4)\n",
    "#library(nlme)\n",
    "library(gplots)\n",
    "library(ggplot2)\n",
    "library(tidyverse)"
   ]
  },
  {
   "cell_type": "markdown",
   "id": "c5a8965c-4f87-4522-a53f-76372ac59fda",
   "metadata": {},
   "source": [
    "# Load Annotation & data template"
   ]
  },
  {
   "cell_type": "code",
   "execution_count": 3,
   "id": "c19d1da0-56a9-4556-9116-c13fa0228471",
   "metadata": {},
   "outputs": [
    {
     "data": {
      "text/html": [
       "<table class=\"dataframe\">\n",
       "<caption>A data.frame: 6 × 12</caption>\n",
       "<thead>\n",
       "\t<tr><th></th><th scope=col>PlateNum</th><th scope=col>SampleNum</th><th scope=col>PlateID</th><th scope=col>PlateCoord</th><th scope=col>BOX</th><th scope=col>Lab.ID</th><th scope=col>Vaccine</th><th scope=col>Tube.Label</th><th scope=col>Time.sample</th><th scope=col>DPFD</th><th scope=col>DPSD</th><th scope=col>DPTD</th></tr>\n",
       "\t<tr><th></th><th scope=col>&lt;dbl&gt;</th><th scope=col>&lt;dbl&gt;</th><th scope=col>&lt;dbl&gt;</th><th scope=col>&lt;chr&gt;</th><th scope=col>&lt;dbl&gt;</th><th scope=col>&lt;chr&gt;</th><th scope=col>&lt;chr&gt;</th><th scope=col>&lt;chr&gt;</th><th scope=col>&lt;chr&gt;</th><th scope=col>&lt;dbl&gt;</th><th scope=col>&lt;dbl&gt;</th><th scope=col>&lt;dbl&gt;</th></tr>\n",
       "</thead>\n",
       "<tbody>\n",
       "\t<tr><th scope=row>1</th><td>1</td><td>1</td><td>1</td><td>A1</td><td>1</td><td>C64 2020 G4</td><td>Naive       </td><td>S_PUC_C_064_(1)_G4</td><td>PRE</td><td> NA</td><td> NA</td><td>NA</td></tr>\n",
       "\t<tr><th scope=row>2</th><td>2</td><td>2</td><td>1</td><td>A2</td><td>1</td><td>C64 2020 G4</td><td>CoronaVac   </td><td>S_PUC_C_064_(4)_G4</td><td>D28</td><td> 29</td><td>  1</td><td>NA</td></tr>\n",
       "\t<tr><th scope=row>3</th><td>3</td><td>3</td><td>1</td><td>A3</td><td>1</td><td>C64 2020 G4</td><td>CoronaVac-2 </td><td>S_PUC_C_064_(5)_G4</td><td>D42</td><td> 41</td><td> 13</td><td>NA</td></tr>\n",
       "\t<tr><th scope=row>4</th><td>4</td><td>4</td><td>1</td><td>A4</td><td>1</td><td>C64 2020 G4</td><td>CoronaVac2-2</td><td>S_PUC_C_064_(6)_G4</td><td>M3 </td><td>104</td><td> 76</td><td>NA</td></tr>\n",
       "\t<tr><th scope=row>5</th><td>5</td><td>5</td><td>1</td><td>A5</td><td>1</td><td>C64 2020 G4</td><td>CoronaVac2-3</td><td>S_PUC_C_064_(7)_G4</td><td>M6 </td><td>153</td><td>125</td><td>NA</td></tr>\n",
       "\t<tr><th scope=row>6</th><td>6</td><td>6</td><td>1</td><td>A6</td><td>1</td><td>C64 2020 G4</td><td>CoronaVac2-3</td><td>S_PUC_C_064_(8)_G4</td><td>M9 </td><td>153</td><td>125</td><td>NA</td></tr>\n",
       "</tbody>\n",
       "</table>\n"
      ],
      "text/latex": [
       "A data.frame: 6 × 12\n",
       "\\begin{tabular}{r|llllllllllll}\n",
       "  & PlateNum & SampleNum & PlateID & PlateCoord & BOX & Lab.ID & Vaccine & Tube.Label & Time.sample & DPFD & DPSD & DPTD\\\\\n",
       "  & <dbl> & <dbl> & <dbl> & <chr> & <dbl> & <chr> & <chr> & <chr> & <chr> & <dbl> & <dbl> & <dbl>\\\\\n",
       "\\hline\n",
       "\t1 & 1 & 1 & 1 & A1 & 1 & C64 2020 G4 & Naive        & S\\_PUC\\_C\\_064\\_(1)\\_G4 & PRE &  NA &  NA & NA\\\\\n",
       "\t2 & 2 & 2 & 1 & A2 & 1 & C64 2020 G4 & CoronaVac    & S\\_PUC\\_C\\_064\\_(4)\\_G4 & D28 &  29 &   1 & NA\\\\\n",
       "\t3 & 3 & 3 & 1 & A3 & 1 & C64 2020 G4 & CoronaVac-2  & S\\_PUC\\_C\\_064\\_(5)\\_G4 & D42 &  41 &  13 & NA\\\\\n",
       "\t4 & 4 & 4 & 1 & A4 & 1 & C64 2020 G4 & CoronaVac2-2 & S\\_PUC\\_C\\_064\\_(6)\\_G4 & M3  & 104 &  76 & NA\\\\\n",
       "\t5 & 5 & 5 & 1 & A5 & 1 & C64 2020 G4 & CoronaVac2-3 & S\\_PUC\\_C\\_064\\_(7)\\_G4 & M6  & 153 & 125 & NA\\\\\n",
       "\t6 & 6 & 6 & 1 & A6 & 1 & C64 2020 G4 & CoronaVac2-3 & S\\_PUC\\_C\\_064\\_(8)\\_G4 & M9  & 153 & 125 & NA\\\\\n",
       "\\end{tabular}\n"
      ],
      "text/markdown": [
       "\n",
       "A data.frame: 6 × 12\n",
       "\n",
       "| <!--/--> | PlateNum &lt;dbl&gt; | SampleNum &lt;dbl&gt; | PlateID &lt;dbl&gt; | PlateCoord &lt;chr&gt; | BOX &lt;dbl&gt; | Lab.ID &lt;chr&gt; | Vaccine &lt;chr&gt; | Tube.Label &lt;chr&gt; | Time.sample &lt;chr&gt; | DPFD &lt;dbl&gt; | DPSD &lt;dbl&gt; | DPTD &lt;dbl&gt; |\n",
       "|---|---|---|---|---|---|---|---|---|---|---|---|---|\n",
       "| 1 | 1 | 1 | 1 | A1 | 1 | C64 2020 G4 | Naive        | S_PUC_C_064_(1)_G4 | PRE |  NA |  NA | NA |\n",
       "| 2 | 2 | 2 | 1 | A2 | 1 | C64 2020 G4 | CoronaVac    | S_PUC_C_064_(4)_G4 | D28 |  29 |   1 | NA |\n",
       "| 3 | 3 | 3 | 1 | A3 | 1 | C64 2020 G4 | CoronaVac-2  | S_PUC_C_064_(5)_G4 | D42 |  41 |  13 | NA |\n",
       "| 4 | 4 | 4 | 1 | A4 | 1 | C64 2020 G4 | CoronaVac2-2 | S_PUC_C_064_(6)_G4 | M3  | 104 |  76 | NA |\n",
       "| 5 | 5 | 5 | 1 | A5 | 1 | C64 2020 G4 | CoronaVac2-3 | S_PUC_C_064_(7)_G4 | M6  | 153 | 125 | NA |\n",
       "| 6 | 6 | 6 | 1 | A6 | 1 | C64 2020 G4 | CoronaVac2-3 | S_PUC_C_064_(8)_G4 | M9  | 153 | 125 | NA |\n",
       "\n"
      ],
      "text/plain": [
       "  PlateNum SampleNum PlateID PlateCoord BOX Lab.ID      Vaccine     \n",
       "1 1        1         1       A1         1   C64 2020 G4 Naive       \n",
       "2 2        2         1       A2         1   C64 2020 G4 CoronaVac   \n",
       "3 3        3         1       A3         1   C64 2020 G4 CoronaVac-2 \n",
       "4 4        4         1       A4         1   C64 2020 G4 CoronaVac2-2\n",
       "5 5        5         1       A5         1   C64 2020 G4 CoronaVac2-3\n",
       "6 6        6         1       A6         1   C64 2020 G4 CoronaVac2-3\n",
       "  Tube.Label         Time.sample DPFD DPSD DPTD\n",
       "1 S_PUC_C_064_(1)_G4 PRE          NA   NA  NA  \n",
       "2 S_PUC_C_064_(4)_G4 D28          29    1  NA  \n",
       "3 S_PUC_C_064_(5)_G4 D42          41   13  NA  \n",
       "4 S_PUC_C_064_(6)_G4 M3          104   76  NA  \n",
       "5 S_PUC_C_064_(7)_G4 M6          153  125  NA  \n",
       "6 S_PUC_C_064_(8)_G4 M9          153  125  NA  "
      ]
     },
     "metadata": {},
     "output_type": "display_data"
    },
    {
     "name": "stdout",
     "output_type": "stream",
     "text": [
      "'data.frame':\t522 obs. of  12 variables:\n",
      " $ PlateNum   : num  1 2 3 4 5 6 7 8 9 10 ...\n",
      " $ SampleNum  : num  1 2 3 4 5 6 7 8 9 10 ...\n",
      " $ PlateID    : num  1 1 1 1 1 1 1 1 1 1 ...\n",
      " $ PlateCoord : chr  \"A1\" \"A2\" \"A3\" \"A4\" ...\n",
      " $ BOX        : num  1 1 1 1 1 1 1 1 1 1 ...\n",
      " $ Lab.ID     : chr  \"C64 2020 G4\" \"C64 2020 G4\" \"C64 2020 G4\" \"C64 2020 G4\" ...\n",
      " $ Vaccine    : chr  \"Naive\" \"CoronaVac\" \"CoronaVac-2\" \"CoronaVac2-2\" ...\n",
      " $ Tube.Label : chr  \"S_PUC_C_064_(1)_G4\" \"S_PUC_C_064_(4)_G4\" \"S_PUC_C_064_(5)_G4\" \"S_PUC_C_064_(6)_G4\" ...\n",
      " $ Time.sample: chr  \"PRE\" \"D28\" \"D42\" \"M3 \" ...\n",
      " $ DPFD       : num  NA 29 41 104 153 153 NA 20 34 105 ...\n",
      " $ DPSD       : num  NA 1 13 76 125 125 NA NA 13 84 ...\n",
      " $ DPTD       : num  NA NA NA NA NA NA NA NA NA NA ...\n"
     ]
    }
   ],
   "source": [
    "# annotation\n",
    "cohort = read.xlsx('../data-raw/Luminex Plate Design 01052022.xlsx')[,-6] %>% \n",
    "    select(-Sample.date,-First.dose.date,-Second.dose.date,-Third.dose.date)\n",
    "head(cohort)\n",
    "str(cohort)"
   ]
  },
  {
   "cell_type": "code",
   "execution_count": 4,
   "id": "55c7293d-9e54-484e-9cb3-6125322b70b7",
   "metadata": {},
   "outputs": [
    {
     "data": {
      "text/html": [
       "<table class=\"dataframe\">\n",
       "<caption>A data.frame: 6 × 23</caption>\n",
       "<thead>\n",
       "\t<tr><th></th><th scope=col>Well</th><th scope=col>ID</th><th scope=col>WT.Spike</th><th scope=col>WT.RBD</th><th scope=col>WT.S1</th><th scope=col>WT.S2</th><th scope=col>WT.NTD</th><th scope=col>WT.N</th><th scope=col>Alpha.Spike</th><th scope=col>Alpha.RBD</th><th scope=col>...</th><th scope=col>Gamma.RBD</th><th scope=col>Delta.Spike</th><th scope=col>Delta.RBD</th><th scope=col>OC43.Spike</th><th scope=col>HKU1.Spike</th><th scope=col>HCMVgB.Antigen</th><th scope=col>Influenza.HA</th><th scope=col>EBOV.Antigen</th><th scope=col>Omicron.Spike</th><th scope=col>Omicron.RBD</th></tr>\n",
       "\t<tr><th></th><th scope=col>&lt;chr&gt;</th><th scope=col>&lt;chr&gt;</th><th scope=col>&lt;dbl&gt;</th><th scope=col>&lt;dbl&gt;</th><th scope=col>&lt;dbl&gt;</th><th scope=col>&lt;dbl&gt;</th><th scope=col>&lt;dbl&gt;</th><th scope=col>&lt;dbl&gt;</th><th scope=col>&lt;dbl&gt;</th><th scope=col>&lt;dbl&gt;</th><th scope=col>...</th><th scope=col>&lt;dbl&gt;</th><th scope=col>&lt;dbl&gt;</th><th scope=col>&lt;dbl&gt;</th><th scope=col>&lt;dbl&gt;</th><th scope=col>&lt;dbl&gt;</th><th scope=col>&lt;dbl&gt;</th><th scope=col>&lt;dbl&gt;</th><th scope=col>&lt;dbl&gt;</th><th scope=col>&lt;dbl&gt;</th><th scope=col>&lt;dbl&gt;</th></tr>\n",
       "</thead>\n",
       "<tbody>\n",
       "\t<tr><th scope=row>1</th><td>A1</td><td>Naive     </td><td> 2937.5</td><td> 4082.5</td><td>  2840.0</td><td>  4479.0</td><td> 3433.0</td><td> 3725.0</td><td> 8701</td><td> 4186.5</td><td>...</td><td> 7885.0</td><td> 6930</td><td> 3182.0</td><td>444760.5</td><td>39236.0</td><td>12530.5</td><td>11342.5</td><td>2334.0</td><td> 61164.0</td><td> 7213</td></tr>\n",
       "\t<tr><th scope=row>2</th><td>A1</td><td>Naive     </td><td> 3048.0</td><td> 5347.5</td><td>  3046.0</td><td>  5525.0</td><td> 3860.0</td><td> 4213.5</td><td>11731</td><td> 4596.0</td><td>...</td><td> 8603.5</td><td> 9905</td><td> 3986.5</td><td>581947.0</td><td>54188.0</td><td>17411.0</td><td>14172.0</td><td>2465.0</td><td> 58349.5</td><td> 6954</td></tr>\n",
       "\t<tr><th scope=row>3</th><td>A2</td><td>CoronaVac </td><td> 6176.0</td><td> 7735.5</td><td>  7286.5</td><td>  5796.0</td><td> 3689.0</td><td> 4258.0</td><td> 9620</td><td> 7753.0</td><td>...</td><td>13106.5</td><td> 8378</td><td> 5659.0</td><td>429514.0</td><td>39335.0</td><td>15290.0</td><td>11201.0</td><td>2391.5</td><td> 57606.5</td><td> 7014</td></tr>\n",
       "\t<tr><th scope=row>4</th><td>A2</td><td>CoronaVac </td><td> 8431.0</td><td>13793.0</td><td> 11505.0</td><td>  8788.5</td><td> 5283.0</td><td> 4555.0</td><td>15790</td><td>14132.0</td><td>...</td><td>17741.0</td><td>14613</td><td> 8120.0</td><td>611267.0</td><td>56594.5</td><td>25526.5</td><td>15566.0</td><td>2829.5</td><td> 51927.0</td><td> 7814</td></tr>\n",
       "\t<tr><th scope=row>5</th><td>A3</td><td>CoronaVac2</td><td>40961.0</td><td>68087.0</td><td> 83997.0</td><td> 94029.0</td><td> 8589.0</td><td>28675.5</td><td>71297</td><td>60808.0</td><td>...</td><td>61089.0</td><td>50698</td><td>41489.0</td><td>634387.0</td><td>61960.5</td><td>23383.5</td><td>15391.0</td><td>2809.0</td><td> 99618.0</td><td>14570</td></tr>\n",
       "\t<tr><th scope=row>6</th><td>A3</td><td>CoronaVac2</td><td>52132.0</td><td>91221.0</td><td>105309.5</td><td>129154.0</td><td>11048.5</td><td>40109.0</td><td>97337</td><td>74708.0</td><td>...</td><td>79250.0</td><td>77872</td><td>62227.0</td><td>783903.0</td><td>81761.5</td><td>28362.0</td><td>21152.0</td><td>3066.0</td><td>117614.0</td><td>19621</td></tr>\n",
       "</tbody>\n",
       "</table>\n"
      ],
      "text/latex": [
       "A data.frame: 6 × 23\n",
       "\\begin{tabular}{r|lllllllllllllllllllll}\n",
       "  & Well & ID & WT.Spike & WT.RBD & WT.S1 & WT.S2 & WT.NTD & WT.N & Alpha.Spike & Alpha.RBD & ... & Gamma.RBD & Delta.Spike & Delta.RBD & OC43.Spike & HKU1.Spike & HCMVgB.Antigen & Influenza.HA & EBOV.Antigen & Omicron.Spike & Omicron.RBD\\\\\n",
       "  & <chr> & <chr> & <dbl> & <dbl> & <dbl> & <dbl> & <dbl> & <dbl> & <dbl> & <dbl> & ... & <dbl> & <dbl> & <dbl> & <dbl> & <dbl> & <dbl> & <dbl> & <dbl> & <dbl> & <dbl>\\\\\n",
       "\\hline\n",
       "\t1 & A1 & Naive      &  2937.5 &  4082.5 &   2840.0 &   4479.0 &  3433.0 &  3725.0 &  8701 &  4186.5 & ... &  7885.0 &  6930 &  3182.0 & 444760.5 & 39236.0 & 12530.5 & 11342.5 & 2334.0 &  61164.0 &  7213\\\\\n",
       "\t2 & A1 & Naive      &  3048.0 &  5347.5 &   3046.0 &   5525.0 &  3860.0 &  4213.5 & 11731 &  4596.0 & ... &  8603.5 &  9905 &  3986.5 & 581947.0 & 54188.0 & 17411.0 & 14172.0 & 2465.0 &  58349.5 &  6954\\\\\n",
       "\t3 & A2 & CoronaVac  &  6176.0 &  7735.5 &   7286.5 &   5796.0 &  3689.0 &  4258.0 &  9620 &  7753.0 & ... & 13106.5 &  8378 &  5659.0 & 429514.0 & 39335.0 & 15290.0 & 11201.0 & 2391.5 &  57606.5 &  7014\\\\\n",
       "\t4 & A2 & CoronaVac  &  8431.0 & 13793.0 &  11505.0 &   8788.5 &  5283.0 &  4555.0 & 15790 & 14132.0 & ... & 17741.0 & 14613 &  8120.0 & 611267.0 & 56594.5 & 25526.5 & 15566.0 & 2829.5 &  51927.0 &  7814\\\\\n",
       "\t5 & A3 & CoronaVac2 & 40961.0 & 68087.0 &  83997.0 &  94029.0 &  8589.0 & 28675.5 & 71297 & 60808.0 & ... & 61089.0 & 50698 & 41489.0 & 634387.0 & 61960.5 & 23383.5 & 15391.0 & 2809.0 &  99618.0 & 14570\\\\\n",
       "\t6 & A3 & CoronaVac2 & 52132.0 & 91221.0 & 105309.5 & 129154.0 & 11048.5 & 40109.0 & 97337 & 74708.0 & ... & 79250.0 & 77872 & 62227.0 & 783903.0 & 81761.5 & 28362.0 & 21152.0 & 3066.0 & 117614.0 & 19621\\\\\n",
       "\\end{tabular}\n"
      ],
      "text/markdown": [
       "\n",
       "A data.frame: 6 × 23\n",
       "\n",
       "| <!--/--> | Well &lt;chr&gt; | ID &lt;chr&gt; | WT.Spike &lt;dbl&gt; | WT.RBD &lt;dbl&gt; | WT.S1 &lt;dbl&gt; | WT.S2 &lt;dbl&gt; | WT.NTD &lt;dbl&gt; | WT.N &lt;dbl&gt; | Alpha.Spike &lt;dbl&gt; | Alpha.RBD &lt;dbl&gt; | ... ... | Gamma.RBD &lt;dbl&gt; | Delta.Spike &lt;dbl&gt; | Delta.RBD &lt;dbl&gt; | OC43.Spike &lt;dbl&gt; | HKU1.Spike &lt;dbl&gt; | HCMVgB.Antigen &lt;dbl&gt; | Influenza.HA &lt;dbl&gt; | EBOV.Antigen &lt;dbl&gt; | Omicron.Spike &lt;dbl&gt; | Omicron.RBD &lt;dbl&gt; |\n",
       "|---|---|---|---|---|---|---|---|---|---|---|---|---|---|---|---|---|---|---|---|---|---|\n",
       "| 1 | A1 | Naive      |  2937.5 |  4082.5 |   2840.0 |   4479.0 |  3433.0 |  3725.0 |  8701 |  4186.5 | ... |  7885.0 |  6930 |  3182.0 | 444760.5 | 39236.0 | 12530.5 | 11342.5 | 2334.0 |  61164.0 |  7213 |\n",
       "| 2 | A1 | Naive      |  3048.0 |  5347.5 |   3046.0 |   5525.0 |  3860.0 |  4213.5 | 11731 |  4596.0 | ... |  8603.5 |  9905 |  3986.5 | 581947.0 | 54188.0 | 17411.0 | 14172.0 | 2465.0 |  58349.5 |  6954 |\n",
       "| 3 | A2 | CoronaVac  |  6176.0 |  7735.5 |   7286.5 |   5796.0 |  3689.0 |  4258.0 |  9620 |  7753.0 | ... | 13106.5 |  8378 |  5659.0 | 429514.0 | 39335.0 | 15290.0 | 11201.0 | 2391.5 |  57606.5 |  7014 |\n",
       "| 4 | A2 | CoronaVac  |  8431.0 | 13793.0 |  11505.0 |   8788.5 |  5283.0 |  4555.0 | 15790 | 14132.0 | ... | 17741.0 | 14613 |  8120.0 | 611267.0 | 56594.5 | 25526.5 | 15566.0 | 2829.5 |  51927.0 |  7814 |\n",
       "| 5 | A3 | CoronaVac2 | 40961.0 | 68087.0 |  83997.0 |  94029.0 |  8589.0 | 28675.5 | 71297 | 60808.0 | ... | 61089.0 | 50698 | 41489.0 | 634387.0 | 61960.5 | 23383.5 | 15391.0 | 2809.0 |  99618.0 | 14570 |\n",
       "| 6 | A3 | CoronaVac2 | 52132.0 | 91221.0 | 105309.5 | 129154.0 | 11048.5 | 40109.0 | 97337 | 74708.0 | ... | 79250.0 | 77872 | 62227.0 | 783903.0 | 81761.5 | 28362.0 | 21152.0 | 3066.0 | 117614.0 | 19621 |\n",
       "\n"
      ],
      "text/plain": [
       "  Well ID         WT.Spike WT.RBD  WT.S1    WT.S2    WT.NTD  WT.N   \n",
       "1 A1   Naive       2937.5   4082.5   2840.0   4479.0  3433.0  3725.0\n",
       "2 A1   Naive       3048.0   5347.5   3046.0   5525.0  3860.0  4213.5\n",
       "3 A2   CoronaVac   6176.0   7735.5   7286.5   5796.0  3689.0  4258.0\n",
       "4 A2   CoronaVac   8431.0  13793.0  11505.0   8788.5  5283.0  4555.0\n",
       "5 A3   CoronaVac2 40961.0  68087.0  83997.0  94029.0  8589.0 28675.5\n",
       "6 A3   CoronaVac2 52132.0  91221.0 105309.5 129154.0 11048.5 40109.0\n",
       "  Alpha.Spike Alpha.RBD ... Gamma.RBD Delta.Spike Delta.RBD OC43.Spike\n",
       "1  8701        4186.5   ...  7885.0    6930        3182.0   444760.5  \n",
       "2 11731        4596.0   ...  8603.5    9905        3986.5   581947.0  \n",
       "3  9620        7753.0   ... 13106.5    8378        5659.0   429514.0  \n",
       "4 15790       14132.0   ... 17741.0   14613        8120.0   611267.0  \n",
       "5 71297       60808.0   ... 61089.0   50698       41489.0   634387.0  \n",
       "6 97337       74708.0   ... 79250.0   77872       62227.0   783903.0  \n",
       "  HKU1.Spike HCMVgB.Antigen Influenza.HA EBOV.Antigen Omicron.Spike Omicron.RBD\n",
       "1 39236.0    12530.5        11342.5      2334.0        61164.0       7213      \n",
       "2 54188.0    17411.0        14172.0      2465.0        58349.5       6954      \n",
       "3 39335.0    15290.0        11201.0      2391.5        57606.5       7014      \n",
       "4 56594.5    25526.5        15566.0      2829.5        51927.0       7814      \n",
       "5 61960.5    23383.5        15391.0      2809.0        99618.0      14570      \n",
       "6 81761.5    28362.0        21152.0      3066.0       117614.0      19621      "
      ]
     },
     "metadata": {},
     "output_type": "display_data"
    }
   ],
   "source": [
    "data_template = read.xlsx('../data-raw/IgG1wholecohort.xlsx')\n",
    "head(data_template)"
   ]
  },
  {
   "cell_type": "markdown",
   "id": "b79fd479-be61-46b2-bbd3-52efa2030ba0",
   "metadata": {},
   "source": [
    "# First look at replicate quality (CV & Cor)"
   ]
  },
  {
   "cell_type": "code",
   "execution_count": 5,
   "id": "d00687f4-08a6-4f40-aabf-e1630e7745c4",
   "metadata": {
    "tags": []
   },
   "outputs": [
    {
     "name": "stderr",
     "output_type": "stream",
     "text": [
      "\u001b[1m\u001b[22m`summarise()` has grouped output by 'idx'. You can override using the `.groups` argument.\n",
      "\u001b[1m\u001b[22m`summarise()` has grouped output by 'idx', 'ID'. You can override using the `.groups` argument.\n",
      "Using cv as value column: use value.var to override.\n",
      "\n",
      "Warning message:\n",
      "\"\u001b[1m\u001b[22mRemoved 2 rows containing non-finite outside the scale range (`stat_boxplot()`).\"\n"
     ]
    },
    {
     "data": {
      "image/png": "[encoded data removed]",
      "text/plain": [
       "plot without title"
      ]
     },
     "metadata": {
      "image/png": {
       "height": 300,
       "width": 1200
      }
     },
     "output_type": "display_data"
    },
    {
     "name": "stderr",
     "output_type": "stream",
     "text": [
      "Warning message:\n",
      "\"\u001b[1m\u001b[22mRemoved 2 rows containing non-finite outside the scale range (`stat_boxplot()`).\"\n"
     ]
    },
    {
     "data": {
      "image/png": "[encoded data removed]",
      "text/plain": [
       "plot without title"
      ]
     },
     "metadata": {
      "image/png": {
       "height": 300,
       "width": 1200
      }
     },
     "output_type": "display_data"
    },
    {
     "data": {
      "text/html": [
       "<style>\n",
       ".list-inline {list-style: none; margin:0; padding: 0}\n",
       ".list-inline>li {display: inline-block}\n",
       ".list-inline>li:not(:last-child)::after {content: \"\\00b7\"; padding: 0 .5ex}\n",
       "</style>\n",
       "<ol class=list-inline><li>602</li><li>24</li></ol>\n"
      ],
      "text/latex": [
       "\\begin{enumerate*}\n",
       "\\item 602\n",
       "\\item 24\n",
       "\\end{enumerate*}\n"
      ],
      "text/markdown": [
       "1. 602\n",
       "2. 24\n",
       "\n",
       "\n"
      ],
      "text/plain": [
       "[1] 602  24"
      ]
     },
     "metadata": {},
     "output_type": "display_data"
    },
    {
     "data": {
      "image/png": "[encoded data removed]",
      "text/plain": [
       "plot without title"
      ]
     },
     "metadata": {
      "image/png": {
       "height": 300,
       "width": 1200
      }
     },
     "output_type": "display_data"
    },
    {
     "data": {
      "image/png": "[encoded data removed]",
      "text/plain": [
       "Plot with title \"Color Key\n",
       "and Histogram\""
      ]
     },
     "metadata": {
      "image/png": {
       "height": 300,
       "width": 1200
      }
     },
     "output_type": "display_data"
    }
   ],
   "source": [
    "cr_method='spearman'\n",
    "# cv_cr<-function(data_template){\n",
    "    tmp=cbind(idx=rep(1:(nrow(data_template)/2),each=2),rep=c('r1','r2'),data_template) %>%\n",
    "        melt(id.vars = c('idx','rep','Well','ID')) %>% dcast(idx+variable+ID~rep) %>%\n",
    "            rowwise() %>% \n",
    "            mutate(\n",
    "                mn=mean(c(r1,r2)),\n",
    "                sd=sd(c(r1,r2))\n",
    "            ) \n",
    "    \n",
    "    cr=tmp %>% group_by(idx,ID) %>% \n",
    "                summarise(\n",
    "                    cr=cor(r1,r2,method=cr_method)\n",
    "                ) %>% mutate( ID2 = gsub('-|[0-9].*','',ID) )\n",
    "# }\n",
    "# cr\n",
    "# hist(cr$cr,plot = F)\n",
    "options(repr.plot.width=20,repr.plot.height=5)\n",
    "# hist(cr$cr,plot = T,breaks = 40)\n",
    "ggplot(cr,aes(x=ID2,y=cr))+geom_boxplot()+theme_bw(base_size=20)+ylab(paste0(cr_method,' correlation'))+geom_hline(yintercept = .95)\n",
    "\n",
    "\n",
    "########\n",
    "\n",
    "cv=tmp %>% group_by(idx,ID,variable) %>% \n",
    "            summarise(\n",
    "                cv=(sd/mn)\n",
    "            ) %>% dcast( idx+ID~variable) %>% mutate( ID2 = gsub('-|[0-9].*','',ID) )\n",
    "    # column_to_rownames(idx) %>% t() \n",
    "row.names(cv) = paste( cv$idx,cv$ID)\n",
    "\n",
    "# head(cv)\n",
    "\n",
    "ggplot(cv,aes(x=ID2,y=rowMeans(data.matrix(cv[,-c(1:2)]))))+geom_boxplot()+theme_bw(base_size=20)+ylab('Mean CV by patient across antigens')\n",
    "\n",
    "\n",
    "ggplot(cv,aes(x=ID2,y=rowSums(data.matrix(cv[,-c(1:2)])<0.3)))+geom_boxplot()+theme_bw(base_size=20)+ylab('Number of passing CV (antigen/sample)')\n",
    "# ggplot(cv,aes(x=ID2,y=colSums(data.matrix(cv[,-c(1:2)])<0.3)))+geom_boxplot()+theme_bw(base_size=20)+ylab('Number of passing CV (sample/antigen)')\n",
    "\n",
    "dim(cv)\n",
    "options(repr.plot.width=20,repr.plot.height=5)\n",
    "# pdf('../data-final/00-cv.pdf',width=30)\n",
    "gplots::heatmap.2(t(data.matrix(cv[ !grepl('PBS',cv$ID2) ,-c(1,2,ncol(cv))])),trace='none',margins=c(10,10),col=topo.colors)\n",
    "gplots::heatmap.2(t(data.matrix(cv[ !grepl('PBS',cv$ID2) ,-c(1,2,ncol(cv))])),trace='none',margins=c(10,10),col=topo.colors)\n",
    "# dev.off()\n",
    "\n"
   ]
  },
  {
   "cell_type": "code",
   "execution_count": 6,
   "id": "3699fab3-e026-454f-8ecf-114fea78d561",
   "metadata": {},
   "outputs": [],
   "source": [
    "# head(cv)\n",
    "# melt(cv,id.vars=c('ID','ID2','idx')) %>% filter(ID!='PBS')  %>% arrange(-value)"
   ]
  },
  {
   "cell_type": "code",
   "execution_count": 7,
   "id": "61cfb00a-c9b2-49b7-b36f-f8461f7187fc",
   "metadata": {},
   "outputs": [
    {
     "data": {
      "image/png": "[encoded data removed]",
      "text/plain": [
       "plot without title"
      ]
     },
     "metadata": {
      "image/png": {
       "height": 300,
       "width": 1200
      }
     },
     "output_type": "display_data"
    }
   ],
   "source": [
    "boxplot(data.matrix(cv[ !grepl('PBS',cv$ID2) ,-c(1,2,ncol(cv))]),las=2)"
   ]
  },
  {
   "cell_type": "markdown",
   "id": "480dc9cb-d07d-48e5-8dc1-53df383e183a",
   "metadata": {},
   "source": [
    "# Filter 1: QC"
   ]
  },
  {
   "cell_type": "code",
   "execution_count": 8,
   "id": "c86774ac-aab5-4427-a765-b15661fad109",
   "metadata": {},
   "outputs": [
    {
     "data": {
      "text/html": [
       "<style>\n",
       ".list-inline {list-style: none; margin:0; padding: 0}\n",
       ".list-inline>li {display: inline-block}\n",
       ".list-inline>li:not(:last-child)::after {content: \"\\00b7\"; padding: 0 .5ex}\n",
       "</style>\n",
       "<ol class=list-inline><li>1</li><li>1</li><li>2</li><li>2</li><li>3</li><li>3</li><li>4</li><li>4</li><li>5</li><li>5</li><li>6</li><li>6</li><li>7</li><li>7</li><li>8</li><li>8</li><li>9</li><li>9</li><li>10</li><li>10</li></ol>\n"
      ],
      "text/latex": [
       "\\begin{enumerate*}\n",
       "\\item 1\n",
       "\\item 1\n",
       "\\item 2\n",
       "\\item 2\n",
       "\\item 3\n",
       "\\item 3\n",
       "\\item 4\n",
       "\\item 4\n",
       "\\item 5\n",
       "\\item 5\n",
       "\\item 6\n",
       "\\item 6\n",
       "\\item 7\n",
       "\\item 7\n",
       "\\item 8\n",
       "\\item 8\n",
       "\\item 9\n",
       "\\item 9\n",
       "\\item 10\n",
       "\\item 10\n",
       "\\end{enumerate*}\n"
      ],
      "text/markdown": [
       "1. 1\n",
       "2. 1\n",
       "3. 2\n",
       "4. 2\n",
       "5. 3\n",
       "6. 3\n",
       "7. 4\n",
       "8. 4\n",
       "9. 5\n",
       "10. 5\n",
       "11. 6\n",
       "12. 6\n",
       "13. 7\n",
       "14. 7\n",
       "15. 8\n",
       "16. 8\n",
       "17. 9\n",
       "18. 9\n",
       "19. 10\n",
       "20. 10\n",
       "\n",
       "\n"
      ],
      "text/plain": [
       " [1]  1  1  2  2  3  3  4  4  5  5  6  6  7  7  8  8  9  9 10 10"
      ]
     },
     "metadata": {},
     "output_type": "display_data"
    }
   ],
   "source": [
    "rep(1:10,each=2)"
   ]
  },
  {
   "cell_type": "code",
   "execution_count": 9,
   "id": "cacb04dd-4974-4c62-9fa3-891d1a9c18e2",
   "metadata": {},
   "outputs": [],
   "source": [
    "# head(r)\n",
    "\n",
    "# QC function: \n",
    "# input\n",
    "# x; data.frame, columns 1-2 annotation, remaining columns are data, samples in rows (rep1, odd rows; rep2, even rows)\n",
    "qc<-function(x,cv_thresh=0.3,r_thresh=0){\n",
    "    # check samples\n",
    "    rep1=seq(1,nrow(x),2)\n",
    "    rep2=seq(2,nrow(x),2)\n",
    "    if(!all(x$ID[rep1]==x$ID[rep2])){stop('not all replicates are aligned')}\n",
    "\n",
    "    # cv = x\n",
    "    \n",
    "    # cv\n",
    "    cv_cnt=c(0,0)\n",
    "    for(i in 3:ncol(x)){\n",
    "        ri=cbind(x[rep1,i],x[rep2,i])\n",
    "        # print(cbind( apply(ri,1,sd,na.rm=T),apply(ri,1,mean,na.rm=T), \n",
    "        #             apply(ri,1,sd,na.rm=T)/apply(ri,1,mean,na.rm=T)))\n",
    "        cv_i = (apply(ri,1,sd,na.rm=T)/apply(ri,1,mean,na.rm=T))\n",
    "        # idx=cv_i>cv_thresh ### old\n",
    "        idx=rep((cv_i>cv_thresh),each=2) ### new 3/5/2024\n",
    "        idx[is.na(idx)]=F # if NA, then keep remaining measurment\n",
    "        # print(idx)\n",
    "        x[idx,i] = NA # mask all measurements that failed cv \n",
    "        # cv[,i] = cv_i\n",
    "        cv_cnt=c(cv_cnt[1]+sum(idx),cv_cnt[2]+length(x[,i]))\n",
    "    }\n",
    "    \n",
    "    # correlation\n",
    "    cr_cnt=c(0,0)\n",
    "    for(i in rep1){\n",
    "        mi=t(rbind(x[i,-(1:2)],x[i+1,-(1:2)]))\n",
    "        # print(mi)\n",
    "        cri=cor(mi[,1],mi[,2], use = \"pairwise.complete.obs\")\n",
    "        if(is.na(cri)){cri=0}\n",
    "        if(cri<r_thresh){ # cr thresh failed\n",
    "            x[i,-(1:2)]=NA; x[i+1,-(1:2)]=NA # mask sample\n",
    "            cr_cnt[1]=cr_cnt[1]+1\n",
    "        }\n",
    "        cr_cnt[2]=cr_cnt[2]+1\n",
    "    }\n",
    "    print(paste( 'CV filter removed:',cv_cnt[1],'of',cv_cnt[2],\n",
    "                'obs.\\nCor filter removed:',cr_cnt[1],'of',cr_cnt[2],'samples.'))\n",
    "    # return(list(x,cv))\n",
    "    return(x)\n",
    "}"
   ]
  },
  {
   "cell_type": "markdown",
   "id": "ea945e88-cd45-4f43-ab5f-f9a48b6d5d13",
   "metadata": {},
   "source": [
    "# Load luminex data"
   ]
  },
  {
   "cell_type": "code",
   "execution_count": null,
   "id": "2dda983c-2f35-407d-a685-fdef1bac7020",
   "metadata": {},
   "outputs": [],
   "source": []
  },
  {
   "cell_type": "code",
   "execution_count": 10,
   "id": "dd129e88-1390-4b2e-9303-81fd23425212",
   "metadata": {
    "scrolled": true,
    "tags": []
   },
   "outputs": [
    {
     "name": "stdout",
     "output_type": "stream",
     "text": [
      "[1] \"C1q\"\n",
      "[1] \"CV filter removed: 1690 of 21924 obs.\\nCor filter removed: 0 of 522 samples.\"\n",
      "[1] \"CV filter removed: 1690 of 21924 obs.\\nCor filter removed: 0 of 522 samples.\"\n",
      "[1] \"IgA1\"\n",
      "[1] \"CV filter removed: 82 of 21924 obs.\\nCor filter removed: 0 of 522 samples.\"\n",
      "[1] \"CV filter removed: 82 of 21924 obs.\\nCor filter removed: 0 of 522 samples.\"\n",
      "[1] \"IgG1\"\n",
      "[1] \"CV filter removed: 3146 of 21924 obs.\\nCor filter removed: 0 of 522 samples.\"\n",
      "[1] \"CV filter removed: 3146 of 21924 obs.\\nCor filter removed: 0 of 522 samples.\"\n",
      "[1] \"IgG2\"\n",
      "[1] \"CV filter removed: 90 of 21924 obs.\\nCor filter removed: 0 of 522 samples.\"\n",
      "[1] \"CV filter removed: 90 of 21924 obs.\\nCor filter removed: 0 of 522 samples.\"\n",
      "[1] \"IgG3\"\n",
      "[1] \"CV filter removed: 58 of 21924 obs.\\nCor filter removed: 0 of 522 samples.\"\n",
      "[1] \"CV filter removed: 58 of 21924 obs.\\nCor filter removed: 0 of 522 samples.\"\n",
      "[1] \"IgG4\"\n",
      "[1] \"CV filter removed: 2 of 21924 obs.\\nCor filter removed: 0 of 522 samples.\"\n",
      "[1] \"CV filter removed: 2 of 21924 obs.\\nCor filter removed: 0 of 522 samples.\"\n",
      "[1] \"IgM\"\n",
      "[1] \"CV filter removed: 114 of 21924 obs.\\nCor filter removed: 0 of 522 samples.\"\n",
      "[1] \"CV filter removed: 114 of 21924 obs.\\nCor filter removed: 0 of 522 samples.\"\n",
      "[1] \"R2a\"\n",
      "[1] \"CV filter removed: 840 of 21924 obs.\\nCor filter removed: 0 of 522 samples.\"\n",
      "[1] \"CV filter removed: 840 of 21924 obs.\\nCor filter removed: 0 of 522 samples.\"\n",
      "[1] \"R2b\"\n",
      "[1] \"CV filter removed: 1464 of 21924 obs.\\nCor filter removed: 0 of 522 samples.\"\n",
      "[1] \"CV filter removed: 1464 of 21924 obs.\\nCor filter removed: 0 of 522 samples.\"\n",
      "[1] \"R3av\"\n",
      "[1] \"CV filter removed: 592 of 21924 obs.\\nCor filter removed: 0 of 522 samples.\"\n",
      "[1] \"CV filter removed: 592 of 21924 obs.\\nCor filter removed: 0 of 522 samples.\"\n",
      "[1] \"R3b\"\n",
      "[1] \"CV filter removed: 620 of 21924 obs.\\nCor filter removed: 0 of 522 samples.\"\n",
      "[1] \"CV filter removed: 620 of 21924 obs.\\nCor filter removed: 0 of 522 samples.\"\n"
     ]
    },
    {
     "name": "stderr",
     "output_type": "stream",
     "text": [
      "\u001b[1m\u001b[22mJoining with `by = join_by(PlateNum, SampleNum, PlateID, PlateCoord, Well, ID, BOX, Lab.ID, Vaccine, Tube.Label,\n",
      "Time.sample, DPFD, DPSD, DPTD, order, vaccine, group)`\n",
      "\u001b[1m\u001b[22mJoining with `by = join_by(PlateNum, SampleNum, PlateID, PlateCoord, Well, ID, BOX, Lab.ID, Vaccine, Tube.Label,\n",
      "Time.sample, DPFD, DPSD, DPTD, order, vaccine, group)`\n",
      "\u001b[1m\u001b[22mJoining with `by = join_by(PlateNum, SampleNum, PlateID, PlateCoord, Well, ID, BOX, Lab.ID, Vaccine, Tube.Label,\n",
      "Time.sample, DPFD, DPSD, DPTD, order, vaccine, group)`\n",
      "\u001b[1m\u001b[22mJoining with `by = join_by(PlateNum, SampleNum, PlateID, PlateCoord, Well, ID, BOX, Lab.ID, Vaccine, Tube.Label,\n",
      "Time.sample, DPFD, DPSD, DPTD, order, vaccine, group)`\n",
      "\u001b[1m\u001b[22mJoining with `by = join_by(PlateNum, SampleNum, PlateID, PlateCoord, Well, ID, BOX, Lab.ID, Vaccine, Tube.Label,\n",
      "Time.sample, DPFD, DPSD, DPTD, order, vaccine, group)`\n",
      "\u001b[1m\u001b[22mJoining with `by = join_by(PlateNum, SampleNum, PlateID, PlateCoord, Well, ID, BOX, Lab.ID, Vaccine, Tube.Label,\n",
      "Time.sample, DPFD, DPSD, DPTD, order, vaccine, group)`\n",
      "\u001b[1m\u001b[22mJoining with `by = join_by(PlateNum, SampleNum, PlateID, PlateCoord, Well, ID, BOX, Lab.ID, Vaccine, Tube.Label,\n",
      "Time.sample, DPFD, DPSD, DPTD, order, vaccine, group)`\n",
      "\u001b[1m\u001b[22mJoining with `by = join_by(PlateNum, SampleNum, PlateID, PlateCoord, Well, ID, BOX, Lab.ID, Vaccine, Tube.Label,\n",
      "Time.sample, DPFD, DPSD, DPTD, order, vaccine, group)`\n",
      "\u001b[1m\u001b[22mJoining with `by = join_by(PlateNum, SampleNum, PlateID, PlateCoord, Well, ID, BOX, Lab.ID, Vaccine, Tube.Label,\n",
      "Time.sample, DPFD, DPSD, DPTD, order, vaccine, group)`\n",
      "\u001b[1m\u001b[22mJoining with `by = join_by(PlateNum, SampleNum, PlateID, PlateCoord, Well, ID, BOX, Lab.ID, Vaccine, Tube.Label,\n",
      "Time.sample, DPFD, DPSD, DPTD, order, vaccine, group)`\n",
      "\u001b[1m\u001b[22mJoining with `by = join_by(PlateNum, SampleNum, PlateID, PlateCoord, Well, ID, BOX, Lab.ID, Vaccine, Tube.Label,\n",
      "Time.sample, DPFD, DPSD, DPTD, order, vaccine, group)`\n",
      "\u001b[1m\u001b[22mJoining with `by = join_by(PlateNum, SampleNum, PlateID, PlateCoord, Well, ID, BOX, Lab.ID, Vaccine, Tube.Label,\n",
      "Time.sample, DPFD, DPSD, DPTD, order, vaccine, group)`\n",
      "\u001b[1m\u001b[22mJoining with `by = join_by(PlateNum, SampleNum, PlateID, PlateCoord, Well, ID, BOX, Lab.ID, Vaccine, Tube.Label,\n",
      "Time.sample, DPFD, DPSD, DPTD, order, vaccine, group)`\n",
      "\u001b[1m\u001b[22mJoining with `by = join_by(PlateNum, SampleNum, PlateID, PlateCoord, Well, ID, BOX, Lab.ID, Vaccine, Tube.Label,\n",
      "Time.sample, DPFD, DPSD, DPTD, order, vaccine, group)`\n",
      "\u001b[1m\u001b[22mJoining with `by = join_by(PlateNum, SampleNum, PlateID, PlateCoord, Well, ID, BOX, Lab.ID, Vaccine, Tube.Label,\n",
      "Time.sample, DPFD, DPSD, DPTD, order, vaccine, group)`\n",
      "\u001b[1m\u001b[22mJoining with `by = join_by(PlateNum, SampleNum, PlateID, PlateCoord, Well, ID, BOX, Lab.ID, Vaccine, Tube.Label,\n",
      "Time.sample, DPFD, DPSD, DPTD, order, vaccine, group)`\n",
      "\u001b[1m\u001b[22mJoining with `by = join_by(PlateNum, SampleNum, PlateID, PlateCoord, Well, ID, BOX, Lab.ID, Vaccine, Tube.Label,\n",
      "Time.sample, DPFD, DPSD, DPTD, order, vaccine, group)`\n",
      "\u001b[1m\u001b[22mJoining with `by = join_by(PlateNum, SampleNum, PlateID, PlateCoord, Well, ID, BOX, Lab.ID, Vaccine, Tube.Label,\n",
      "Time.sample, DPFD, DPSD, DPTD, order, vaccine, group)`\n",
      "\u001b[1m\u001b[22mJoining with `by = join_by(PlateNum, SampleNum, PlateID, PlateCoord, Well, ID, BOX, Lab.ID, Vaccine, Tube.Label,\n",
      "Time.sample, DPFD, DPSD, DPTD, order, vaccine, group)`\n",
      "\u001b[1m\u001b[22mJoining with `by = join_by(PlateNum, SampleNum, PlateID, PlateCoord, Well, ID, BOX, Lab.ID, Vaccine, Tube.Label,\n",
      "Time.sample, DPFD, DPSD, DPTD, order, vaccine, group)`\n"
     ]
    },
    {
     "data": {
      "text/html": [
       "<table class=\"dataframe\">\n",
       "<caption>A grouped_df: 6 × 33</caption>\n",
       "<thead>\n",
       "\t<tr><th scope=col>ID</th><th scope=col>BOX</th><th scope=col>Lab.ID</th><th scope=col>Vaccine</th><th scope=col>Tube.Label</th><th scope=col>Time.sample</th><th scope=col>DPFD</th><th scope=col>DPSD</th><th scope=col>DPTD</th><th scope=col>order</th><th scope=col>...</th><th scope=col>Delta.RBD.R3b</th><th scope=col>OC43.Spike.R3b</th><th scope=col>HKU1.Spike.R3b</th><th scope=col>HCMVgB.Antigen.R3b</th><th scope=col>Influenza.HA.R3b</th><th scope=col>EBOV.Antigen.R3b</th><th scope=col>Omicron.Spike.R3b</th><th scope=col>Omicron.RBD.R3b</th><th scope=col>vaccine</th><th scope=col>group</th></tr>\n",
       "\t<tr><th scope=col>&lt;chr&gt;</th><th scope=col>&lt;dbl&gt;</th><th scope=col>&lt;chr&gt;</th><th scope=col>&lt;chr&gt;</th><th scope=col>&lt;chr&gt;</th><th scope=col>&lt;chr&gt;</th><th scope=col>&lt;dbl&gt;</th><th scope=col>&lt;dbl&gt;</th><th scope=col>&lt;dbl&gt;</th><th scope=col>&lt;dbl&gt;</th><th scope=col>...</th><th scope=col>&lt;dbl&gt;</th><th scope=col>&lt;dbl&gt;</th><th scope=col>&lt;dbl&gt;</th><th scope=col>&lt;dbl&gt;</th><th scope=col>&lt;dbl&gt;</th><th scope=col>&lt;dbl&gt;</th><th scope=col>&lt;dbl&gt;</th><th scope=col>&lt;dbl&gt;</th><th scope=col>&lt;chr&gt;</th><th scope=col>&lt;chr&gt;</th></tr>\n",
       "</thead>\n",
       "<tbody>\n",
       "\t<tr><td>Naive            </td><td>1</td><td>C64 2020 G4 </td><td>Naive    </td><td>S_PUC_C_064_(1)_G4</td><td>PRE </td><td>NaN</td><td>NaN</td><td>NaN</td><td>  1.5</td><td>...</td><td>  1.040095</td><td>22.8923047</td><td> 1.042546</td><td> 0.9851430</td><td>0.6880567</td><td>0.9717149</td><td>1.3648657</td><td>1.0333011</td><td>Naive            </td><td>C</td></tr>\n",
       "\t<tr><td>Naive            </td><td>2</td><td>C94 2021 G4 </td><td>Naive    </td><td>S_PUC_C_094_(1)_G4</td><td>PRE </td><td>NaN</td><td>NaN</td><td>NaN</td><td>169.5</td><td>...</td><td>  1.027064</td><td> 0.9427222</td><td> 1.006665</td><td>21.0231786</td><td>1.0155590</td><td>0.9767264</td><td>0.5078688</td><td>0.9790659</td><td>Naive            </td><td>C</td></tr>\n",
       "\t<tr><td>CoronaVac2+Pfizer</td><td>3</td><td>C114 2021 G4</td><td>BNT162b2 </td><td>S_PUC_C_114_(3)_G4</td><td>M9  </td><td>231</td><td>203</td><td> 14</td><td>337.5</td><td>...</td><td>119.380262</td><td> 1.1062067</td><td> 1.010998</td><td> 0.7071679</td><td>0.8272902</td><td>1.0344007</td><td>1.1627623</td><td>      NaN</td><td>CoronaVac2+Pfizer</td><td>C</td></tr>\n",
       "\t<tr><td>Hosp-1           </td><td>4</td><td>p10 2020 G4 </td><td>NA       </td><td>S_PUC_H_010_(1)_G4</td><td>D21 </td><td> 18</td><td>NaN</td><td>NaN</td><td>505.5</td><td>...</td><td>150.422635</td><td>81.8033784</td><td>16.595090</td><td>17.3015319</td><td>1.6694776</td><td>1.1725134</td><td>0.7731649</td><td>1.9472848</td><td>Hosp             </td><td>p</td></tr>\n",
       "\t<tr><td>HospCoronaVac2-5 </td><td>5</td><td>p117 2020 G4</td><td>CoronaVac</td><td>S_PUC_H_117_(3)_G4</td><td>M6 v</td><td>356</td><td>175</td><td>146</td><td>673.5</td><td>...</td><td>  1.645708</td><td> 5.5744612</td><td> 1.221951</td><td> 3.0875659</td><td>0.5373195</td><td>1.0814576</td><td>0.7835256</td><td>1.0724748</td><td>HospCoronaVac    </td><td>p</td></tr>\n",
       "\t<tr><td>Out-5            </td><td>6</td><td>op39 2020 G4</td><td>NA       </td><td>S_PUC_O_039_(1)_G4</td><td>M3  </td><td>140</td><td>NaN</td><td>NaN</td><td>841.5</td><td>...</td><td>  1.015309</td><td> 2.4876060</td><td> 1.227561</td><td> 0.6906088</td><td>0.5526919</td><td>1.0729636</td><td>0.5989862</td><td>1.0329556</td><td>Out              </td><td>o</td></tr>\n",
       "</tbody>\n",
       "</table>\n"
      ],
      "text/latex": [
       "A grouped\\_df: 6 × 33\n",
       "\\begin{tabular}{lllllllllllllllllllll}\n",
       " ID & BOX & Lab.ID & Vaccine & Tube.Label & Time.sample & DPFD & DPSD & DPTD & order & ... & Delta.RBD.R3b & OC43.Spike.R3b & HKU1.Spike.R3b & HCMVgB.Antigen.R3b & Influenza.HA.R3b & EBOV.Antigen.R3b & Omicron.Spike.R3b & Omicron.RBD.R3b & vaccine & group\\\\\n",
       " <chr> & <dbl> & <chr> & <chr> & <chr> & <chr> & <dbl> & <dbl> & <dbl> & <dbl> & ... & <dbl> & <dbl> & <dbl> & <dbl> & <dbl> & <dbl> & <dbl> & <dbl> & <chr> & <chr>\\\\\n",
       "\\hline\n",
       "\t Naive             & 1 & C64 2020 G4  & Naive     & S\\_PUC\\_C\\_064\\_(1)\\_G4 & PRE  & NaN & NaN & NaN &   1.5 & ... &   1.040095 & 22.8923047 &  1.042546 &  0.9851430 & 0.6880567 & 0.9717149 & 1.3648657 & 1.0333011 & Naive             & C\\\\\n",
       "\t Naive             & 2 & C94 2021 G4  & Naive     & S\\_PUC\\_C\\_094\\_(1)\\_G4 & PRE  & NaN & NaN & NaN & 169.5 & ... &   1.027064 &  0.9427222 &  1.006665 & 21.0231786 & 1.0155590 & 0.9767264 & 0.5078688 & 0.9790659 & Naive             & C\\\\\n",
       "\t CoronaVac2+Pfizer & 3 & C114 2021 G4 & BNT162b2  & S\\_PUC\\_C\\_114\\_(3)\\_G4 & M9   & 231 & 203 &  14 & 337.5 & ... & 119.380262 &  1.1062067 &  1.010998 &  0.7071679 & 0.8272902 & 1.0344007 & 1.1627623 &       NaN & CoronaVac2+Pfizer & C\\\\\n",
       "\t Hosp-1            & 4 & p10 2020 G4  & NA        & S\\_PUC\\_H\\_010\\_(1)\\_G4 & D21  &  18 & NaN & NaN & 505.5 & ... & 150.422635 & 81.8033784 & 16.595090 & 17.3015319 & 1.6694776 & 1.1725134 & 0.7731649 & 1.9472848 & Hosp              & p\\\\\n",
       "\t HospCoronaVac2-5  & 5 & p117 2020 G4 & CoronaVac & S\\_PUC\\_H\\_117\\_(3)\\_G4 & M6 v & 356 & 175 & 146 & 673.5 & ... &   1.645708 &  5.5744612 &  1.221951 &  3.0875659 & 0.5373195 & 1.0814576 & 0.7835256 & 1.0724748 & HospCoronaVac     & p\\\\\n",
       "\t Out-5             & 6 & op39 2020 G4 & NA        & S\\_PUC\\_O\\_039\\_(1)\\_G4 & M3   & 140 & NaN & NaN & 841.5 & ... &   1.015309 &  2.4876060 &  1.227561 &  0.6906088 & 0.5526919 & 1.0729636 & 0.5989862 & 1.0329556 & Out               & o\\\\\n",
       "\\end{tabular}\n"
      ],
      "text/markdown": [
       "\n",
       "A grouped_df: 6 × 33\n",
       "\n",
       "| ID &lt;chr&gt; | BOX &lt;dbl&gt; | Lab.ID &lt;chr&gt; | Vaccine &lt;chr&gt; | Tube.Label &lt;chr&gt; | Time.sample &lt;chr&gt; | DPFD &lt;dbl&gt; | DPSD &lt;dbl&gt; | DPTD &lt;dbl&gt; | order &lt;dbl&gt; | ... ... | Delta.RBD.R3b &lt;dbl&gt; | OC43.Spike.R3b &lt;dbl&gt; | HKU1.Spike.R3b &lt;dbl&gt; | HCMVgB.Antigen.R3b &lt;dbl&gt; | Influenza.HA.R3b &lt;dbl&gt; | EBOV.Antigen.R3b &lt;dbl&gt; | Omicron.Spike.R3b &lt;dbl&gt; | Omicron.RBD.R3b &lt;dbl&gt; | vaccine &lt;chr&gt; | group &lt;chr&gt; |\n",
       "|---|---|---|---|---|---|---|---|---|---|---|---|---|---|---|---|---|---|---|---|---|\n",
       "| Naive             | 1 | C64 2020 G4  | Naive     | S_PUC_C_064_(1)_G4 | PRE  | NaN | NaN | NaN |   1.5 | ... |   1.040095 | 22.8923047 |  1.042546 |  0.9851430 | 0.6880567 | 0.9717149 | 1.3648657 | 1.0333011 | Naive             | C |\n",
       "| Naive             | 2 | C94 2021 G4  | Naive     | S_PUC_C_094_(1)_G4 | PRE  | NaN | NaN | NaN | 169.5 | ... |   1.027064 |  0.9427222 |  1.006665 | 21.0231786 | 1.0155590 | 0.9767264 | 0.5078688 | 0.9790659 | Naive             | C |\n",
       "| CoronaVac2+Pfizer | 3 | C114 2021 G4 | BNT162b2  | S_PUC_C_114_(3)_G4 | M9   | 231 | 203 |  14 | 337.5 | ... | 119.380262 |  1.1062067 |  1.010998 |  0.7071679 | 0.8272902 | 1.0344007 | 1.1627623 |       NaN | CoronaVac2+Pfizer | C |\n",
       "| Hosp-1            | 4 | p10 2020 G4  | NA        | S_PUC_H_010_(1)_G4 | D21  |  18 | NaN | NaN | 505.5 | ... | 150.422635 | 81.8033784 | 16.595090 | 17.3015319 | 1.6694776 | 1.1725134 | 0.7731649 | 1.9472848 | Hosp              | p |\n",
       "| HospCoronaVac2-5  | 5 | p117 2020 G4 | CoronaVac | S_PUC_H_117_(3)_G4 | M6 v | 356 | 175 | 146 | 673.5 | ... |   1.645708 |  5.5744612 |  1.221951 |  3.0875659 | 0.5373195 | 1.0814576 | 0.7835256 | 1.0724748 | HospCoronaVac     | p |\n",
       "| Out-5             | 6 | op39 2020 G4 | NA        | S_PUC_O_039_(1)_G4 | M3   | 140 | NaN | NaN | 841.5 | ... |   1.015309 |  2.4876060 |  1.227561 |  0.6906088 | 0.5526919 | 1.0729636 | 0.5989862 | 1.0329556 | Out               | o |\n",
       "\n"
      ],
      "text/plain": [
       "  ID                BOX Lab.ID       Vaccine   Tube.Label         Time.sample\n",
       "1 Naive             1   C64 2020 G4  Naive     S_PUC_C_064_(1)_G4 PRE        \n",
       "2 Naive             2   C94 2021 G4  Naive     S_PUC_C_094_(1)_G4 PRE        \n",
       "3 CoronaVac2+Pfizer 3   C114 2021 G4 BNT162b2  S_PUC_C_114_(3)_G4 M9         \n",
       "4 Hosp-1            4   p10 2020 G4  NA        S_PUC_H_010_(1)_G4 D21        \n",
       "5 HospCoronaVac2-5  5   p117 2020 G4 CoronaVac S_PUC_H_117_(3)_G4 M6 v       \n",
       "6 Out-5             6   op39 2020 G4 NA        S_PUC_O_039_(1)_G4 M3         \n",
       "  DPFD DPSD DPTD order ... Delta.RBD.R3b OC43.Spike.R3b HKU1.Spike.R3b\n",
       "1 NaN  NaN  NaN    1.5 ...   1.040095    22.8923047      1.042546     \n",
       "2 NaN  NaN  NaN  169.5 ...   1.027064     0.9427222      1.006665     \n",
       "3 231  203   14  337.5 ... 119.380262     1.1062067      1.010998     \n",
       "4  18  NaN  NaN  505.5 ... 150.422635    81.8033784     16.595090     \n",
       "5 356  175  146  673.5 ...   1.645708     5.5744612      1.221951     \n",
       "6 140  NaN  NaN  841.5 ...   1.015309     2.4876060      1.227561     \n",
       "  HCMVgB.Antigen.R3b Influenza.HA.R3b EBOV.Antigen.R3b Omicron.Spike.R3b\n",
       "1  0.9851430         0.6880567        0.9717149        1.3648657        \n",
       "2 21.0231786         1.0155590        0.9767264        0.5078688        \n",
       "3  0.7071679         0.8272902        1.0344007        1.1627623        \n",
       "4 17.3015319         1.6694776        1.1725134        0.7731649        \n",
       "5  3.0875659         0.5373195        1.0814576        0.7835256        \n",
       "6  0.6906088         0.5526919        1.0729636        0.5989862        \n",
       "  Omicron.RBD.R3b vaccine           group\n",
       "1 1.0333011       Naive             C    \n",
       "2 0.9790659       Naive             C    \n",
       "3       NaN       CoronaVac2+Pfizer C    \n",
       "4 1.9472848       Hosp              p    \n",
       "5 1.0724748       HospCoronaVac     p    \n",
       "6 1.0329556       Out               o    "
      ]
     },
     "metadata": {},
     "output_type": "display_data"
    },
    {
     "data": {
      "text/html": [
       "<style>\n",
       ".list-inline {list-style: none; margin:0; padding: 0}\n",
       ".list-inline>li {display: inline-block}\n",
       ".list-inline>li:not(:last-child)::after {content: \"\\00b7\"; padding: 0 .5ex}\n",
       "</style>\n",
       "<ol class=list-inline><li>522</li><li>38</li></ol>\n"
      ],
      "text/latex": [
       "\\begin{enumerate*}\n",
       "\\item 522\n",
       "\\item 38\n",
       "\\end{enumerate*}\n"
      ],
      "text/markdown": [
       "1. 522\n",
       "2. 38\n",
       "\n",
       "\n"
      ],
      "text/plain": [
       "[1] 522  38"
      ]
     },
     "metadata": {},
     "output_type": "display_data"
    }
   ],
   "source": [
    "fls = list.files('../data-raw/',pattern='*cohort.xlsx',full.names = T)\n",
    "\n",
    "out = list()\n",
    "out_raw=list()\n",
    "\n",
    "all_data_vars = c()\n",
    "\n",
    "check=list()\n",
    "\n",
    "for(f in fls){\n",
    "\n",
    "    n = gsub('.*raw/','',gsub('whole.*','',f))\n",
    "    print(n)\n",
    "        if(grepl('^~',n)){next}\n",
    "    \n",
    "    # read data\n",
    "    r = read.xlsx(f)\n",
    "    is.phago = grepl('^A',n)\n",
    "    if(is.phago){next}\n",
    "\n",
    "    \n",
    "    ## fix colnames\n",
    "    colnames(r) = colnames(data_template)\n",
    "\n",
    "    r = r[1:nrow(data_template),]\n",
    "    r[,1:2] = data_template[,1:2]\n",
    "    annotation_i = rbind(cohort,cohort) %>% arrange(SampleNum)\n",
    "    annotation_i$order = 1:nrow(annotation_i)\n",
    "\n",
    "    \n",
    "    PBS =     r %>% filter(ID == 'PBS')\n",
    "    luminex = r %>% filter(ID != 'PBS') \n",
    "\n",
    "    # run QC\n",
    "    check[[f]]=list(luminex,qc(luminex))\n",
    "    luminex = qc(luminex)\n",
    "    # luminex = out[[1]]\n",
    "    # cv_check = out[[2]]\n",
    "    # luminex = out\n",
    "\n",
    "    ### debug \n",
    "    # tmp=merge(\n",
    "    #     melt(luminex %>% rownames_to_column(),id.vars = c('rowname','Well','ID')),\n",
    "    #     melt(cv_check %>% rownames_to_column(),id.vars = c('rowname','Well','ID'),value.name = 'cv') \n",
    "    # )\n",
    "    # tmp$value[is.na(tmp$value)] = -1e5\n",
    "    # print( table( value=cut(tmp$value,c(-1e6,-1e5,-1e3,0,1e4,1e5,1e6,1e7)), cv=cut(tmp$cv,c(NA,0,0.1,0.3,0.5,2)))) \n",
    "    \n",
    "    # merge data with annotation\n",
    "    data=cbind(annotation_i,luminex) %>%\n",
    "        group_by(PlateNum,SampleNum,PlateID,PlateCoord,Well,ID,\n",
    "                 BOX,Lab.ID,Vaccine,Tube.Label,Time.sample) %>% \n",
    "        summarise_all(\n",
    "            mean,na.rm=T # summarise replicates\n",
    "        ) %>% arrange(PlateNum)\n",
    "\n",
    "    data$vaccine = gsub('[0-9]$','',gsub('-[0-9]$','',data$ID))\n",
    "    data$group = substr(data$Lab.ID,1,1)\n",
    "    \n",
    "    # print(head(data))\n",
    "    \n",
    "    # get var types\n",
    "    annot_vars = colnames(data)[c(1:15,37:38)]\n",
    "    data_vars = colnames(data)[16:36]\n",
    "    \n",
    "    # print(annot_vars)\n",
    "    # print(data_vars)\n",
    "\n",
    "    data_norm = data\n",
    "        \n",
    "    # normalize\n",
    "#     PBS_byplate = na.omit(cbind( PlateNum = c(rep(1:6,each=24),rep(7,16)) , PBS)) %>%\n",
    "#         select(-Well,-ID) %>%\n",
    "#         group_by(PlateNum) %>% summarise_all(median)\n",
    "\n",
    "#     # index match data\n",
    "#     PBS_byplate = do.call(rbind,lapply(data$PlateID,function(plt){\n",
    "#         PBS_byplate[PBS_byplate$PlateNum==plt,]\n",
    "#     }))[,-1]\n",
    "\n",
    "#     if(any(! colnames(PBS) %in% colnames(data))){stop('missing colnames')}\n",
    "\n",
    "#     # non-responsder floor\n",
    "#     data_norm[,colnames(PBS_byplate)] = data_norm[,colnames(PBS_byplate)] - PBS_byplate\n",
    "#     data_norm[,colnames(PBS_byplate)][data_norm[,colnames(PBS_byplate)]<1] = 1\n",
    "    data_backgnd = data_norm\n",
    "    \n",
    "    # foldchange norm\n",
    "    data_norm[,data_vars] = apply(data_norm[,data_vars],2,function(x) x / median(x[data_norm$ID=='Naive'],na.rm=T )) \n",
    "    # name\n",
    "    colnames(data)[colnames(data)%in%data_vars] = paste(colnames(data[,data_vars]),n,sep='.')\n",
    "    colnames(data_norm)[colnames(data_norm)%in%data_vars] = paste(colnames(data_norm[,data_vars]),n,sep='.')\n",
    "    out[[n]] = data_norm\n",
    "    out_raw[[n]] = data\n",
    "}\n",
    "                                  \n",
    "\n",
    "data_lum = out_raw %>% reduce(full_join) %>% arrange(order)\n",
    "data_norm_lum = out %>% reduce(full_join) %>% arrange(order) #%>% arrange(Tube.Label)\n",
    "                                  \n",
    "write.csv(data_lum,file='../data-final/data_luminex.csv')\n",
    "\n",
    "head(data_norm[,-(1:5)])\n",
    "dim(data_norm)"
   ]
  },
  {
   "cell_type": "code",
   "execution_count": 11,
   "id": "499314d5-dc23-491b-bfc1-d444d2c9fcef",
   "metadata": {},
   "outputs": [],
   "source": [
    "# i=c(7736,13793)\n",
    "# sd(i)/mean(i)"
   ]
  },
  {
   "cell_type": "code",
   "execution_count": 12,
   "id": "947c54ae-d00e-41cd-b795-d5e1b6af0fba",
   "metadata": {
    "scrolled": true
   },
   "outputs": [],
   "source": [
    "# stop()"
   ]
  },
  {
   "cell_type": "code",
   "execution_count": 13,
   "id": "bbe84277-f1e5-4630-80c9-028ac8bf0cab",
   "metadata": {},
   "outputs": [
    {
     "data": {
      "text/html": [
       "<style>\n",
       ".list-inline {list-style: none; margin:0; padding: 0}\n",
       ".list-inline>li {display: inline-block}\n",
       ".list-inline>li:not(:last-child)::after {content: \"\\00b7\"; padding: 0 .5ex}\n",
       "</style>\n",
       "<ol class=list-inline><li>522</li><li>38</li></ol>\n"
      ],
      "text/latex": [
       "\\begin{enumerate*}\n",
       "\\item 522\n",
       "\\item 38\n",
       "\\end{enumerate*}\n"
      ],
      "text/markdown": [
       "1. 522\n",
       "2. 38\n",
       "\n",
       "\n"
      ],
      "text/plain": [
       "[1] 522  38"
      ]
     },
     "metadata": {},
     "output_type": "display_data"
    },
    {
     "data": {
      "text/html": [
       "<style>\n",
       ".list-inline {list-style: none; margin:0; padding: 0}\n",
       ".list-inline>li {display: inline-block}\n",
       ".list-inline>li:not(:last-child)::after {content: \"\\00b7\"; padding: 0 .5ex}\n",
       "</style>\n",
       "<ol class=list-inline><li>522</li><li>248</li></ol>\n"
      ],
      "text/latex": [
       "\\begin{enumerate*}\n",
       "\\item 522\n",
       "\\item 248\n",
       "\\end{enumerate*}\n"
      ],
      "text/markdown": [
       "1. 522\n",
       "2. 248\n",
       "\n",
       "\n"
      ],
      "text/plain": [
       "[1] 522 248"
      ]
     },
     "metadata": {},
     "output_type": "display_data"
    },
    {
     "data": {
      "text/html": [
       "<style>\n",
       ".list-inline {list-style: none; margin:0; padding: 0}\n",
       ".list-inline>li {display: inline-block}\n",
       ".list-inline>li:not(:last-child)::after {content: \"\\00b7\"; padding: 0 .5ex}\n",
       "</style>\n",
       "<ol class=list-inline><li>522</li><li>248</li></ol>\n"
      ],
      "text/latex": [
       "\\begin{enumerate*}\n",
       "\\item 522\n",
       "\\item 248\n",
       "\\end{enumerate*}\n"
      ],
      "text/markdown": [
       "1. 522\n",
       "2. 248\n",
       "\n",
       "\n"
      ],
      "text/plain": [
       "[1] 522 248"
      ]
     },
     "metadata": {},
     "output_type": "display_data"
    }
   ],
   "source": [
    "dim(data_norm)\n",
    "dim(data_lum)\n",
    "dim(data_norm_lum)"
   ]
  },
  {
   "cell_type": "code",
   "execution_count": 14,
   "id": "14759ccd-9807-410b-aa09-bd2b7a031dbb",
   "metadata": {},
   "outputs": [],
   "source": [
    "# data_lum[grepl('PUC_C_',data_lum$Tube.Label),1:20] %>% head()\n"
   ]
  },
  {
   "cell_type": "markdown",
   "id": "d24b674b-8cb5-48b6-a19f-490e53380615",
   "metadata": {},
   "source": [
    "# Swap labels: vaccine cohort only, all detectors, all VOC except WT, luminex only"
   ]
  },
  {
   "cell_type": "code",
   "execution_count": 15,
   "id": "3eb52253-f07f-40e1-899a-2f491472d8db",
   "metadata": {},
   "outputs": [],
   "source": [
    "## 5/30 - swaping was commented out to produce erroneous plots in script 01b\n",
    "\n",
    "### swap RBD and Spike column names; bead regions were mislabelled\n",
    "# colnames(data_lum) = gsub('OC43.RBD','OC43.Spike',gsub('HKU1.RBD','HKU1.Spike',gsub('tmp','RBD',gsub('RBD','Spike',gsub('Spike','tmp',colnames(data_lum)))))) \n",
    "# colnames(data_norm_lum) = gsub('OC43.RBD','OC43.Spike',gsub('HKU1.RBD','HKU1.Spike',gsub('tmp','RBD',gsub('RBD','Spike',gsub('Spike','tmp',colnames(data_norm_lum))))))\n",
    "\n",
    "## 6/12 - swapping reinstated\n",
    "\n",
    "## swap RBD and Spike column names; bead regions were mislabelled\n",
    "\n",
    "# get vaccine cohort index\n",
    "vaccine_cohort = grepl('PUC_C_',data_lum$Tube.Label)\n",
    "\n",
    "# split raw data\n",
    "vax = data_lum[vaccine_cohort,]\n",
    "inf = data_lum[!vaccine_cohort,]\n",
    "\n",
    "# split normalized data\n",
    "vax_norm = data_norm_lum[vaccine_cohort,]\n",
    "inf_norm = data_norm_lum[!vaccine_cohort,]\n",
    "\n",
    "# swap all\n",
    "colnames(vax) = gsub('OC43.RBD','OC43.Spike',gsub('HKU1.RBD','HKU1.Spike', # unswap HKU and OC43\n",
    "                                                  gsub('tmp','RBD',gsub('RBD','Spike',gsub('Spike','tmp',colnames(vax)))))) # swap all\n",
    "colnames(vax_norm) = gsub('OC43.RBD','OC43.Spike',gsub('HKU1.RBD','HKU1.Spike', # unswap HKU and OC43\n",
    "                                                       gsub('tmp','RBD',gsub('RBD','Spike',gsub('Spike','tmp',colnames(vax_norm)))))) # swap all\n",
    "\n",
    "# swap WT back (effect, no WT swap)\n",
    "colnames(vax) = gsub('tmp','WT.RBD',gsub('WT.RBD','WT.Spike',gsub('WT.Spike','tmp',colnames(vax)))) \n",
    "colnames(vax_norm) = gsub('tmp','WT.RBD',gsub('WT.RBD','WT.Spike',gsub('WT.Spike','tmp',colnames(vax_norm))))\n",
    "\n",
    "data_lum = rbind( vax , inf[colnames(vax)])\n",
    "data_norm_lum = rbind( vax_norm , inf_norm[colnames(vax_norm)])\n"
   ]
  },
  {
   "cell_type": "code",
   "execution_count": null,
   "id": "1c1ee7cd-57a9-4502-97e2-c3d02cd9cf88",
   "metadata": {},
   "outputs": [],
   "source": []
  },
  {
   "cell_type": "code",
   "execution_count": null,
   "id": "5652e1ce-6810-4db6-b93f-72c5946245c6",
   "metadata": {},
   "outputs": [],
   "source": []
  },
  {
   "cell_type": "markdown",
   "id": "a76d6785-bfb6-48ce-bcf6-fb0986386660",
   "metadata": {},
   "source": [
    "# Load neutralization data"
   ]
  },
  {
   "cell_type": "code",
   "execution_count": 16,
   "id": "46578bed-a50a-4d4c-935e-bac18206e015",
   "metadata": {},
   "outputs": [
    {
     "data": {
      "text/html": [
       "<table class=\"dataframe\">\n",
       "<caption>A data.frame: 6 × 3</caption>\n",
       "<thead>\n",
       "\t<tr><th></th><th scope=col>Lab.ID</th><th scope=col>Tube.Label</th><th scope=col>WT.Spike.NeutIC50</th></tr>\n",
       "\t<tr><th></th><th scope=col>&lt;chr&gt;</th><th scope=col>&lt;chr&gt;</th><th scope=col>&lt;dbl&gt;</th></tr>\n",
       "</thead>\n",
       "<tbody>\n",
       "\t<tr><th scope=row>1</th><td>C64 2020 G4</td><td>S_PUC_C_064_(1)_G4</td><td>739.66485</td></tr>\n",
       "\t<tr><th scope=row>2</th><td>C64 2020 G4</td><td>S_PUC_C_064_(4)_G4</td><td> 31.54421</td></tr>\n",
       "\t<tr><th scope=row>3</th><td>C64 2020 G4</td><td>S_PUC_C_064_(5)_G4</td><td>266.36199</td></tr>\n",
       "\t<tr><th scope=row>4</th><td>C64 2020 G4</td><td>S_PUC_C_064_(6)_G4</td><td>       NA</td></tr>\n",
       "\t<tr><th scope=row>5</th><td>C64 2020 G4</td><td>S_PUC_C_064_(7)_G4</td><td>  1.00000</td></tr>\n",
       "\t<tr><th scope=row>6</th><td>C64 2020 G4</td><td>S_PUC_C_064_(8)_G4</td><td>       NA</td></tr>\n",
       "</tbody>\n",
       "</table>\n"
      ],
      "text/latex": [
       "A data.frame: 6 × 3\n",
       "\\begin{tabular}{r|lll}\n",
       "  & Lab.ID & Tube.Label & WT.Spike.NeutIC50\\\\\n",
       "  & <chr> & <chr> & <dbl>\\\\\n",
       "\\hline\n",
       "\t1 & C64 2020 G4 & S\\_PUC\\_C\\_064\\_(1)\\_G4 & 739.66485\\\\\n",
       "\t2 & C64 2020 G4 & S\\_PUC\\_C\\_064\\_(4)\\_G4 &  31.54421\\\\\n",
       "\t3 & C64 2020 G4 & S\\_PUC\\_C\\_064\\_(5)\\_G4 & 266.36199\\\\\n",
       "\t4 & C64 2020 G4 & S\\_PUC\\_C\\_064\\_(6)\\_G4 &        NA\\\\\n",
       "\t5 & C64 2020 G4 & S\\_PUC\\_C\\_064\\_(7)\\_G4 &   1.00000\\\\\n",
       "\t6 & C64 2020 G4 & S\\_PUC\\_C\\_064\\_(8)\\_G4 &        NA\\\\\n",
       "\\end{tabular}\n"
      ],
      "text/markdown": [
       "\n",
       "A data.frame: 6 × 3\n",
       "\n",
       "| <!--/--> | Lab.ID &lt;chr&gt; | Tube.Label &lt;chr&gt; | WT.Spike.NeutIC50 &lt;dbl&gt; |\n",
       "|---|---|---|---|\n",
       "| 1 | C64 2020 G4 | S_PUC_C_064_(1)_G4 | 739.66485 |\n",
       "| 2 | C64 2020 G4 | S_PUC_C_064_(4)_G4 |  31.54421 |\n",
       "| 3 | C64 2020 G4 | S_PUC_C_064_(5)_G4 | 266.36199 |\n",
       "| 4 | C64 2020 G4 | S_PUC_C_064_(6)_G4 |        NA |\n",
       "| 5 | C64 2020 G4 | S_PUC_C_064_(7)_G4 |   1.00000 |\n",
       "| 6 | C64 2020 G4 | S_PUC_C_064_(8)_G4 |        NA |\n",
       "\n"
      ],
      "text/plain": [
       "  Lab.ID      Tube.Label         WT.Spike.NeutIC50\n",
       "1 C64 2020 G4 S_PUC_C_064_(1)_G4 739.66485        \n",
       "2 C64 2020 G4 S_PUC_C_064_(4)_G4  31.54421        \n",
       "3 C64 2020 G4 S_PUC_C_064_(5)_G4 266.36199        \n",
       "4 C64 2020 G4 S_PUC_C_064_(6)_G4        NA        \n",
       "5 C64 2020 G4 S_PUC_C_064_(7)_G4   1.00000        \n",
       "6 C64 2020 G4 S_PUC_C_064_(8)_G4        NA        "
      ]
     },
     "metadata": {},
     "output_type": "display_data"
    }
   ],
   "source": [
    "# ################\n",
    "neut = do.call(rbind,\n",
    "               lapply(1:3,function(x) openxlsx::read.xlsx('../data-raw/Serum-Samples_MedinaLab_October 15-2021_Neutralization_090922_MJAV.xlsx',sheet=x) [,c('Lab.ID','Tube.Label','IC50','Log10.IC50')[1:3]]))\n",
    "neut = neut%>%rename(WT.Spike.NeutIC50=IC50)\n",
    "head(neut)"
   ]
  },
  {
   "cell_type": "code",
   "execution_count": 17,
   "id": "30d8bce8-fe44-4eb2-94dd-a7a59ffe9e1c",
   "metadata": {},
   "outputs": [],
   "source": [
    "Naive_ID = unique(data_norm$Lab.ID[data_norm$ID=='Naive'])\n",
    "neut_norm = neut\n",
    "neut_norm$WT.Spike.NeutIC50 = neut_norm$WT.Spike.NeutIC50 / median( neut$WT.Spike.NeutIC50[ neut$Lab.ID%in%Naive_ID ] , na.rm=T)\n"
   ]
  },
  {
   "cell_type": "code",
   "execution_count": 18,
   "id": "38c1f780-1390-45be-8848-cc1aab5b84c9",
   "metadata": {},
   "outputs": [],
   "source": [
    "# # boxplot( neut$WT.Spike.NeutIC50[ !neut$Lab.ID%in%Naive_ID ])\n",
    "# # boxplot(log(neut$WT.Spike.NeutIC50[ neut$Lab.ID%in%Naive_ID ]))\n",
    "# ggplot(neut,aes(y=WT.Spike.NeutIC50,x=neut$Lab.ID%in%Naive_ID))+geom_boxplot()+scale_y_log10()\n",
    "# ggplot(neut_norm,aes(y=WT.Spike.NeutIC50,x=neut_norm$Lab.ID%in%Naive_ID))+geom_boxplot()+scale_y_log10()"
   ]
  },
  {
   "cell_type": "code",
   "execution_count": 19,
   "id": "d11518d4-319a-414b-841d-febc539ff5dd",
   "metadata": {},
   "outputs": [
    {
     "data": {
      "text/html": [
       "<style>\n",
       ".list-inline {list-style: none; margin:0; padding: 0}\n",
       ".list-inline>li {display: inline-block}\n",
       ".list-inline>li:not(:last-child)::after {content: \"\\00b7\"; padding: 0 .5ex}\n",
       "</style>\n",
       "<ol class=list-inline><li>522</li><li>248</li></ol>\n"
      ],
      "text/latex": [
       "\\begin{enumerate*}\n",
       "\\item 522\n",
       "\\item 248\n",
       "\\end{enumerate*}\n"
      ],
      "text/markdown": [
       "1. 522\n",
       "2. 248\n",
       "\n",
       "\n"
      ],
      "text/plain": [
       "[1] 522 248"
      ]
     },
     "metadata": {},
     "output_type": "display_data"
    },
    {
     "data": {
      "text/html": [
       "<style>\n",
       ".list-inline {list-style: none; margin:0; padding: 0}\n",
       ".list-inline>li {display: inline-block}\n",
       ".list-inline>li:not(:last-child)::after {content: \"\\00b7\"; padding: 0 .5ex}\n",
       "</style>\n",
       "<ol class=list-inline><li>522</li><li>248</li></ol>\n"
      ],
      "text/latex": [
       "\\begin{enumerate*}\n",
       "\\item 522\n",
       "\\item 248\n",
       "\\end{enumerate*}\n"
      ],
      "text/markdown": [
       "1. 522\n",
       "2. 248\n",
       "\n",
       "\n"
      ],
      "text/plain": [
       "[1] 522 248"
      ]
     },
     "metadata": {},
     "output_type": "display_data"
    },
    {
     "data": {
      "text/html": [
       "<style>\n",
       ".list-inline {list-style: none; margin:0; padding: 0}\n",
       ".list-inline>li {display: inline-block}\n",
       ".list-inline>li:not(:last-child)::after {content: \"\\00b7\"; padding: 0 .5ex}\n",
       "</style>\n",
       "<ol class=list-inline><li>522</li><li>249</li></ol>\n"
      ],
      "text/latex": [
       "\\begin{enumerate*}\n",
       "\\item 522\n",
       "\\item 249\n",
       "\\end{enumerate*}\n"
      ],
      "text/markdown": [
       "1. 522\n",
       "2. 249\n",
       "\n",
       "\n"
      ],
      "text/plain": [
       "[1] 522 249"
      ]
     },
     "metadata": {},
     "output_type": "display_data"
    },
    {
     "data": {
      "text/html": [
       "<style>\n",
       ".list-inline {list-style: none; margin:0; padding: 0}\n",
       ".list-inline>li {display: inline-block}\n",
       ".list-inline>li:not(:last-child)::after {content: \"\\00b7\"; padding: 0 .5ex}\n",
       "</style>\n",
       "<ol class=list-inline><li>522</li><li>249</li></ol>\n"
      ],
      "text/latex": [
       "\\begin{enumerate*}\n",
       "\\item 522\n",
       "\\item 249\n",
       "\\end{enumerate*}\n"
      ],
      "text/markdown": [
       "1. 522\n",
       "2. 249\n",
       "\n",
       "\n"
      ],
      "text/plain": [
       "[1] 522 249"
      ]
     },
     "metadata": {},
     "output_type": "display_data"
    }
   ],
   "source": [
    "                      \n",
    "dim(data_lum)\n",
    "dim(data_norm_lum)\n",
    "data_lum = merge(data_lum,neut,by=c('Lab.ID','Tube.Label'))\n",
    "data_norm_lum = merge(data_norm_lum,neut_norm,by=c('Lab.ID','Tube.Label'))\n",
    "dim(data_lum)\n",
    "dim(data_norm_lum)\n",
    "                      ##########"
   ]
  },
  {
   "cell_type": "code",
   "execution_count": 20,
   "id": "23b35f0c-feb9-4510-a246-d41231a12855",
   "metadata": {},
   "outputs": [],
   "source": [
    "\n",
    "# # merge neutralization data\n",
    "# data_lum = data_lum %>% rename(WT.Spike.NeutIC50=WT.RBD.NeutIC50)\n",
    "# data_norm_lum = data_norm_lum %>% rename(WT.Spike.NeutIC50=WT.RBD.NeutIC50)\n"
   ]
  },
  {
   "cell_type": "code",
   "execution_count": 21,
   "id": "e3213531-090d-44a9-b326-ed0dbabf40c5",
   "metadata": {},
   "outputs": [
    {
     "data": {
      "text/html": [
       "<style>\n",
       ".list-inline {list-style: none; margin:0; padding: 0}\n",
       ".list-inline>li {display: inline-block}\n",
       ".list-inline>li:not(:last-child)::after {content: \"\\00b7\"; padding: 0 .5ex}\n",
       "</style>\n",
       "<ol class=list-inline><li>522</li><li>249</li></ol>\n"
      ],
      "text/latex": [
       "\\begin{enumerate*}\n",
       "\\item 522\n",
       "\\item 249\n",
       "\\end{enumerate*}\n"
      ],
      "text/markdown": [
       "1. 522\n",
       "2. 249\n",
       "\n",
       "\n"
      ],
      "text/plain": [
       "[1] 522 249"
      ]
     },
     "metadata": {},
     "output_type": "display_data"
    },
    {
     "data": {
      "text/html": [
       "<table class=\"dataframe\">\n",
       "<caption>A data.frame: 6 × 249</caption>\n",
       "<thead>\n",
       "\t<tr><th></th><th scope=col>Lab.ID</th><th scope=col>Tube.Label</th><th scope=col>PlateNum</th><th scope=col>SampleNum</th><th scope=col>PlateID</th><th scope=col>PlateCoord</th><th scope=col>Well</th><th scope=col>ID</th><th scope=col>BOX</th><th scope=col>Vaccine</th><th scope=col>...</th><th scope=col>Delta.RBD.R3b</th><th scope=col>Delta.Spike.R3b</th><th scope=col>OC43.Spike.R3b</th><th scope=col>HKU1.Spike.R3b</th><th scope=col>HCMVgB.Antigen.R3b</th><th scope=col>Influenza.HA.R3b</th><th scope=col>EBOV.Antigen.R3b</th><th scope=col>Omicron.RBD.R3b</th><th scope=col>Omicron.Spike.R3b</th><th scope=col>WT.Spike.NeutIC50</th></tr>\n",
       "\t<tr><th></th><th scope=col>&lt;chr&gt;</th><th scope=col>&lt;chr&gt;</th><th scope=col>&lt;dbl&gt;</th><th scope=col>&lt;dbl&gt;</th><th scope=col>&lt;dbl&gt;</th><th scope=col>&lt;chr&gt;</th><th scope=col>&lt;chr&gt;</th><th scope=col>&lt;chr&gt;</th><th scope=col>&lt;dbl&gt;</th><th scope=col>&lt;chr&gt;</th><th scope=col>...</th><th scope=col>&lt;dbl&gt;</th><th scope=col>&lt;dbl&gt;</th><th scope=col>&lt;dbl&gt;</th><th scope=col>&lt;dbl&gt;</th><th scope=col>&lt;dbl&gt;</th><th scope=col>&lt;dbl&gt;</th><th scope=col>&lt;dbl&gt;</th><th scope=col>&lt;dbl&gt;</th><th scope=col>&lt;dbl&gt;</th><th scope=col>&lt;dbl&gt;</th></tr>\n",
       "</thead>\n",
       "<tbody>\n",
       "\t<tr><th scope=row>1</th><td>C100 2021 G4</td><td>S_PUC_C_100_(1)_G4</td><td>22</td><td>106</td><td>2</td><td>B10</td><td>B10</td><td>Naive            </td><td>2</td><td>Naive    </td><td>...</td><td> 0.9891253</td><td>  0.9734828</td><td>0.9656333</td><td>0.9936681</td><td>0.6267258</td><td> 0.6012182</td><td>0.9690818</td><td>0.4446363</td><td>1.0119525</td><td>0.01673196</td></tr>\n",
       "\t<tr><th scope=row>2</th><td>C100 2021 G4</td><td>S_PUC_C_100_(3)_G4</td><td>23</td><td>107</td><td>2</td><td>B11</td><td>B11</td><td>CoronaVac        </td><td>2</td><td>CoronaVac</td><td>...</td><td> 0.9408543</td><td>  1.0108438</td><td>0.9442107</td><td>1.0142746</td><td>0.6383256</td><td> 0.5264605</td><td>0.9864096</td><td>0.4694015</td><td>0.9568191</td><td>0.01673196</td></tr>\n",
       "\t<tr><th scope=row>3</th><td>C100 2021 G4</td><td>S_PUC_C_100_(4)_G4</td><td>24</td><td>108</td><td>2</td><td>B12</td><td>B12</td><td>CoronaVac2       </td><td>2</td><td>CoronaVac</td><td>...</td><td> 0.9582225</td><td>  1.2510479</td><td>0.8849913</td><td>0.9688958</td><td>0.6265577</td><td> 0.5725436</td><td>1.0282001</td><td>0.3917167</td><td>0.9999309</td><td>3.99254936</td></tr>\n",
       "\t<tr><th scope=row>4</th><td>C100 2021 G4</td><td>S_PUC_C_100_(5)_G4</td><td>25</td><td>109</td><td>2</td><td>C1 </td><td>C1 </td><td>CoronaVac2-3     </td><td>2</td><td>CoronaVac</td><td>...</td><td> 0.8878110</td><td>  0.9746674</td><td>0.9055077</td><td>0.9832259</td><td>0.6468153</td><td>13.2540170</td><td>1.0599677</td><td>0.6286957</td><td>0.9699461</td><td>3.25549009</td></tr>\n",
       "\t<tr><th scope=row>5</th><td>C100 2021 G4</td><td>S_PUC_C_100_(6)_G4</td><td>26</td><td>110</td><td>2</td><td>C2 </td><td>C2 </td><td>CoronaVac2-5     </td><td>2</td><td>CoronaVac</td><td>...</td><td> 1.0045376</td><td>  0.9983598</td><td>0.8858326</td><td>0.9552877</td><td>0.6361822</td><td> 7.5154148</td><td>0.9939693</td><td>0.7999029</td><td>0.9912256</td><td>0.40783757</td></tr>\n",
       "\t<tr><th scope=row>6</th><td>C100 2021 G4</td><td>S_PUC_C_100_(7)_G4</td><td>27</td><td>111</td><td>2</td><td>C3 </td><td>C3 </td><td>CoronaVac2+Pfizer</td><td>2</td><td>BNT162b2 </td><td>...</td><td>13.8485370</td><td>150.8237653</td><td>0.9352145</td><td>1.0014441</td><td>0.6371488</td><td> 4.9282793</td><td>1.0085790</td><td>0.9308876</td><td>3.6118557</td><td>        NA</td></tr>\n",
       "</tbody>\n",
       "</table>\n"
      ],
      "text/latex": [
       "A data.frame: 6 × 249\n",
       "\\begin{tabular}{r|lllllllllllllllllllll}\n",
       "  & Lab.ID & Tube.Label & PlateNum & SampleNum & PlateID & PlateCoord & Well & ID & BOX & Vaccine & ... & Delta.RBD.R3b & Delta.Spike.R3b & OC43.Spike.R3b & HKU1.Spike.R3b & HCMVgB.Antigen.R3b & Influenza.HA.R3b & EBOV.Antigen.R3b & Omicron.RBD.R3b & Omicron.Spike.R3b & WT.Spike.NeutIC50\\\\\n",
       "  & <chr> & <chr> & <dbl> & <dbl> & <dbl> & <chr> & <chr> & <chr> & <dbl> & <chr> & ... & <dbl> & <dbl> & <dbl> & <dbl> & <dbl> & <dbl> & <dbl> & <dbl> & <dbl> & <dbl>\\\\\n",
       "\\hline\n",
       "\t1 & C100 2021 G4 & S\\_PUC\\_C\\_100\\_(1)\\_G4 & 22 & 106 & 2 & B10 & B10 & Naive             & 2 & Naive     & ... &  0.9891253 &   0.9734828 & 0.9656333 & 0.9936681 & 0.6267258 &  0.6012182 & 0.9690818 & 0.4446363 & 1.0119525 & 0.01673196\\\\\n",
       "\t2 & C100 2021 G4 & S\\_PUC\\_C\\_100\\_(3)\\_G4 & 23 & 107 & 2 & B11 & B11 & CoronaVac         & 2 & CoronaVac & ... &  0.9408543 &   1.0108438 & 0.9442107 & 1.0142746 & 0.6383256 &  0.5264605 & 0.9864096 & 0.4694015 & 0.9568191 & 0.01673196\\\\\n",
       "\t3 & C100 2021 G4 & S\\_PUC\\_C\\_100\\_(4)\\_G4 & 24 & 108 & 2 & B12 & B12 & CoronaVac2        & 2 & CoronaVac & ... &  0.9582225 &   1.2510479 & 0.8849913 & 0.9688958 & 0.6265577 &  0.5725436 & 1.0282001 & 0.3917167 & 0.9999309 & 3.99254936\\\\\n",
       "\t4 & C100 2021 G4 & S\\_PUC\\_C\\_100\\_(5)\\_G4 & 25 & 109 & 2 & C1  & C1  & CoronaVac2-3      & 2 & CoronaVac & ... &  0.8878110 &   0.9746674 & 0.9055077 & 0.9832259 & 0.6468153 & 13.2540170 & 1.0599677 & 0.6286957 & 0.9699461 & 3.25549009\\\\\n",
       "\t5 & C100 2021 G4 & S\\_PUC\\_C\\_100\\_(6)\\_G4 & 26 & 110 & 2 & C2  & C2  & CoronaVac2-5      & 2 & CoronaVac & ... &  1.0045376 &   0.9983598 & 0.8858326 & 0.9552877 & 0.6361822 &  7.5154148 & 0.9939693 & 0.7999029 & 0.9912256 & 0.40783757\\\\\n",
       "\t6 & C100 2021 G4 & S\\_PUC\\_C\\_100\\_(7)\\_G4 & 27 & 111 & 2 & C3  & C3  & CoronaVac2+Pfizer & 2 & BNT162b2  & ... & 13.8485370 & 150.8237653 & 0.9352145 & 1.0014441 & 0.6371488 &  4.9282793 & 1.0085790 & 0.9308876 & 3.6118557 &         NA\\\\\n",
       "\\end{tabular}\n"
      ],
      "text/markdown": [
       "\n",
       "A data.frame: 6 × 249\n",
       "\n",
       "| <!--/--> | Lab.ID &lt;chr&gt; | Tube.Label &lt;chr&gt; | PlateNum &lt;dbl&gt; | SampleNum &lt;dbl&gt; | PlateID &lt;dbl&gt; | PlateCoord &lt;chr&gt; | Well &lt;chr&gt; | ID &lt;chr&gt; | BOX &lt;dbl&gt; | Vaccine &lt;chr&gt; | ... ... | Delta.RBD.R3b &lt;dbl&gt; | Delta.Spike.R3b &lt;dbl&gt; | OC43.Spike.R3b &lt;dbl&gt; | HKU1.Spike.R3b &lt;dbl&gt; | HCMVgB.Antigen.R3b &lt;dbl&gt; | Influenza.HA.R3b &lt;dbl&gt; | EBOV.Antigen.R3b &lt;dbl&gt; | Omicron.RBD.R3b &lt;dbl&gt; | Omicron.Spike.R3b &lt;dbl&gt; | WT.Spike.NeutIC50 &lt;dbl&gt; |\n",
       "|---|---|---|---|---|---|---|---|---|---|---|---|---|---|---|---|---|---|---|---|---|---|\n",
       "| 1 | C100 2021 G4 | S_PUC_C_100_(1)_G4 | 22 | 106 | 2 | B10 | B10 | Naive             | 2 | Naive     | ... |  0.9891253 |   0.9734828 | 0.9656333 | 0.9936681 | 0.6267258 |  0.6012182 | 0.9690818 | 0.4446363 | 1.0119525 | 0.01673196 |\n",
       "| 2 | C100 2021 G4 | S_PUC_C_100_(3)_G4 | 23 | 107 | 2 | B11 | B11 | CoronaVac         | 2 | CoronaVac | ... |  0.9408543 |   1.0108438 | 0.9442107 | 1.0142746 | 0.6383256 |  0.5264605 | 0.9864096 | 0.4694015 | 0.9568191 | 0.01673196 |\n",
       "| 3 | C100 2021 G4 | S_PUC_C_100_(4)_G4 | 24 | 108 | 2 | B12 | B12 | CoronaVac2        | 2 | CoronaVac | ... |  0.9582225 |   1.2510479 | 0.8849913 | 0.9688958 | 0.6265577 |  0.5725436 | 1.0282001 | 0.3917167 | 0.9999309 | 3.99254936 |\n",
       "| 4 | C100 2021 G4 | S_PUC_C_100_(5)_G4 | 25 | 109 | 2 | C1  | C1  | CoronaVac2-3      | 2 | CoronaVac | ... |  0.8878110 |   0.9746674 | 0.9055077 | 0.9832259 | 0.6468153 | 13.2540170 | 1.0599677 | 0.6286957 | 0.9699461 | 3.25549009 |\n",
       "| 5 | C100 2021 G4 | S_PUC_C_100_(6)_G4 | 26 | 110 | 2 | C2  | C2  | CoronaVac2-5      | 2 | CoronaVac | ... |  1.0045376 |   0.9983598 | 0.8858326 | 0.9552877 | 0.6361822 |  7.5154148 | 0.9939693 | 0.7999029 | 0.9912256 | 0.40783757 |\n",
       "| 6 | C100 2021 G4 | S_PUC_C_100_(7)_G4 | 27 | 111 | 2 | C3  | C3  | CoronaVac2+Pfizer | 2 | BNT162b2  | ... | 13.8485370 | 150.8237653 | 0.9352145 | 1.0014441 | 0.6371488 |  4.9282793 | 1.0085790 | 0.9308876 | 3.6118557 |         NA |\n",
       "\n"
      ],
      "text/plain": [
       "  Lab.ID       Tube.Label         PlateNum SampleNum PlateID PlateCoord Well\n",
       "1 C100 2021 G4 S_PUC_C_100_(1)_G4 22       106       2       B10        B10 \n",
       "2 C100 2021 G4 S_PUC_C_100_(3)_G4 23       107       2       B11        B11 \n",
       "3 C100 2021 G4 S_PUC_C_100_(4)_G4 24       108       2       B12        B12 \n",
       "4 C100 2021 G4 S_PUC_C_100_(5)_G4 25       109       2       C1         C1  \n",
       "5 C100 2021 G4 S_PUC_C_100_(6)_G4 26       110       2       C2         C2  \n",
       "6 C100 2021 G4 S_PUC_C_100_(7)_G4 27       111       2       C3         C3  \n",
       "  ID                BOX Vaccine   ... Delta.RBD.R3b Delta.Spike.R3b\n",
       "1 Naive             2   Naive     ...  0.9891253      0.9734828    \n",
       "2 CoronaVac         2   CoronaVac ...  0.9408543      1.0108438    \n",
       "3 CoronaVac2        2   CoronaVac ...  0.9582225      1.2510479    \n",
       "4 CoronaVac2-3      2   CoronaVac ...  0.8878110      0.9746674    \n",
       "5 CoronaVac2-5      2   CoronaVac ...  1.0045376      0.9983598    \n",
       "6 CoronaVac2+Pfizer 2   BNT162b2  ... 13.8485370    150.8237653    \n",
       "  OC43.Spike.R3b HKU1.Spike.R3b HCMVgB.Antigen.R3b Influenza.HA.R3b\n",
       "1 0.9656333      0.9936681      0.6267258           0.6012182      \n",
       "2 0.9442107      1.0142746      0.6383256           0.5264605      \n",
       "3 0.8849913      0.9688958      0.6265577           0.5725436      \n",
       "4 0.9055077      0.9832259      0.6468153          13.2540170      \n",
       "5 0.8858326      0.9552877      0.6361822           7.5154148      \n",
       "6 0.9352145      1.0014441      0.6371488           4.9282793      \n",
       "  EBOV.Antigen.R3b Omicron.RBD.R3b Omicron.Spike.R3b WT.Spike.NeutIC50\n",
       "1 0.9690818        0.4446363       1.0119525         0.01673196       \n",
       "2 0.9864096        0.4694015       0.9568191         0.01673196       \n",
       "3 1.0282001        0.3917167       0.9999309         3.99254936       \n",
       "4 1.0599677        0.6286957       0.9699461         3.25549009       \n",
       "5 0.9939693        0.7999029       0.9912256         0.40783757       \n",
       "6 1.0085790        0.9308876       3.6118557                 NA       "
      ]
     },
     "metadata": {},
     "output_type": "display_data"
    }
   ],
   "source": [
    "dim(data_norm_lum)\n",
    "head(data_norm_lum)"
   ]
  },
  {
   "cell_type": "markdown",
   "id": "7146feb0-f592-43de-9f43-e40a35d859e9",
   "metadata": {},
   "source": [
    "# Load functional data"
   ]
  },
  {
   "cell_type": "code",
   "execution_count": 22,
   "id": "b0a9bbbe-8935-474f-9246-a22c46e6213b",
   "metadata": {},
   "outputs": [],
   "source": [
    "data = read.csv('../data-raw/data_functionalsrpmv4.csv') \n",
    "colnames(data)[1]='plate'\n",
    "data = data %>% arrange(plate,Well,Tubelabel) %>% mutate(rep=1+as.numeric(duplicated(Tubelabel)))\n",
    "col_order = colnames(data)"
   ]
  },
  {
   "cell_type": "code",
   "execution_count": 23,
   "id": "d1e17539-f805-4817-8177-f0f36793c0c5",
   "metadata": {},
   "outputs": [
    {
     "data": {
      "text/html": [
       "<table class=\"dataframe\">\n",
       "<caption>A data.frame: 6 × 9</caption>\n",
       "<thead>\n",
       "\t<tr><th></th><th scope=col>plate</th><th scope=col>Tubelabel</th><th scope=col>Well</th><th scope=col>ID</th><th scope=col>WT.Spike.ADCPBL3</th><th scope=col>Omicron.Spike.ADCPBL3</th><th scope=col>WT.Spike.ADNP</th><th scope=col>Omicron.Spike.ADNP</th><th scope=col>rep</th></tr>\n",
       "\t<tr><th></th><th scope=col>&lt;chr&gt;</th><th scope=col>&lt;chr&gt;</th><th scope=col>&lt;chr&gt;</th><th scope=col>&lt;chr&gt;</th><th scope=col>&lt;dbl&gt;</th><th scope=col>&lt;dbl&gt;</th><th scope=col>&lt;dbl&gt;</th><th scope=col>&lt;dbl&gt;</th><th scope=col>&lt;dbl&gt;</th></tr>\n",
       "</thead>\n",
       "<tbody>\n",
       "\t<tr><th scope=row>1</th><td>p1</td><td>S_PUC_C_064_(1)_G4</td><td>A01</td><td>Naive     </td><td>1295.468</td><td>3355.299</td><td>1163.731</td><td>1146.978</td><td>1</td></tr>\n",
       "\t<tr><th scope=row>2</th><td>p1</td><td>S_PUC_C_064_(1)_G4</td><td>A01</td><td>Naive     </td><td>2029.401</td><td>4358.337</td><td>1322.905</td><td>1709.502</td><td>2</td></tr>\n",
       "\t<tr><th scope=row>3</th><td>p1</td><td>S_PUC_C_064_(4)_G4</td><td>A02</td><td>CoronaVac </td><td>4492.933</td><td>4883.674</td><td>3435.389</td><td>1637.511</td><td>1</td></tr>\n",
       "\t<tr><th scope=row>4</th><td>p1</td><td>S_PUC_C_064_(4)_G4</td><td>A02</td><td>CoronaVac </td><td>2171.717</td><td>2144.699</td><td>2028.699</td><td>1518.937</td><td>2</td></tr>\n",
       "\t<tr><th scope=row>5</th><td>p1</td><td>S_PUC_C_064_(5)_G4</td><td>A03</td><td>CoronaVac2</td><td>9035.177</td><td>7199.896</td><td>7756.792</td><td>2337.782</td><td>1</td></tr>\n",
       "\t<tr><th scope=row>6</th><td>p1</td><td>S_PUC_C_064_(5)_G4</td><td>A03</td><td>CoronaVac2</td><td>6073.862</td><td>3296.727</td><td>5709.929</td><td>1525.509</td><td>2</td></tr>\n",
       "</tbody>\n",
       "</table>\n"
      ],
      "text/latex": [
       "A data.frame: 6 × 9\n",
       "\\begin{tabular}{r|lllllllll}\n",
       "  & plate & Tubelabel & Well & ID & WT.Spike.ADCPBL3 & Omicron.Spike.ADCPBL3 & WT.Spike.ADNP & Omicron.Spike.ADNP & rep\\\\\n",
       "  & <chr> & <chr> & <chr> & <chr> & <dbl> & <dbl> & <dbl> & <dbl> & <dbl>\\\\\n",
       "\\hline\n",
       "\t1 & p1 & S\\_PUC\\_C\\_064\\_(1)\\_G4 & A01 & Naive      & 1295.468 & 3355.299 & 1163.731 & 1146.978 & 1\\\\\n",
       "\t2 & p1 & S\\_PUC\\_C\\_064\\_(1)\\_G4 & A01 & Naive      & 2029.401 & 4358.337 & 1322.905 & 1709.502 & 2\\\\\n",
       "\t3 & p1 & S\\_PUC\\_C\\_064\\_(4)\\_G4 & A02 & CoronaVac  & 4492.933 & 4883.674 & 3435.389 & 1637.511 & 1\\\\\n",
       "\t4 & p1 & S\\_PUC\\_C\\_064\\_(4)\\_G4 & A02 & CoronaVac  & 2171.717 & 2144.699 & 2028.699 & 1518.937 & 2\\\\\n",
       "\t5 & p1 & S\\_PUC\\_C\\_064\\_(5)\\_G4 & A03 & CoronaVac2 & 9035.177 & 7199.896 & 7756.792 & 2337.782 & 1\\\\\n",
       "\t6 & p1 & S\\_PUC\\_C\\_064\\_(5)\\_G4 & A03 & CoronaVac2 & 6073.862 & 3296.727 & 5709.929 & 1525.509 & 2\\\\\n",
       "\\end{tabular}\n"
      ],
      "text/markdown": [
       "\n",
       "A data.frame: 6 × 9\n",
       "\n",
       "| <!--/--> | plate &lt;chr&gt; | Tubelabel &lt;chr&gt; | Well &lt;chr&gt; | ID &lt;chr&gt; | WT.Spike.ADCPBL3 &lt;dbl&gt; | Omicron.Spike.ADCPBL3 &lt;dbl&gt; | WT.Spike.ADNP &lt;dbl&gt; | Omicron.Spike.ADNP &lt;dbl&gt; | rep &lt;dbl&gt; |\n",
       "|---|---|---|---|---|---|---|---|---|---|\n",
       "| 1 | p1 | S_PUC_C_064_(1)_G4 | A01 | Naive      | 1295.468 | 3355.299 | 1163.731 | 1146.978 | 1 |\n",
       "| 2 | p1 | S_PUC_C_064_(1)_G4 | A01 | Naive      | 2029.401 | 4358.337 | 1322.905 | 1709.502 | 2 |\n",
       "| 3 | p1 | S_PUC_C_064_(4)_G4 | A02 | CoronaVac  | 4492.933 | 4883.674 | 3435.389 | 1637.511 | 1 |\n",
       "| 4 | p1 | S_PUC_C_064_(4)_G4 | A02 | CoronaVac  | 2171.717 | 2144.699 | 2028.699 | 1518.937 | 2 |\n",
       "| 5 | p1 | S_PUC_C_064_(5)_G4 | A03 | CoronaVac2 | 9035.177 | 7199.896 | 7756.792 | 2337.782 | 1 |\n",
       "| 6 | p1 | S_PUC_C_064_(5)_G4 | A03 | CoronaVac2 | 6073.862 | 3296.727 | 5709.929 | 1525.509 | 2 |\n",
       "\n"
      ],
      "text/plain": [
       "  plate Tubelabel          Well ID         WT.Spike.ADCPBL3\n",
       "1 p1    S_PUC_C_064_(1)_G4 A01  Naive      1295.468        \n",
       "2 p1    S_PUC_C_064_(1)_G4 A01  Naive      2029.401        \n",
       "3 p1    S_PUC_C_064_(4)_G4 A02  CoronaVac  4492.933        \n",
       "4 p1    S_PUC_C_064_(4)_G4 A02  CoronaVac  2171.717        \n",
       "5 p1    S_PUC_C_064_(5)_G4 A03  CoronaVac2 9035.177        \n",
       "6 p1    S_PUC_C_064_(5)_G4 A03  CoronaVac2 6073.862        \n",
       "  Omicron.Spike.ADCPBL3 WT.Spike.ADNP Omicron.Spike.ADNP rep\n",
       "1 3355.299              1163.731      1146.978           1  \n",
       "2 4358.337              1322.905      1709.502           2  \n",
       "3 4883.674              3435.389      1637.511           1  \n",
       "4 2144.699              2028.699      1518.937           2  \n",
       "5 7199.896              7756.792      2337.782           1  \n",
       "6 3296.727              5709.929      1525.509           2  "
      ]
     },
     "metadata": {},
     "output_type": "display_data"
    }
   ],
   "source": [
    "head(data)"
   ]
  },
  {
   "cell_type": "code",
   "execution_count": 24,
   "id": "c1006413-5255-47c4-91b7-0d524321b2f4",
   "metadata": {},
   "outputs": [
    {
     "data": {
      "text/html": [
       "<style>\n",
       ".list-inline {list-style: none; margin:0; padding: 0}\n",
       ".list-inline>li {display: inline-block}\n",
       ".list-inline>li:not(:last-child)::after {content: \"\\00b7\"; padding: 0 .5ex}\n",
       "</style>\n",
       "<ol class=list-inline><li>1174</li><li>9</li></ol>\n"
      ],
      "text/latex": [
       "\\begin{enumerate*}\n",
       "\\item 1174\n",
       "\\item 9\n",
       "\\end{enumerate*}\n"
      ],
      "text/markdown": [
       "1. 1174\n",
       "2. 9\n",
       "\n",
       "\n"
      ],
      "text/plain": [
       "[1] 1174    9"
      ]
     },
     "metadata": {},
     "output_type": "display_data"
    },
    {
     "data": {
      "text/html": [
       "<style>\n",
       ".list-inline {list-style: none; margin:0; padding: 0}\n",
       ".list-inline>li {display: inline-block}\n",
       ".list-inline>li:not(:last-child)::after {content: \"\\00b7\"; padding: 0 .5ex}\n",
       "</style>\n",
       "<ol class=list-inline><li>1174</li><li>10</li></ol>\n"
      ],
      "text/latex": [
       "\\begin{enumerate*}\n",
       "\\item 1174\n",
       "\\item 10\n",
       "\\end{enumerate*}\n"
      ],
      "text/markdown": [
       "1. 1174\n",
       "2. 10\n",
       "\n",
       "\n"
      ],
      "text/plain": [
       "[1] 1174   10"
      ]
     },
     "metadata": {},
     "output_type": "display_data"
    },
    {
     "data": {
      "text/html": [
       "<table class=\"dataframe\">\n",
       "<caption>A data.frame: 6 × 8</caption>\n",
       "<thead>\n",
       "\t<tr><th></th><th scope=col>plate</th><th scope=col>Tubelabel</th><th scope=col>Well</th><th scope=col>ID</th><th scope=col>WT.Spike.ADCPBL3</th><th scope=col>Omicron.Spike.ADCPBL3</th><th scope=col>WT.Spike.ADNP</th><th scope=col>Omicron.Spike.ADNP</th></tr>\n",
       "\t<tr><th></th><th scope=col>&lt;chr&gt;</th><th scope=col>&lt;chr&gt;</th><th scope=col>&lt;chr&gt;</th><th scope=col>&lt;chr&gt;</th><th scope=col>&lt;dbl&gt;</th><th scope=col>&lt;dbl&gt;</th><th scope=col>&lt;dbl&gt;</th><th scope=col>&lt;dbl&gt;</th></tr>\n",
       "</thead>\n",
       "<tbody>\n",
       "\t<tr><th scope=row>1</th><td>p1</td><td></td><td>H01</td><td>PBS</td><td>1249.332</td><td>1824.445</td><td>1124.688</td><td> 974.3782</td></tr>\n",
       "\t<tr><th scope=row>2</th><td>p1</td><td></td><td>H01</td><td>PBS</td><td>1648.115</td><td>2718.061</td><td>1213.435</td><td>1797.6633</td></tr>\n",
       "\t<tr><th scope=row>3</th><td>p1</td><td></td><td>H02</td><td>PBS</td><td>2162.098</td><td>2941.832</td><td>3333.099</td><td>1321.1153</td></tr>\n",
       "\t<tr><th scope=row>4</th><td>p1</td><td></td><td>H02</td><td>PBS</td><td>1204.977</td><td>2266.597</td><td>2461.874</td><td>1751.5072</td></tr>\n",
       "\t<tr><th scope=row>5</th><td>p1</td><td></td><td>H03</td><td>PBS</td><td>1005.312</td><td>1780.611</td><td>1126.250</td><td> 685.4523</td></tr>\n",
       "\t<tr><th scope=row>6</th><td>p1</td><td></td><td>H03</td><td>PBS</td><td>2392.120</td><td>3313.010</td><td>1161.851</td><td>1446.3755</td></tr>\n",
       "</tbody>\n",
       "</table>\n"
      ],
      "text/latex": [
       "A data.frame: 6 × 8\n",
       "\\begin{tabular}{r|llllllll}\n",
       "  & plate & Tubelabel & Well & ID & WT.Spike.ADCPBL3 & Omicron.Spike.ADCPBL3 & WT.Spike.ADNP & Omicron.Spike.ADNP\\\\\n",
       "  & <chr> & <chr> & <chr> & <chr> & <dbl> & <dbl> & <dbl> & <dbl>\\\\\n",
       "\\hline\n",
       "\t1 & p1 &  & H01 & PBS & 1249.332 & 1824.445 & 1124.688 &  974.3782\\\\\n",
       "\t2 & p1 &  & H01 & PBS & 1648.115 & 2718.061 & 1213.435 & 1797.6633\\\\\n",
       "\t3 & p1 &  & H02 & PBS & 2162.098 & 2941.832 & 3333.099 & 1321.1153\\\\\n",
       "\t4 & p1 &  & H02 & PBS & 1204.977 & 2266.597 & 2461.874 & 1751.5072\\\\\n",
       "\t5 & p1 &  & H03 & PBS & 1005.312 & 1780.611 & 1126.250 &  685.4523\\\\\n",
       "\t6 & p1 &  & H03 & PBS & 2392.120 & 3313.010 & 1161.851 & 1446.3755\\\\\n",
       "\\end{tabular}\n"
      ],
      "text/markdown": [
       "\n",
       "A data.frame: 6 × 8\n",
       "\n",
       "| <!--/--> | plate &lt;chr&gt; | Tubelabel &lt;chr&gt; | Well &lt;chr&gt; | ID &lt;chr&gt; | WT.Spike.ADCPBL3 &lt;dbl&gt; | Omicron.Spike.ADCPBL3 &lt;dbl&gt; | WT.Spike.ADNP &lt;dbl&gt; | Omicron.Spike.ADNP &lt;dbl&gt; |\n",
       "|---|---|---|---|---|---|---|---|---|\n",
       "| 1 | p1 | <!----> | H01 | PBS | 1249.332 | 1824.445 | 1124.688 |  974.3782 |\n",
       "| 2 | p1 | <!----> | H01 | PBS | 1648.115 | 2718.061 | 1213.435 | 1797.6633 |\n",
       "| 3 | p1 | <!----> | H02 | PBS | 2162.098 | 2941.832 | 3333.099 | 1321.1153 |\n",
       "| 4 | p1 | <!----> | H02 | PBS | 1204.977 | 2266.597 | 2461.874 | 1751.5072 |\n",
       "| 5 | p1 | <!----> | H03 | PBS | 1005.312 | 1780.611 | 1126.250 |  685.4523 |\n",
       "| 6 | p1 | <!----> | H03 | PBS | 2392.120 | 3313.010 | 1161.851 | 1446.3755 |\n",
       "\n"
      ],
      "text/plain": [
       "  plate Tubelabel Well ID  WT.Spike.ADCPBL3 Omicron.Spike.ADCPBL3 WT.Spike.ADNP\n",
       "1 p1              H01  PBS 1249.332         1824.445              1124.688     \n",
       "2 p1              H01  PBS 1648.115         2718.061              1213.435     \n",
       "3 p1              H02  PBS 2162.098         2941.832              3333.099     \n",
       "4 p1              H02  PBS 1204.977         2266.597              2461.874     \n",
       "5 p1              H03  PBS 1005.312         1780.611              1126.250     \n",
       "6 p1              H03  PBS 2392.120         3313.010              1161.851     \n",
       "  Omicron.Spike.ADNP\n",
       "1  974.3782         \n",
       "2 1797.6633         \n",
       "3 1321.1153         \n",
       "4 1751.5072         \n",
       "5  685.4523         \n",
       "6 1446.3755         "
      ]
     },
     "metadata": {},
     "output_type": "display_data"
    }
   ],
   "source": [
    "# infect_func_adnp_omicron_rerun = read.csv('../data-raw/Functional_Reorganized_XT_12072023.csv')\n",
    "infect_func_adnp_omicron_rerun1 = openxlsx::read.xlsx('../data-raw/Functional_Reorganized_XT_Replicates_12222023.xlsx',sheet = 1) %>% mutate(rep=1)\n",
    "infect_func_adnp_omicron_rerun2 = openxlsx::read.xlsx('../data-raw/Functional_Reorganized_XT_Replicates_12222023.xlsx',sheet = 2) %>% mutate(rep=2)\n",
    "infect_func_adnp_omicron_rerun = rbind(infect_func_adnp_omicron_rerun1,infect_func_adnp_omicron_rerun2)\n",
    "# head(infect_func_adnp_omicron_rerun)\n",
    "infect_func_adnp_omicron_rerun=infect_func_adnp_omicron_rerun %>% \n",
    "    select(TubeID,ID,Omicron_ADNP_Phago.BL3,rep) %>% filter(ID!='PBS'&!is.na(TubeID)) %>%\n",
    "    select(-ID)\n",
    "\n",
    "dim(data)\n",
    "tmp = merge( data,infect_func_adnp_omicron_rerun,all.x=T,by.x=c('Tubelabel','rep'),by.y=c('TubeID','rep'))\n",
    "tmp$Omicron.Spike.ADNP = ifelse( is.na(tmp$Omicron_ADNP_Phago.BL3) , tmp$Omicron.Spike.ADNP , tmp$Omicron_ADNP_Phago.BL3 )\n",
    "dim(tmp)\n",
    "# head(tmp) \n",
    "\n",
    "# tail(infect_func_adnp_omicron_rerun%>%arrange(TubeID))\n",
    "# data$Omicron.Spike.ADNP = ifelse( data$Tubelabel %in% infect_func_adnp_omicron_rerun$TubeID , \n",
    "#                                  infect_func_adnp_omicron_rerun$Omicron_ADNP_Phago.BL3,\n",
    "#                                  data$Omicron.Spike.ADNP )\n",
    "\n",
    "# options(repr.plot.height=10)\n",
    "# # merge( data, infect_func_adnp_omicron_rerun %>% select(TubeID,Omicron_ADNP_Phago.BL3) , by.x = 'Tubelabel',by.y='TubeID') %>% \n",
    "#     ggplot(tmp,aes(x=Omicron.Spike.ADNP,y=Omicron_ADNP_Phago.BL3)) + geom_point() + geom_abline(intercept = 0,slope=1)+ #+ geom_hline(yintercept = 400)+\n",
    "#     theme_bw(base_size = 20)\n",
    "\n",
    "\n",
    "data = tmp %>% select( -Omicron_ADNP_Phago.BL3 ) %>% arrange(plate,Tubelabel)\n",
    "data = data[,col_order] %>% select(-rep)\n",
    "head(data)\n",
    "\n"
   ]
  },
  {
   "cell_type": "code",
   "execution_count": 25,
   "id": "89216dad-7b86-4c34-a346-d1bc84debc44",
   "metadata": {},
   "outputs": [],
   "source": [
    "# x = data\n",
    "# rep1=seq(1,nrow(x),2)\n",
    "# rep2=seq(2,nrow(x),2)\n",
    "# all(x$ID[rep1]==x$ID[rep2])"
   ]
  },
  {
   "cell_type": "code",
   "execution_count": 26,
   "id": "5acf9fb1-28a7-49c8-b0af-330cc80ee3b9",
   "metadata": {
    "scrolled": true
   },
   "outputs": [
    {
     "name": "stdout",
     "output_type": "stream",
     "text": [
      "[1] \"CV filter removed: 618 of 4696 obs.\\nCor filter removed: 18 of 587 samples.\"\n"
     ]
    },
    {
     "data": {
      "text/html": [
       "<table class=\"dataframe\">\n",
       "<caption>A data.frame: 6 × 6</caption>\n",
       "<thead>\n",
       "\t<tr><th></th><th scope=col>Well</th><th scope=col>ID</th><th scope=col>WT.Spike.ADCPBL3</th><th scope=col>Omicron.Spike.ADCPBL3</th><th scope=col>WT.Spike.ADNP</th><th scope=col>Omicron.Spike.ADNP</th></tr>\n",
       "\t<tr><th></th><th scope=col>&lt;chr&gt;</th><th scope=col>&lt;chr&gt;</th><th scope=col>&lt;dbl&gt;</th><th scope=col>&lt;dbl&gt;</th><th scope=col>&lt;dbl&gt;</th><th scope=col>&lt;dbl&gt;</th></tr>\n",
       "</thead>\n",
       "<tbody>\n",
       "\t<tr><th scope=row>1</th><td>H01</td><td>PBS</td><td>1249.332</td><td>1824.445</td><td>1124.688</td><td> 974.3782</td></tr>\n",
       "\t<tr><th scope=row>2</th><td>H01</td><td>PBS</td><td>1648.115</td><td>2718.061</td><td>1213.435</td><td>1797.6633</td></tr>\n",
       "\t<tr><th scope=row>3</th><td>H02</td><td>PBS</td><td>2162.098</td><td>2941.832</td><td>3333.099</td><td>1321.1153</td></tr>\n",
       "\t<tr><th scope=row>4</th><td>H02</td><td>PBS</td><td>1204.977</td><td>2266.597</td><td>2461.874</td><td>1751.5072</td></tr>\n",
       "\t<tr><th scope=row>5</th><td>H03</td><td>PBS</td><td>      NA</td><td>1780.611</td><td>1126.250</td><td>       NA</td></tr>\n",
       "\t<tr><th scope=row>6</th><td>H03</td><td>PBS</td><td>      NA</td><td>3313.010</td><td>1161.851</td><td>       NA</td></tr>\n",
       "</tbody>\n",
       "</table>\n"
      ],
      "text/latex": [
       "A data.frame: 6 × 6\n",
       "\\begin{tabular}{r|llllll}\n",
       "  & Well & ID & WT.Spike.ADCPBL3 & Omicron.Spike.ADCPBL3 & WT.Spike.ADNP & Omicron.Spike.ADNP\\\\\n",
       "  & <chr> & <chr> & <dbl> & <dbl> & <dbl> & <dbl>\\\\\n",
       "\\hline\n",
       "\t1 & H01 & PBS & 1249.332 & 1824.445 & 1124.688 &  974.3782\\\\\n",
       "\t2 & H01 & PBS & 1648.115 & 2718.061 & 1213.435 & 1797.6633\\\\\n",
       "\t3 & H02 & PBS & 2162.098 & 2941.832 & 3333.099 & 1321.1153\\\\\n",
       "\t4 & H02 & PBS & 1204.977 & 2266.597 & 2461.874 & 1751.5072\\\\\n",
       "\t5 & H03 & PBS &       NA & 1780.611 & 1126.250 &        NA\\\\\n",
       "\t6 & H03 & PBS &       NA & 3313.010 & 1161.851 &        NA\\\\\n",
       "\\end{tabular}\n"
      ],
      "text/markdown": [
       "\n",
       "A data.frame: 6 × 6\n",
       "\n",
       "| <!--/--> | Well &lt;chr&gt; | ID &lt;chr&gt; | WT.Spike.ADCPBL3 &lt;dbl&gt; | Omicron.Spike.ADCPBL3 &lt;dbl&gt; | WT.Spike.ADNP &lt;dbl&gt; | Omicron.Spike.ADNP &lt;dbl&gt; |\n",
       "|---|---|---|---|---|---|---|\n",
       "| 1 | H01 | PBS | 1249.332 | 1824.445 | 1124.688 |  974.3782 |\n",
       "| 2 | H01 | PBS | 1648.115 | 2718.061 | 1213.435 | 1797.6633 |\n",
       "| 3 | H02 | PBS | 2162.098 | 2941.832 | 3333.099 | 1321.1153 |\n",
       "| 4 | H02 | PBS | 1204.977 | 2266.597 | 2461.874 | 1751.5072 |\n",
       "| 5 | H03 | PBS |       NA | 1780.611 | 1126.250 |        NA |\n",
       "| 6 | H03 | PBS |       NA | 3313.010 | 1161.851 |        NA |\n",
       "\n"
      ],
      "text/plain": [
       "  Well ID  WT.Spike.ADCPBL3 Omicron.Spike.ADCPBL3 WT.Spike.ADNP\n",
       "1 H01  PBS 1249.332         1824.445              1124.688     \n",
       "2 H01  PBS 1648.115         2718.061              1213.435     \n",
       "3 H02  PBS 2162.098         2941.832              3333.099     \n",
       "4 H02  PBS 1204.977         2266.597              2461.874     \n",
       "5 H03  PBS       NA         1780.611              1126.250     \n",
       "6 H03  PBS       NA         3313.010              1161.851     \n",
       "  Omicron.Spike.ADNP\n",
       "1  974.3782         \n",
       "2 1797.6633         \n",
       "3 1321.1153         \n",
       "4 1751.5072         \n",
       "5        NA         \n",
       "6        NA         "
      ]
     },
     "metadata": {},
     "output_type": "display_data"
    }
   ],
   "source": [
    "# data[,-(1:2)] \n",
    "tmp= qc(data[,-(1:2)],cv_thresh=.5,r_thresh=0)\n",
    "\n",
    "head(tmp )"
   ]
  },
  {
   "cell_type": "code",
   "execution_count": 27,
   "id": "5aa5e0c3-a56e-4650-851a-1034d8cc7cfd",
   "metadata": {},
   "outputs": [
    {
     "data": {
      "text/html": [
       "<table class=\"dataframe\">\n",
       "<caption>A data.frame: 6 × 8</caption>\n",
       "<thead>\n",
       "\t<tr><th></th><th scope=col>plate</th><th scope=col>Tubelabel</th><th scope=col>Well</th><th scope=col>ID</th><th scope=col>WT.Spike.ADCPBL3</th><th scope=col>Omicron.Spike.ADCPBL3</th><th scope=col>WT.Spike.ADNP</th><th scope=col>Omicron.Spike.ADNP</th></tr>\n",
       "\t<tr><th></th><th scope=col>&lt;chr&gt;</th><th scope=col>&lt;chr&gt;</th><th scope=col>&lt;chr&gt;</th><th scope=col>&lt;chr&gt;</th><th scope=col>&lt;dbl&gt;</th><th scope=col>&lt;dbl&gt;</th><th scope=col>&lt;dbl&gt;</th><th scope=col>&lt;dbl&gt;</th></tr>\n",
       "</thead>\n",
       "<tbody>\n",
       "\t<tr><th scope=row>1</th><td>p1</td><td></td><td>H01</td><td>PBS</td><td>1249.332</td><td>1824.445</td><td>1124.688</td><td> 974.3782</td></tr>\n",
       "\t<tr><th scope=row>2</th><td>p1</td><td></td><td>H01</td><td>PBS</td><td>1648.115</td><td>2718.061</td><td>1213.435</td><td>1797.6633</td></tr>\n",
       "\t<tr><th scope=row>3</th><td>p1</td><td></td><td>H02</td><td>PBS</td><td>2162.098</td><td>2941.832</td><td>3333.099</td><td>1321.1153</td></tr>\n",
       "\t<tr><th scope=row>4</th><td>p1</td><td></td><td>H02</td><td>PBS</td><td>1204.977</td><td>2266.597</td><td>2461.874</td><td>1751.5072</td></tr>\n",
       "\t<tr><th scope=row>5</th><td>p1</td><td></td><td>H03</td><td>PBS</td><td>1005.312</td><td>1780.611</td><td>1126.250</td><td> 685.4523</td></tr>\n",
       "\t<tr><th scope=row>6</th><td>p1</td><td></td><td>H03</td><td>PBS</td><td>2392.120</td><td>3313.010</td><td>1161.851</td><td>1446.3755</td></tr>\n",
       "</tbody>\n",
       "</table>\n"
      ],
      "text/latex": [
       "A data.frame: 6 × 8\n",
       "\\begin{tabular}{r|llllllll}\n",
       "  & plate & Tubelabel & Well & ID & WT.Spike.ADCPBL3 & Omicron.Spike.ADCPBL3 & WT.Spike.ADNP & Omicron.Spike.ADNP\\\\\n",
       "  & <chr> & <chr> & <chr> & <chr> & <dbl> & <dbl> & <dbl> & <dbl>\\\\\n",
       "\\hline\n",
       "\t1 & p1 &  & H01 & PBS & 1249.332 & 1824.445 & 1124.688 &  974.3782\\\\\n",
       "\t2 & p1 &  & H01 & PBS & 1648.115 & 2718.061 & 1213.435 & 1797.6633\\\\\n",
       "\t3 & p1 &  & H02 & PBS & 2162.098 & 2941.832 & 3333.099 & 1321.1153\\\\\n",
       "\t4 & p1 &  & H02 & PBS & 1204.977 & 2266.597 & 2461.874 & 1751.5072\\\\\n",
       "\t5 & p1 &  & H03 & PBS & 1005.312 & 1780.611 & 1126.250 &  685.4523\\\\\n",
       "\t6 & p1 &  & H03 & PBS & 2392.120 & 3313.010 & 1161.851 & 1446.3755\\\\\n",
       "\\end{tabular}\n"
      ],
      "text/markdown": [
       "\n",
       "A data.frame: 6 × 8\n",
       "\n",
       "| <!--/--> | plate &lt;chr&gt; | Tubelabel &lt;chr&gt; | Well &lt;chr&gt; | ID &lt;chr&gt; | WT.Spike.ADCPBL3 &lt;dbl&gt; | Omicron.Spike.ADCPBL3 &lt;dbl&gt; | WT.Spike.ADNP &lt;dbl&gt; | Omicron.Spike.ADNP &lt;dbl&gt; |\n",
       "|---|---|---|---|---|---|---|---|---|\n",
       "| 1 | p1 | <!----> | H01 | PBS | 1249.332 | 1824.445 | 1124.688 |  974.3782 |\n",
       "| 2 | p1 | <!----> | H01 | PBS | 1648.115 | 2718.061 | 1213.435 | 1797.6633 |\n",
       "| 3 | p1 | <!----> | H02 | PBS | 2162.098 | 2941.832 | 3333.099 | 1321.1153 |\n",
       "| 4 | p1 | <!----> | H02 | PBS | 1204.977 | 2266.597 | 2461.874 | 1751.5072 |\n",
       "| 5 | p1 | <!----> | H03 | PBS | 1005.312 | 1780.611 | 1126.250 |  685.4523 |\n",
       "| 6 | p1 | <!----> | H03 | PBS | 2392.120 | 3313.010 | 1161.851 | 1446.3755 |\n",
       "\n"
      ],
      "text/plain": [
       "  plate Tubelabel Well ID  WT.Spike.ADCPBL3 Omicron.Spike.ADCPBL3 WT.Spike.ADNP\n",
       "1 p1              H01  PBS 1249.332         1824.445              1124.688     \n",
       "2 p1              H01  PBS 1648.115         2718.061              1213.435     \n",
       "3 p1              H02  PBS 2162.098         2941.832              3333.099     \n",
       "4 p1              H02  PBS 1204.977         2266.597              2461.874     \n",
       "5 p1              H03  PBS 1005.312         1780.611              1126.250     \n",
       "6 p1              H03  PBS 2392.120         3313.010              1161.851     \n",
       "  Omicron.Spike.ADNP\n",
       "1  974.3782         \n",
       "2 1797.6633         \n",
       "3 1321.1153         \n",
       "4 1751.5072         \n",
       "5  685.4523         \n",
       "6 1446.3755         "
      ]
     },
     "metadata": {},
     "output_type": "display_data"
    },
    {
     "data": {
      "text/html": [
       "<style>\n",
       ".list-inline {list-style: none; margin:0; padding: 0}\n",
       ".list-inline>li {display: inline-block}\n",
       ".list-inline>li:not(:last-child)::after {content: \"\\00b7\"; padding: 0 .5ex}\n",
       "</style>\n",
       "<ol class=list-inline><li>'plate'</li><li>'Tubelabel'</li><li>'Well'</li><li>'ID'</li></ol>\n"
      ],
      "text/latex": [
       "\\begin{enumerate*}\n",
       "\\item 'plate'\n",
       "\\item 'Tubelabel'\n",
       "\\item 'Well'\n",
       "\\item 'ID'\n",
       "\\end{enumerate*}\n"
      ],
      "text/markdown": [
       "1. 'plate'\n",
       "2. 'Tubelabel'\n",
       "3. 'Well'\n",
       "4. 'ID'\n",
       "\n",
       "\n"
      ],
      "text/plain": [
       "[1] \"plate\"     \"Tubelabel\" \"Well\"      \"ID\"       "
      ]
     },
     "metadata": {},
     "output_type": "display_data"
    },
    {
     "data": {
      "text/html": [
       "<style>\n",
       ".list-inline {list-style: none; margin:0; padding: 0}\n",
       ".list-inline>li {display: inline-block}\n",
       ".list-inline>li:not(:last-child)::after {content: \"\\00b7\"; padding: 0 .5ex}\n",
       "</style>\n",
       "<ol class=list-inline><li>'WT.Spike.ADCPBL3'</li><li>'Omicron.Spike.ADCPBL3'</li><li>'WT.Spike.ADNP'</li><li>'Omicron.Spike.ADNP'</li></ol>\n"
      ],
      "text/latex": [
       "\\begin{enumerate*}\n",
       "\\item 'WT.Spike.ADCPBL3'\n",
       "\\item 'Omicron.Spike.ADCPBL3'\n",
       "\\item 'WT.Spike.ADNP'\n",
       "\\item 'Omicron.Spike.ADNP'\n",
       "\\end{enumerate*}\n"
      ],
      "text/markdown": [
       "1. 'WT.Spike.ADCPBL3'\n",
       "2. 'Omicron.Spike.ADCPBL3'\n",
       "3. 'WT.Spike.ADNP'\n",
       "4. 'Omicron.Spike.ADNP'\n",
       "\n",
       "\n"
      ],
      "text/plain": [
       "[1] \"WT.Spike.ADCPBL3\"      \"Omicron.Spike.ADCPBL3\" \"WT.Spike.ADNP\"        \n",
       "[4] \"Omicron.Spike.ADNP\"   "
      ]
     },
     "metadata": {},
     "output_type": "display_data"
    },
    {
     "data": {
      "text/html": [
       "<table class=\"dataframe\">\n",
       "<caption>A data.frame: 6 × 8</caption>\n",
       "<thead>\n",
       "\t<tr><th></th><th scope=col>plate</th><th scope=col>Tubelabel</th><th scope=col>Well</th><th scope=col>ID</th><th scope=col>WT.Spike.ADCPBL3</th><th scope=col>Omicron.Spike.ADCPBL3</th><th scope=col>WT.Spike.ADNP</th><th scope=col>Omicron.Spike.ADNP</th></tr>\n",
       "\t<tr><th></th><th scope=col>&lt;chr&gt;</th><th scope=col>&lt;chr&gt;</th><th scope=col>&lt;chr&gt;</th><th scope=col>&lt;chr&gt;</th><th scope=col>&lt;dbl&gt;</th><th scope=col>&lt;dbl&gt;</th><th scope=col>&lt;dbl&gt;</th><th scope=col>&lt;dbl&gt;</th></tr>\n",
       "</thead>\n",
       "<tbody>\n",
       "\t<tr><th scope=row>1</th><td>p1</td><td>p1</td><td>H01</td><td>PBS</td><td>1249.332</td><td>1824.445</td><td>1124.688</td><td> 974.3782</td></tr>\n",
       "\t<tr><th scope=row>2</th><td>p1</td><td>p1</td><td>H01</td><td>PBS</td><td>1648.115</td><td>2718.061</td><td>1213.435</td><td>1797.6633</td></tr>\n",
       "\t<tr><th scope=row>3</th><td>p1</td><td>p1</td><td>H02</td><td>PBS</td><td>2162.098</td><td>2941.832</td><td>3333.099</td><td>1321.1153</td></tr>\n",
       "\t<tr><th scope=row>4</th><td>p1</td><td>p1</td><td>H02</td><td>PBS</td><td>1204.977</td><td>2266.597</td><td>2461.874</td><td>1751.5072</td></tr>\n",
       "\t<tr><th scope=row>5</th><td>p1</td><td>p1</td><td>H03</td><td>PBS</td><td>1005.312</td><td>1780.611</td><td>1126.250</td><td> 685.4523</td></tr>\n",
       "\t<tr><th scope=row>6</th><td>p1</td><td>p1</td><td>H03</td><td>PBS</td><td>2392.120</td><td>3313.010</td><td>1161.851</td><td>1446.3755</td></tr>\n",
       "</tbody>\n",
       "</table>\n"
      ],
      "text/latex": [
       "A data.frame: 6 × 8\n",
       "\\begin{tabular}{r|llllllll}\n",
       "  & plate & Tubelabel & Well & ID & WT.Spike.ADCPBL3 & Omicron.Spike.ADCPBL3 & WT.Spike.ADNP & Omicron.Spike.ADNP\\\\\n",
       "  & <chr> & <chr> & <chr> & <chr> & <dbl> & <dbl> & <dbl> & <dbl>\\\\\n",
       "\\hline\n",
       "\t1 & p1 & p1 & H01 & PBS & 1249.332 & 1824.445 & 1124.688 &  974.3782\\\\\n",
       "\t2 & p1 & p1 & H01 & PBS & 1648.115 & 2718.061 & 1213.435 & 1797.6633\\\\\n",
       "\t3 & p1 & p1 & H02 & PBS & 2162.098 & 2941.832 & 3333.099 & 1321.1153\\\\\n",
       "\t4 & p1 & p1 & H02 & PBS & 1204.977 & 2266.597 & 2461.874 & 1751.5072\\\\\n",
       "\t5 & p1 & p1 & H03 & PBS & 1005.312 & 1780.611 & 1126.250 &  685.4523\\\\\n",
       "\t6 & p1 & p1 & H03 & PBS & 2392.120 & 3313.010 & 1161.851 & 1446.3755\\\\\n",
       "\\end{tabular}\n"
      ],
      "text/markdown": [
       "\n",
       "A data.frame: 6 × 8\n",
       "\n",
       "| <!--/--> | plate &lt;chr&gt; | Tubelabel &lt;chr&gt; | Well &lt;chr&gt; | ID &lt;chr&gt; | WT.Spike.ADCPBL3 &lt;dbl&gt; | Omicron.Spike.ADCPBL3 &lt;dbl&gt; | WT.Spike.ADNP &lt;dbl&gt; | Omicron.Spike.ADNP &lt;dbl&gt; |\n",
       "|---|---|---|---|---|---|---|---|---|\n",
       "| 1 | p1 | p1 | H01 | PBS | 1249.332 | 1824.445 | 1124.688 |  974.3782 |\n",
       "| 2 | p1 | p1 | H01 | PBS | 1648.115 | 2718.061 | 1213.435 | 1797.6633 |\n",
       "| 3 | p1 | p1 | H02 | PBS | 2162.098 | 2941.832 | 3333.099 | 1321.1153 |\n",
       "| 4 | p1 | p1 | H02 | PBS | 1204.977 | 2266.597 | 2461.874 | 1751.5072 |\n",
       "| 5 | p1 | p1 | H03 | PBS | 1005.312 | 1780.611 | 1126.250 |  685.4523 |\n",
       "| 6 | p1 | p1 | H03 | PBS | 2392.120 | 3313.010 | 1161.851 | 1446.3755 |\n",
       "\n"
      ],
      "text/plain": [
       "  plate Tubelabel Well ID  WT.Spike.ADCPBL3 Omicron.Spike.ADCPBL3 WT.Spike.ADNP\n",
       "1 p1    p1        H01  PBS 1249.332         1824.445              1124.688     \n",
       "2 p1    p1        H01  PBS 1648.115         2718.061              1213.435     \n",
       "3 p1    p1        H02  PBS 2162.098         2941.832              3333.099     \n",
       "4 p1    p1        H02  PBS 1204.977         2266.597              2461.874     \n",
       "5 p1    p1        H03  PBS 1005.312         1780.611              1126.250     \n",
       "6 p1    p1        H03  PBS 2392.120         3313.010              1161.851     \n",
       "  Omicron.Spike.ADNP\n",
       "1  974.3782         \n",
       "2 1797.6633         \n",
       "3 1321.1153         \n",
       "4 1751.5072         \n",
       "5  685.4523         \n",
       "6 1446.3755         "
      ]
     },
     "metadata": {},
     "output_type": "display_data"
    },
    {
     "name": "stderr",
     "output_type": "stream",
     "text": [
      "Using plate, Tubelabel, Well, ID as id variables\n",
      "\n",
      "Warning message:\n",
      "\"\u001b[1m\u001b[22mRemoved 24 rows containing non-finite outside the scale range (`stat_boxplot()`).\"\n",
      "Using plate, Tubelabel, Well, ID as id variables\n",
      "\n"
     ]
    },
    {
     "data": {
      "image/png": "[encoded data removed]",
      "text/plain": [
       "plot without title"
      ]
     },
     "metadata": {
      "image/png": {
       "height": 480,
       "width": 900
      }
     },
     "output_type": "display_data"
    },
    {
     "name": "stderr",
     "output_type": "stream",
     "text": [
      "Using plate, Tubelabel, Well, ID as id variables\n",
      "\n",
      "Warning message:\n",
      "\"\u001b[1m\u001b[22mRemoved 38 rows containing non-finite outside the scale range (`stat_boxplot()`).\"\n"
     ]
    },
    {
     "data": {
      "image/png": "[encoded data removed]",
      "text/plain": [
       "plot without title"
      ]
     },
     "metadata": {
      "image/png": {
       "height": 480,
       "width": 900
      }
     },
     "output_type": "display_data"
    },
    {
     "data": {
      "text/html": [
       "<table class=\"dataframe\">\n",
       "<caption>A grouped_df: 7 × 6</caption>\n",
       "<thead>\n",
       "\t<tr><th scope=col>plate</th><th scope=col>ID</th><th scope=col>WT.Spike.ADCPBL3</th><th scope=col>Omicron.Spike.ADCPBL3</th><th scope=col>WT.Spike.ADNP</th><th scope=col>Omicron.Spike.ADNP</th></tr>\n",
       "\t<tr><th scope=col>&lt;chr&gt;</th><th scope=col>&lt;chr&gt;</th><th scope=col>&lt;dbl&gt;</th><th scope=col>&lt;dbl&gt;</th><th scope=col>&lt;dbl&gt;</th><th scope=col>&lt;dbl&gt;</th></tr>\n",
       "</thead>\n",
       "<tbody>\n",
       "\t<tr><td>p1</td><td>Naive</td><td>1535.798</td><td>2182.097</td><td>2442.2374</td><td>1368.093</td></tr>\n",
       "\t<tr><td>p1</td><td>PBS  </td><td>1496.978</td><td>2492.329</td><td>1105.0838</td><td>1232.615</td></tr>\n",
       "\t<tr><td>p2</td><td>Naive</td><td>1752.655</td><td>2457.542</td><td>2577.3688</td><td>1260.842</td></tr>\n",
       "\t<tr><td>p2</td><td>PBS  </td><td>1563.689</td><td>2519.082</td><td>1363.8792</td><td>1461.266</td></tr>\n",
       "\t<tr><td>p3</td><td>Naive</td><td>1732.539</td><td>2044.399</td><td>3232.5194</td><td>1518.032</td></tr>\n",
       "\t<tr><td>p3</td><td>PBS  </td><td>1514.664</td><td>2884.084</td><td>1234.7179</td><td>1352.038</td></tr>\n",
       "\t<tr><td>p4</td><td>PBS  </td><td>2744.172</td><td>1643.160</td><td> 974.1872</td><td> 168.617</td></tr>\n",
       "</tbody>\n",
       "</table>\n"
      ],
      "text/latex": [
       "A grouped\\_df: 7 × 6\n",
       "\\begin{tabular}{llllll}\n",
       " plate & ID & WT.Spike.ADCPBL3 & Omicron.Spike.ADCPBL3 & WT.Spike.ADNP & Omicron.Spike.ADNP\\\\\n",
       " <chr> & <chr> & <dbl> & <dbl> & <dbl> & <dbl>\\\\\n",
       "\\hline\n",
       "\t p1 & Naive & 1535.798 & 2182.097 & 2442.2374 & 1368.093\\\\\n",
       "\t p1 & PBS   & 1496.978 & 2492.329 & 1105.0838 & 1232.615\\\\\n",
       "\t p2 & Naive & 1752.655 & 2457.542 & 2577.3688 & 1260.842\\\\\n",
       "\t p2 & PBS   & 1563.689 & 2519.082 & 1363.8792 & 1461.266\\\\\n",
       "\t p3 & Naive & 1732.539 & 2044.399 & 3232.5194 & 1518.032\\\\\n",
       "\t p3 & PBS   & 1514.664 & 2884.084 & 1234.7179 & 1352.038\\\\\n",
       "\t p4 & PBS   & 2744.172 & 1643.160 &  974.1872 &  168.617\\\\\n",
       "\\end{tabular}\n"
      ],
      "text/markdown": [
       "\n",
       "A grouped_df: 7 × 6\n",
       "\n",
       "| plate &lt;chr&gt; | ID &lt;chr&gt; | WT.Spike.ADCPBL3 &lt;dbl&gt; | Omicron.Spike.ADCPBL3 &lt;dbl&gt; | WT.Spike.ADNP &lt;dbl&gt; | Omicron.Spike.ADNP &lt;dbl&gt; |\n",
       "|---|---|---|---|---|---|\n",
       "| p1 | Naive | 1535.798 | 2182.097 | 2442.2374 | 1368.093 |\n",
       "| p1 | PBS   | 1496.978 | 2492.329 | 1105.0838 | 1232.615 |\n",
       "| p2 | Naive | 1752.655 | 2457.542 | 2577.3688 | 1260.842 |\n",
       "| p2 | PBS   | 1563.689 | 2519.082 | 1363.8792 | 1461.266 |\n",
       "| p3 | Naive | 1732.539 | 2044.399 | 3232.5194 | 1518.032 |\n",
       "| p3 | PBS   | 1514.664 | 2884.084 | 1234.7179 | 1352.038 |\n",
       "| p4 | PBS   | 2744.172 | 1643.160 |  974.1872 |  168.617 |\n",
       "\n"
      ],
      "text/plain": [
       "  plate ID    WT.Spike.ADCPBL3 Omicron.Spike.ADCPBL3 WT.Spike.ADNP\n",
       "1 p1    Naive 1535.798         2182.097              2442.2374    \n",
       "2 p1    PBS   1496.978         2492.329              1105.0838    \n",
       "3 p2    Naive 1752.655         2457.542              2577.3688    \n",
       "4 p2    PBS   1563.689         2519.082              1363.8792    \n",
       "5 p3    Naive 1732.539         2044.399              3232.5194    \n",
       "6 p3    PBS   1514.664         2884.084              1234.7179    \n",
       "7 p4    PBS   2744.172         1643.160               974.1872    \n",
       "  Omicron.Spike.ADNP\n",
       "1 1368.093          \n",
       "2 1232.615          \n",
       "3 1260.842          \n",
       "4 1461.266          \n",
       "5 1518.032          \n",
       "6 1352.038          \n",
       "7  168.617          "
      ]
     },
     "metadata": {},
     "output_type": "display_data"
    },
    {
     "data": {
      "image/png": "[encoded data removed]",
      "text/plain": [
       "plot without title"
      ]
     },
     "metadata": {
      "image/png": {
       "height": 480,
       "width": 900
      }
     },
     "output_type": "display_data"
    }
   ],
   "source": [
    "\n",
    "\n",
    "head(data)\n",
    "\n",
    "# data$plate = c(rep('p1',766),rep('p2',336))\n",
    "# data$Tubelabel[738:766] = 'Plate1PBS'\n",
    "# data$Tubelabel[1074:1102] = 'Plate2PBS'\n",
    "\n",
    "data$Tubelabel = ifelse(data$ID=='PBS',data$plate,data$Tubelabel)\n",
    "\n",
    "annot_vars = colnames(data)[c(1:4)]\n",
    "data_vars = colnames(data)[-c(1:4)]\n",
    "\n",
    "annot_vars\n",
    "data_vars\n",
    "\n",
    "# check pbs and naive\n",
    "options(repr.plot.width=15,repr.plot.height=8)\n",
    "\n",
    "\n",
    "head(data)\n",
    "\n",
    "melt(data) %>% filter(ID=='PBS') %>%\n",
    "    ggplot(aes(x=variable,y=value,color=plate))+\n",
    "        geom_boxplot()+\n",
    "        theme_bw(base_size = 20)+ylab('Phago Score PBS')\n",
    "\n",
    "melt(data) %>% filter(ID=='Naive') %>%\n",
    "    ggplot(aes(x=variable,y=value,color=plate))+\n",
    "        geom_boxplot()+\n",
    "        theme_bw(base_size = 20)+ylab('Phago Score Naive')\n",
    "\n",
    "melt(data) %>%\n",
    "    ggplot(aes(x=variable,y=value,color=plate))+\n",
    "        geom_boxplot()+\n",
    "        theme_bw(base_size = 20)+ylab('Phago Score All')\n",
    "\n",
    "data %>% \n",
    "    filter(ID%in%c('PBS','Naive')) %>% \n",
    "        group_by(plate,ID) %>%\n",
    "            summarize_if(is.numeric,median,na.rm=T)"
   ]
  },
  {
   "cell_type": "code",
   "execution_count": 28,
   "id": "2976a8b3-6159-4442-92d0-1bef59b3fd74",
   "metadata": {
    "scrolled": true,
    "tags": []
   },
   "outputs": [
    {
     "data": {
      "text/html": [
       "<style>\n",
       ".dl-inline {width: auto; margin:0; padding: 0}\n",
       ".dl-inline>dt, .dl-inline>dd {float: none; width: auto; display: inline-block}\n",
       ".dl-inline>dt::after {content: \":\\0020\"; padding-right: .5ex}\n",
       ".dl-inline>dt:not(:first-of-type) {padding-left: .5ex}\n",
       "</style><dl class=dl-inline><dt>WT.Spike.ADCPBL3</dt><dd>4299.315898</dd><dt>Omicron.Spike.ADCPBL3</dt><dd>3360.232283</dd><dt>WT.Spike.ADNP</dt><dd>3706.0013285</dd><dt>Omicron.Spike.ADNP</dt><dd>1480.6178135</dd></dl>\n"
      ],
      "text/latex": [
       "\\begin{description*}\n",
       "\\item[WT.Spike.ADCPBL3] 4299.315898\n",
       "\\item[Omicron.Spike.ADCPBL3] 3360.232283\n",
       "\\item[WT.Spike.ADNP] 3706.0013285\n",
       "\\item[Omicron.Spike.ADNP] 1480.6178135\n",
       "\\end{description*}\n"
      ],
      "text/markdown": [
       "WT.Spike.ADCPBL3\n",
       ":   4299.315898Omicron.Spike.ADCPBL3\n",
       ":   3360.232283WT.Spike.ADNP\n",
       ":   3706.0013285Omicron.Spike.ADNP\n",
       ":   1480.6178135\n",
       "\n"
      ],
      "text/plain": [
       "     WT.Spike.ADCPBL3 Omicron.Spike.ADCPBL3         WT.Spike.ADNP \n",
       "             4299.316              3360.232              3706.001 \n",
       "   Omicron.Spike.ADNP \n",
       "             1480.618 "
      ]
     },
     "metadata": {},
     "output_type": "display_data"
    },
    {
     "data": {
      "text/html": [
       "<style>\n",
       ".dl-inline {width: auto; margin:0; padding: 0}\n",
       ".dl-inline>dt, .dl-inline>dd {float: none; width: auto; display: inline-block}\n",
       ".dl-inline>dt::after {content: \":\\0020\"; padding-right: .5ex}\n",
       ".dl-inline>dt:not(:first-of-type) {padding-left: .5ex}\n",
       "</style><dl class=dl-inline><dt>WT.Spike.ADCPBL3</dt><dd>8366.3160245</dd><dt>Omicron.Spike.ADCPBL3</dt><dd>1734.3648105</dd><dt>WT.Spike.ADNP</dt><dd>2842.136435</dd><dt>Omicron.Spike.ADNP</dt><dd>595.4417283</dd></dl>\n"
      ],
      "text/latex": [
       "\\begin{description*}\n",
       "\\item[WT.Spike.ADCPBL3] 8366.3160245\n",
       "\\item[Omicron.Spike.ADCPBL3] 1734.3648105\n",
       "\\item[WT.Spike.ADNP] 2842.136435\n",
       "\\item[Omicron.Spike.ADNP] 595.4417283\n",
       "\\end{description*}\n"
      ],
      "text/markdown": [
       "WT.Spike.ADCPBL3\n",
       ":   8366.3160245Omicron.Spike.ADCPBL3\n",
       ":   1734.3648105WT.Spike.ADNP\n",
       ":   2842.136435Omicron.Spike.ADNP\n",
       ":   595.4417283\n",
       "\n"
      ],
      "text/plain": [
       "     WT.Spike.ADCPBL3 Omicron.Spike.ADCPBL3         WT.Spike.ADNP \n",
       "            8366.3160             1734.3648             2842.1364 \n",
       "   Omicron.Spike.ADNP \n",
       "             595.4417 "
      ]
     },
     "metadata": {},
     "output_type": "display_data"
    },
    {
     "data": {
      "text/html": [
       "<style>\n",
       ".dl-inline {width: auto; margin:0; padding: 0}\n",
       ".dl-inline>dt, .dl-inline>dd {float: none; width: auto; display: inline-block}\n",
       ".dl-inline>dt::after {content: \":\\0020\"; padding-right: .5ex}\n",
       ".dl-inline>dt:not(:first-of-type) {padding-left: .5ex}\n",
       "</style><dl class=dl-inline><dt>WT.Spike.ADCPBL3</dt><dd>1597.4928145</dd><dt>Omicron.Spike.ADCPBL3</dt><dd>2243.733766</dd><dt>WT.Spike.ADNP</dt><dd>2565.912098</dd><dt>Omicron.Spike.ADNP</dt><dd>1296.2184745</dd></dl>\n"
      ],
      "text/latex": [
       "\\begin{description*}\n",
       "\\item[WT.Spike.ADCPBL3] 1597.4928145\n",
       "\\item[Omicron.Spike.ADCPBL3] 2243.733766\n",
       "\\item[WT.Spike.ADNP] 2565.912098\n",
       "\\item[Omicron.Spike.ADNP] 1296.2184745\n",
       "\\end{description*}\n"
      ],
      "text/markdown": [
       "WT.Spike.ADCPBL3\n",
       ":   1597.4928145Omicron.Spike.ADCPBL3\n",
       ":   2243.733766WT.Spike.ADNP\n",
       ":   2565.912098Omicron.Spike.ADNP\n",
       ":   1296.2184745\n",
       "\n"
      ],
      "text/plain": [
       "     WT.Spike.ADCPBL3 Omicron.Spike.ADCPBL3         WT.Spike.ADNP \n",
       "             1597.493              2243.734              2565.912 \n",
       "   Omicron.Spike.ADNP \n",
       "             1296.218 "
      ]
     },
     "metadata": {},
     "output_type": "display_data"
    },
    {
     "data": {
      "text/html": [
       "<style>\n",
       ".dl-inline {width: auto; margin:0; padding: 0}\n",
       ".dl-inline>dt, .dl-inline>dd {float: none; width: auto; display: inline-block}\n",
       ".dl-inline>dt::after {content: \":\\0020\"; padding-right: .5ex}\n",
       ".dl-inline>dt:not(:first-of-type) {padding-left: .5ex}\n",
       "</style><dl class=dl-inline><dt>WT.Spike.ADCPBL3</dt><dd>3108.66427358648</dd><dt>Omicron.Spike.ADCPBL3</dt><dd>1158.09044141638</dd><dt>WT.Spike.ADNP</dt><dd>1967.80076862109</dd><dt>Omicron.Spike.ADNP</dt><dd>521.284129958004</dd></dl>\n"
      ],
      "text/latex": [
       "\\begin{description*}\n",
       "\\item[WT.Spike.ADCPBL3] 3108.66427358648\n",
       "\\item[Omicron.Spike.ADCPBL3] 1158.09044141638\n",
       "\\item[WT.Spike.ADNP] 1967.80076862109\n",
       "\\item[Omicron.Spike.ADNP] 521.284129958004\n",
       "\\end{description*}\n"
      ],
      "text/markdown": [
       "WT.Spike.ADCPBL3\n",
       ":   3108.66427358648Omicron.Spike.ADCPBL3\n",
       ":   1158.09044141638WT.Spike.ADNP\n",
       ":   1967.80076862109Omicron.Spike.ADNP\n",
       ":   521.284129958004\n",
       "\n"
      ],
      "text/plain": [
       "     WT.Spike.ADCPBL3 Omicron.Spike.ADCPBL3         WT.Spike.ADNP \n",
       "            3108.6643             1158.0904             1967.8008 \n",
       "   Omicron.Spike.ADNP \n",
       "             521.2841 "
      ]
     },
     "metadata": {},
     "output_type": "display_data"
    }
   ],
   "source": [
    "\n",
    "\n",
    "\n",
    "# negative biological control normalization (naive)\n",
    "idx = data$plate!='p4'\n",
    "pbs_p1  = unlist(apply(data[idx,data_vars],2,median,na.rm=T) )\n",
    "# pbs_p1  = unlist(apply(data[idx & data$ID=='PBS',data_vars],2,median,na.rm=T) )\n",
    "naive_p1= unlist(apply(data[idx & data$ID=='Naive',data_vars],2,median,na.rm=T) )\n",
    "# data[idx,data_vars] = data[idx,data_vars] - pbs_p1\n",
    "\n",
    "idx = data$plate=='p4'\n",
    "pbs_p2  = unlist(apply(data[idx,data_vars],2,median,na.rm=T) )\n",
    "# pbs_p2  = unlist(apply(data[idx & data$ID=='PBS',data_vars],2,median,na.rm=T) )\n",
    "naive_p2= naive_p1 * (pbs_p2/pbs_p1)\n",
    "# naive_p2 = naive_p1\n",
    "                                                                 \n",
    "# data[data<1] = 1\n",
    "                                                                 \n",
    "pbs_p1\n",
    "pbs_p2\n",
    "naive_p1\n",
    "naive_p2\n",
    "\n",
    "data_norm = data \n",
    "\n",
    "# head(data_norm)\n",
    "     \n",
    "# foldchange norm\n",
    "for(pi in paste0('p',1:4)){\n",
    "    idx=data$plate==pi\n",
    "    if(pi=='p4'){\n",
    "        naive_pi=naive_p2\n",
    "    }else{\n",
    "        naive_pi= unlist(apply(data[idx & data$ID=='Naive',data_vars],2,median,na.rm=T) )\n",
    "    }\n",
    "    # print(naive_pi)\n",
    "    data_norm[idx,data_vars] = data_norm[idx,data_vars] / do.call(rbind,lapply(1:sum(idx), function(x) naive_pi))\n",
    "}\n",
    "\n",
    "# idx=data$plate!='p4'\n",
    "# data_norm[idx,data_vars] = data_norm[idx,data_vars] / do.call(rbind,lapply(1:sum(idx), function(x) naive_p1))\n",
    "                              \n",
    "# idx=data$plate=='p4'\n",
    "# data_norm[idx,data_vars] = data_norm[idx,data_vars] / do.call(rbind,lapply(1:sum(idx), function(x) naive_p2))\n",
    "                                                                           \n",
    "\n",
    "                                                                           \n",
    "data = data %>% select(-Well,-plate) %>% group_by(Tubelabel,ID) %>%\n",
    "        summarise_all( mean,na.rm=T ) %>% ungroup() # summarise replicates\n",
    "                                                                           \n",
    "data_norm = data_norm %>% select(-Well,-plate)  %>% group_by(Tubelabel,ID) %>%\n",
    "        summarise_all( mean,na.rm=T ) %>% ungroup() # summarise replicates\n",
    "\n",
    "data = data %>% filter(ID!='PBS') %>% select(-ID)                                          \n",
    "data_norm = data_norm %>% filter(ID!='PBS')%>% select(-ID)\n"
   ]
  },
  {
   "cell_type": "code",
   "execution_count": 29,
   "id": "0afa8d86-8eb6-4a96-8d1e-593b460f3b32",
   "metadata": {},
   "outputs": [
    {
     "data": {
      "text/html": [
       "<table class=\"dataframe\">\n",
       "<caption>A tibble: 6 × 5</caption>\n",
       "<thead>\n",
       "\t<tr><th scope=col>Tubelabel</th><th scope=col>WT.Spike.ADCPBL3</th><th scope=col>Omicron.Spike.ADCPBL3</th><th scope=col>WT.Spike.ADNP</th><th scope=col>Omicron.Spike.ADNP</th></tr>\n",
       "\t<tr><th scope=col>&lt;chr&gt;</th><th scope=col>&lt;dbl&gt;</th><th scope=col>&lt;dbl&gt;</th><th scope=col>&lt;dbl&gt;</th><th scope=col>&lt;dbl&gt;</th></tr>\n",
       "</thead>\n",
       "<tbody>\n",
       "\t<tr><td>P_PUC_H_004_(1)_G4</td><td>15310.511</td><td>2888.810</td><td>3409.972</td><td> 625.3657</td></tr>\n",
       "\t<tr><td>S_PUC_C_064_(1)_G4</td><td> 1662.435</td><td>3856.818</td><td>1243.318</td><td>1428.2399</td></tr>\n",
       "\t<tr><td>S_PUC_C_064_(4)_G4</td><td> 3332.325</td><td>3514.186</td><td>2732.044</td><td>1578.2241</td></tr>\n",
       "\t<tr><td>S_PUC_C_064_(5)_G4</td><td> 7554.520</td><td>5248.311</td><td>6733.361</td><td>1931.6456</td></tr>\n",
       "\t<tr><td>S_PUC_C_064_(6)_G4</td><td> 5053.421</td><td>4048.223</td><td>2824.233</td><td>1665.9287</td></tr>\n",
       "\t<tr><td>S_PUC_C_064_(7)_G4</td><td> 4037.492</td><td>3351.454</td><td>2642.787</td><td>1470.4710</td></tr>\n",
       "</tbody>\n",
       "</table>\n"
      ],
      "text/latex": [
       "A tibble: 6 × 5\n",
       "\\begin{tabular}{lllll}\n",
       " Tubelabel & WT.Spike.ADCPBL3 & Omicron.Spike.ADCPBL3 & WT.Spike.ADNP & Omicron.Spike.ADNP\\\\\n",
       " <chr> & <dbl> & <dbl> & <dbl> & <dbl>\\\\\n",
       "\\hline\n",
       "\t P\\_PUC\\_H\\_004\\_(1)\\_G4 & 15310.511 & 2888.810 & 3409.972 &  625.3657\\\\\n",
       "\t S\\_PUC\\_C\\_064\\_(1)\\_G4 &  1662.435 & 3856.818 & 1243.318 & 1428.2399\\\\\n",
       "\t S\\_PUC\\_C\\_064\\_(4)\\_G4 &  3332.325 & 3514.186 & 2732.044 & 1578.2241\\\\\n",
       "\t S\\_PUC\\_C\\_064\\_(5)\\_G4 &  7554.520 & 5248.311 & 6733.361 & 1931.6456\\\\\n",
       "\t S\\_PUC\\_C\\_064\\_(6)\\_G4 &  5053.421 & 4048.223 & 2824.233 & 1665.9287\\\\\n",
       "\t S\\_PUC\\_C\\_064\\_(7)\\_G4 &  4037.492 & 3351.454 & 2642.787 & 1470.4710\\\\\n",
       "\\end{tabular}\n"
      ],
      "text/markdown": [
       "\n",
       "A tibble: 6 × 5\n",
       "\n",
       "| Tubelabel &lt;chr&gt; | WT.Spike.ADCPBL3 &lt;dbl&gt; | Omicron.Spike.ADCPBL3 &lt;dbl&gt; | WT.Spike.ADNP &lt;dbl&gt; | Omicron.Spike.ADNP &lt;dbl&gt; |\n",
       "|---|---|---|---|---|\n",
       "| P_PUC_H_004_(1)_G4 | 15310.511 | 2888.810 | 3409.972 |  625.3657 |\n",
       "| S_PUC_C_064_(1)_G4 |  1662.435 | 3856.818 | 1243.318 | 1428.2399 |\n",
       "| S_PUC_C_064_(4)_G4 |  3332.325 | 3514.186 | 2732.044 | 1578.2241 |\n",
       "| S_PUC_C_064_(5)_G4 |  7554.520 | 5248.311 | 6733.361 | 1931.6456 |\n",
       "| S_PUC_C_064_(6)_G4 |  5053.421 | 4048.223 | 2824.233 | 1665.9287 |\n",
       "| S_PUC_C_064_(7)_G4 |  4037.492 | 3351.454 | 2642.787 | 1470.4710 |\n",
       "\n"
      ],
      "text/plain": [
       "  Tubelabel          WT.Spike.ADCPBL3 Omicron.Spike.ADCPBL3 WT.Spike.ADNP\n",
       "1 P_PUC_H_004_(1)_G4 15310.511        2888.810              3409.972     \n",
       "2 S_PUC_C_064_(1)_G4  1662.435        3856.818              1243.318     \n",
       "3 S_PUC_C_064_(4)_G4  3332.325        3514.186              2732.044     \n",
       "4 S_PUC_C_064_(5)_G4  7554.520        5248.311              6733.361     \n",
       "5 S_PUC_C_064_(6)_G4  5053.421        4048.223              2824.233     \n",
       "6 S_PUC_C_064_(7)_G4  4037.492        3351.454              2642.787     \n",
       "  Omicron.Spike.ADNP\n",
       "1  625.3657         \n",
       "2 1428.2399         \n",
       "3 1578.2241         \n",
       "4 1931.6456         \n",
       "5 1665.9287         \n",
       "6 1470.4710         "
      ]
     },
     "metadata": {},
     "output_type": "display_data"
    },
    {
     "data": {
      "image/png": "[encoded data removed]",
      "text/plain": [
       "Plot with title \"Histogram of data$Omicron.Spike.ADNP\""
      ]
     },
     "metadata": {
      "image/png": {
       "height": 480,
       "width": 900
      }
     },
     "output_type": "display_data"
    }
   ],
   "source": [
    "head(data)\n",
    "\n",
    "\n",
    "par(mfrow=c(2,2))\n",
    "hist(data$WT.Spike.ADCPBL3)\n",
    "hist(data$WT.Spike.ADNP)\n",
    "hist(data$Omicron.Spike.ADCPBL3)\n",
    "hist(data$Omicron.Spike.ADNP)"
   ]
  },
  {
   "cell_type": "code",
   "execution_count": 30,
   "id": "24aa008b-2e39-4534-8171-999ad97c1373",
   "metadata": {},
   "outputs": [
    {
     "data": {
      "text/html": [
       "<style>\n",
       ".list-inline {list-style: none; margin:0; padding: 0}\n",
       ".list-inline>li {display: inline-block}\n",
       ".list-inline>li:not(:last-child)::after {content: \"\\00b7\"; padding: 0 .5ex}\n",
       "</style>\n",
       "<ol class=list-inline><li>522</li><li>249</li></ol>\n"
      ],
      "text/latex": [
       "\\begin{enumerate*}\n",
       "\\item 522\n",
       "\\item 249\n",
       "\\end{enumerate*}\n"
      ],
      "text/markdown": [
       "1. 522\n",
       "2. 249\n",
       "\n",
       "\n"
      ],
      "text/plain": [
       "[1] 522 249"
      ]
     },
     "metadata": {},
     "output_type": "display_data"
    },
    {
     "data": {
      "text/html": [
       "<style>\n",
       ".list-inline {list-style: none; margin:0; padding: 0}\n",
       ".list-inline>li {display: inline-block}\n",
       ".list-inline>li:not(:last-child)::after {content: \"\\00b7\"; padding: 0 .5ex}\n",
       "</style>\n",
       "<ol class=list-inline><li>522</li><li>5</li></ol>\n"
      ],
      "text/latex": [
       "\\begin{enumerate*}\n",
       "\\item 522\n",
       "\\item 5\n",
       "\\end{enumerate*}\n"
      ],
      "text/markdown": [
       "1. 522\n",
       "2. 5\n",
       "\n",
       "\n"
      ],
      "text/plain": [
       "[1] 522   5"
      ]
     },
     "metadata": {},
     "output_type": "display_data"
    }
   ],
   "source": [
    "dim(data_lum)\n",
    "dim(data)"
   ]
  },
  {
   "cell_type": "code",
   "execution_count": 31,
   "id": "b2cd19a3-dcb9-4e83-889d-1550e371c94c",
   "metadata": {},
   "outputs": [
    {
     "data": {
      "text/html": [
       "<style>\n",
       ".list-inline {list-style: none; margin:0; padding: 0}\n",
       ".list-inline>li {display: inline-block}\n",
       ".list-inline>li:not(:last-child)::after {content: \"\\00b7\"; padding: 0 .5ex}\n",
       "</style>\n",
       "<ol class=list-inline><li>522</li><li>252</li></ol>\n"
      ],
      "text/latex": [
       "\\begin{enumerate*}\n",
       "\\item 522\n",
       "\\item 252\n",
       "\\end{enumerate*}\n"
      ],
      "text/markdown": [
       "1. 522\n",
       "2. 252\n",
       "\n",
       "\n"
      ],
      "text/plain": [
       "[1] 522 252"
      ]
     },
     "metadata": {},
     "output_type": "display_data"
    },
    {
     "data": {
      "text/html": [
       "<style>\n",
       ".list-inline {list-style: none; margin:0; padding: 0}\n",
       ".list-inline>li {display: inline-block}\n",
       ".list-inline>li:not(:last-child)::after {content: \"\\00b7\"; padding: 0 .5ex}\n",
       "</style>\n",
       "<ol class=list-inline><li>522</li><li>252</li></ol>\n"
      ],
      "text/latex": [
       "\\begin{enumerate*}\n",
       "\\item 522\n",
       "\\item 252\n",
       "\\end{enumerate*}\n"
      ],
      "text/markdown": [
       "1. 522\n",
       "2. 252\n",
       "\n",
       "\n"
      ],
      "text/plain": [
       "[1] 522 252"
      ]
     },
     "metadata": {},
     "output_type": "display_data"
    }
   ],
   "source": [
    "data=    merge(data_lum%>%select(-Well) ,\n",
    "               data   , \n",
    "               by.x=c('Tube.Label'),by.y=c('Tubelabel'),all=T)\n",
    "data_norm=    merge(data_norm_lum%>%select(-Well) , \n",
    "                    data_norm  ,\n",
    "                    by.x=c('Tube.Label'),by.y=c('Tubelabel'),all=T)\n",
    "\n",
    "\n",
    "# tmp[duplicated(tmp$Tube.Label,fromLast = F) | duplicated(tmp$Tube.Label,fromLast = T),] %>% arrange(Tube.Label)\n",
    "# head(tmp[sample(1:nrow(tmp),10),],10)\n",
    "# dim(data_lum)\n",
    "dim(data)\n",
    "dim(data_norm)"
   ]
  },
  {
   "cell_type": "code",
   "execution_count": 32,
   "id": "17c88526-3bd4-4863-99c0-ddf6093fceb4",
   "metadata": {},
   "outputs": [
    {
     "data": {
      "text/html": [
       "<table class=\"dataframe\">\n",
       "<caption>A data.frame: 6 × 252</caption>\n",
       "<thead>\n",
       "\t<tr><th></th><th scope=col>Tube.Label</th><th scope=col>Lab.ID</th><th scope=col>PlateNum</th><th scope=col>SampleNum</th><th scope=col>PlateID</th><th scope=col>PlateCoord</th><th scope=col>ID</th><th scope=col>BOX</th><th scope=col>Vaccine</th><th scope=col>Time.sample</th><th scope=col>...</th><th scope=col>HCMVgB.Antigen.R3b</th><th scope=col>Influenza.HA.R3b</th><th scope=col>EBOV.Antigen.R3b</th><th scope=col>Omicron.RBD.R3b</th><th scope=col>Omicron.Spike.R3b</th><th scope=col>WT.Spike.NeutIC50</th><th scope=col>WT.Spike.ADCPBL3</th><th scope=col>Omicron.Spike.ADCPBL3</th><th scope=col>WT.Spike.ADNP</th><th scope=col>Omicron.Spike.ADNP</th></tr>\n",
       "\t<tr><th></th><th scope=col>&lt;chr&gt;</th><th scope=col>&lt;chr&gt;</th><th scope=col>&lt;dbl&gt;</th><th scope=col>&lt;dbl&gt;</th><th scope=col>&lt;dbl&gt;</th><th scope=col>&lt;chr&gt;</th><th scope=col>&lt;chr&gt;</th><th scope=col>&lt;dbl&gt;</th><th scope=col>&lt;chr&gt;</th><th scope=col>&lt;chr&gt;</th><th scope=col>...</th><th scope=col>&lt;dbl&gt;</th><th scope=col>&lt;dbl&gt;</th><th scope=col>&lt;dbl&gt;</th><th scope=col>&lt;dbl&gt;</th><th scope=col>&lt;dbl&gt;</th><th scope=col>&lt;dbl&gt;</th><th scope=col>&lt;dbl&gt;</th><th scope=col>&lt;dbl&gt;</th><th scope=col>&lt;dbl&gt;</th><th scope=col>&lt;dbl&gt;</th></tr>\n",
       "</thead>\n",
       "<tbody>\n",
       "\t<tr><th scope=row>1</th><td>P_PUC_H_004_(1)_G4</td><td>p4 2020 G4 </td><td>60</td><td>228</td><td>3</td><td>E12</td><td>Hosp-1      </td><td>3</td><td>NA          </td><td>D21</td><td>...</td><td>0.7130519</td><td>2.1023126</td><td>1.1139047</td><td>1.005942</td><td>1.0491911</td><td>21.08226449</td><td>4.925109</td><td>2.494460</td><td>1.7328847</td><td>1.199664</td></tr>\n",
       "\t<tr><th scope=row>2</th><td>S_PUC_C_064_(1)_G4</td><td>C64 2020 G4</td><td> 1</td><td>  1</td><td>1</td><td>A1 </td><td>Naive       </td><td>1</td><td>Naive       </td><td>PRE</td><td>...</td><td>0.9851430</td><td>0.6880567</td><td>0.9717149</td><td>1.364866</td><td>1.0333011</td><td>12.37603974</td><td>1.082457</td><td>1.767482</td><td>0.5090898</td><td>1.043964</td></tr>\n",
       "\t<tr><th scope=row>3</th><td>S_PUC_C_064_(4)_G4</td><td>C64 2020 G4</td><td> 2</td><td>  2</td><td>1</td><td>A2 </td><td>CoronaVac   </td><td>1</td><td>CoronaVac   </td><td>D28</td><td>...</td><td>0.7269212</td><td>0.5237457</td><td>1.0445086</td><td>     NaN</td><td>1.1480586</td><td> 0.52779625</td><td>2.169767</td><td>1.610463</td><td>1.1186644</td><td>1.153594</td></tr>\n",
       "\t<tr><th scope=row>4</th><td>S_PUC_C_064_(5)_G4</td><td>C64 2020 G4</td><td> 3</td><td>  3</td><td>1</td><td>A3 </td><td>CoronaVac2  </td><td>1</td><td>CoronaVac-2 </td><td>D42</td><td>...</td><td>0.8511148</td><td>0.5894090</td><td>0.9828421</td><td>1.248557</td><td>1.0535443</td><td> 4.45675708</td><td>4.918953</td><td>2.405168</td><td>2.7570459</td><td>1.411925</td></tr>\n",
       "\t<tr><th scope=row>5</th><td>S_PUC_C_064_(6)_G4</td><td>C64 2020 G4</td><td> 4</td><td>  4</td><td>1</td><td>A4 </td><td>CoronaVac2-3</td><td>1</td><td>CoronaVac2-2</td><td>M3 </td><td>...</td><td>0.7660075</td><td>3.5040128</td><td>1.0576743</td><td>1.176236</td><td>0.9783059</td><td>         NA</td><td>3.290420</td><td>1.855198</td><td>1.1564122</td><td>1.217701</td></tr>\n",
       "\t<tr><th scope=row>6</th><td>S_PUC_C_064_(7)_G4</td><td>C64 2020 G4</td><td> 5</td><td>  5</td><td>1</td><td>A5 </td><td>CoronaVac2-5</td><td>1</td><td>CoronaVac2-3</td><td>M6 </td><td>...</td><td>0.9955660</td><td>      NaN</td><td>1.0739828</td><td>1.120212</td><td>1.0027636</td><td> 0.01673196</td><td>2.628921</td><td>1.535886</td><td>1.0821173</td><td>1.074832</td></tr>\n",
       "</tbody>\n",
       "</table>\n"
      ],
      "text/latex": [
       "A data.frame: 6 × 252\n",
       "\\begin{tabular}{r|lllllllllllllllllllll}\n",
       "  & Tube.Label & Lab.ID & PlateNum & SampleNum & PlateID & PlateCoord & ID & BOX & Vaccine & Time.sample & ... & HCMVgB.Antigen.R3b & Influenza.HA.R3b & EBOV.Antigen.R3b & Omicron.RBD.R3b & Omicron.Spike.R3b & WT.Spike.NeutIC50 & WT.Spike.ADCPBL3 & Omicron.Spike.ADCPBL3 & WT.Spike.ADNP & Omicron.Spike.ADNP\\\\\n",
       "  & <chr> & <chr> & <dbl> & <dbl> & <dbl> & <chr> & <chr> & <dbl> & <chr> & <chr> & ... & <dbl> & <dbl> & <dbl> & <dbl> & <dbl> & <dbl> & <dbl> & <dbl> & <dbl> & <dbl>\\\\\n",
       "\\hline\n",
       "\t1 & P\\_PUC\\_H\\_004\\_(1)\\_G4 & p4 2020 G4  & 60 & 228 & 3 & E12 & Hosp-1       & 3 & NA           & D21 & ... & 0.7130519 & 2.1023126 & 1.1139047 & 1.005942 & 1.0491911 & 21.08226449 & 4.925109 & 2.494460 & 1.7328847 & 1.199664\\\\\n",
       "\t2 & S\\_PUC\\_C\\_064\\_(1)\\_G4 & C64 2020 G4 &  1 &   1 & 1 & A1  & Naive        & 1 & Naive        & PRE & ... & 0.9851430 & 0.6880567 & 0.9717149 & 1.364866 & 1.0333011 & 12.37603974 & 1.082457 & 1.767482 & 0.5090898 & 1.043964\\\\\n",
       "\t3 & S\\_PUC\\_C\\_064\\_(4)\\_G4 & C64 2020 G4 &  2 &   2 & 1 & A2  & CoronaVac    & 1 & CoronaVac    & D28 & ... & 0.7269212 & 0.5237457 & 1.0445086 &      NaN & 1.1480586 &  0.52779625 & 2.169767 & 1.610463 & 1.1186644 & 1.153594\\\\\n",
       "\t4 & S\\_PUC\\_C\\_064\\_(5)\\_G4 & C64 2020 G4 &  3 &   3 & 1 & A3  & CoronaVac2   & 1 & CoronaVac-2  & D42 & ... & 0.8511148 & 0.5894090 & 0.9828421 & 1.248557 & 1.0535443 &  4.45675708 & 4.918953 & 2.405168 & 2.7570459 & 1.411925\\\\\n",
       "\t5 & S\\_PUC\\_C\\_064\\_(6)\\_G4 & C64 2020 G4 &  4 &   4 & 1 & A4  & CoronaVac2-3 & 1 & CoronaVac2-2 & M3  & ... & 0.7660075 & 3.5040128 & 1.0576743 & 1.176236 & 0.9783059 &          NA & 3.290420 & 1.855198 & 1.1564122 & 1.217701\\\\\n",
       "\t6 & S\\_PUC\\_C\\_064\\_(7)\\_G4 & C64 2020 G4 &  5 &   5 & 1 & A5  & CoronaVac2-5 & 1 & CoronaVac2-3 & M6  & ... & 0.9955660 &       NaN & 1.0739828 & 1.120212 & 1.0027636 &  0.01673196 & 2.628921 & 1.535886 & 1.0821173 & 1.074832\\\\\n",
       "\\end{tabular}\n"
      ],
      "text/markdown": [
       "\n",
       "A data.frame: 6 × 252\n",
       "\n",
       "| <!--/--> | Tube.Label &lt;chr&gt; | Lab.ID &lt;chr&gt; | PlateNum &lt;dbl&gt; | SampleNum &lt;dbl&gt; | PlateID &lt;dbl&gt; | PlateCoord &lt;chr&gt; | ID &lt;chr&gt; | BOX &lt;dbl&gt; | Vaccine &lt;chr&gt; | Time.sample &lt;chr&gt; | ... ... | HCMVgB.Antigen.R3b &lt;dbl&gt; | Influenza.HA.R3b &lt;dbl&gt; | EBOV.Antigen.R3b &lt;dbl&gt; | Omicron.RBD.R3b &lt;dbl&gt; | Omicron.Spike.R3b &lt;dbl&gt; | WT.Spike.NeutIC50 &lt;dbl&gt; | WT.Spike.ADCPBL3 &lt;dbl&gt; | Omicron.Spike.ADCPBL3 &lt;dbl&gt; | WT.Spike.ADNP &lt;dbl&gt; | Omicron.Spike.ADNP &lt;dbl&gt; |\n",
       "|---|---|---|---|---|---|---|---|---|---|---|---|---|---|---|---|---|---|---|---|---|---|\n",
       "| 1 | P_PUC_H_004_(1)_G4 | p4 2020 G4  | 60 | 228 | 3 | E12 | Hosp-1       | 3 | NA           | D21 | ... | 0.7130519 | 2.1023126 | 1.1139047 | 1.005942 | 1.0491911 | 21.08226449 | 4.925109 | 2.494460 | 1.7328847 | 1.199664 |\n",
       "| 2 | S_PUC_C_064_(1)_G4 | C64 2020 G4 |  1 |   1 | 1 | A1  | Naive        | 1 | Naive        | PRE | ... | 0.9851430 | 0.6880567 | 0.9717149 | 1.364866 | 1.0333011 | 12.37603974 | 1.082457 | 1.767482 | 0.5090898 | 1.043964 |\n",
       "| 3 | S_PUC_C_064_(4)_G4 | C64 2020 G4 |  2 |   2 | 1 | A2  | CoronaVac    | 1 | CoronaVac    | D28 | ... | 0.7269212 | 0.5237457 | 1.0445086 |      NaN | 1.1480586 |  0.52779625 | 2.169767 | 1.610463 | 1.1186644 | 1.153594 |\n",
       "| 4 | S_PUC_C_064_(5)_G4 | C64 2020 G4 |  3 |   3 | 1 | A3  | CoronaVac2   | 1 | CoronaVac-2  | D42 | ... | 0.8511148 | 0.5894090 | 0.9828421 | 1.248557 | 1.0535443 |  4.45675708 | 4.918953 | 2.405168 | 2.7570459 | 1.411925 |\n",
       "| 5 | S_PUC_C_064_(6)_G4 | C64 2020 G4 |  4 |   4 | 1 | A4  | CoronaVac2-3 | 1 | CoronaVac2-2 | M3  | ... | 0.7660075 | 3.5040128 | 1.0576743 | 1.176236 | 0.9783059 |          NA | 3.290420 | 1.855198 | 1.1564122 | 1.217701 |\n",
       "| 6 | S_PUC_C_064_(7)_G4 | C64 2020 G4 |  5 |   5 | 1 | A5  | CoronaVac2-5 | 1 | CoronaVac2-3 | M6  | ... | 0.9955660 |       NaN | 1.0739828 | 1.120212 | 1.0027636 |  0.01673196 | 2.628921 | 1.535886 | 1.0821173 | 1.074832 |\n",
       "\n"
      ],
      "text/plain": [
       "  Tube.Label         Lab.ID      PlateNum SampleNum PlateID PlateCoord\n",
       "1 P_PUC_H_004_(1)_G4 p4 2020 G4  60       228       3       E12       \n",
       "2 S_PUC_C_064_(1)_G4 C64 2020 G4  1         1       1       A1        \n",
       "3 S_PUC_C_064_(4)_G4 C64 2020 G4  2         2       1       A2        \n",
       "4 S_PUC_C_064_(5)_G4 C64 2020 G4  3         3       1       A3        \n",
       "5 S_PUC_C_064_(6)_G4 C64 2020 G4  4         4       1       A4        \n",
       "6 S_PUC_C_064_(7)_G4 C64 2020 G4  5         5       1       A5        \n",
       "  ID           BOX Vaccine      Time.sample ... HCMVgB.Antigen.R3b\n",
       "1 Hosp-1       3   NA           D21         ... 0.7130519         \n",
       "2 Naive        1   Naive        PRE         ... 0.9851430         \n",
       "3 CoronaVac    1   CoronaVac    D28         ... 0.7269212         \n",
       "4 CoronaVac2   1   CoronaVac-2  D42         ... 0.8511148         \n",
       "5 CoronaVac2-3 1   CoronaVac2-2 M3          ... 0.7660075         \n",
       "6 CoronaVac2-5 1   CoronaVac2-3 M6          ... 0.9955660         \n",
       "  Influenza.HA.R3b EBOV.Antigen.R3b Omicron.RBD.R3b Omicron.Spike.R3b\n",
       "1 2.1023126        1.1139047        1.005942        1.0491911        \n",
       "2 0.6880567        0.9717149        1.364866        1.0333011        \n",
       "3 0.5237457        1.0445086             NaN        1.1480586        \n",
       "4 0.5894090        0.9828421        1.248557        1.0535443        \n",
       "5 3.5040128        1.0576743        1.176236        0.9783059        \n",
       "6       NaN        1.0739828        1.120212        1.0027636        \n",
       "  WT.Spike.NeutIC50 WT.Spike.ADCPBL3 Omicron.Spike.ADCPBL3 WT.Spike.ADNP\n",
       "1 21.08226449       4.925109         2.494460              1.7328847    \n",
       "2 12.37603974       1.082457         1.767482              0.5090898    \n",
       "3  0.52779625       2.169767         1.610463              1.1186644    \n",
       "4  4.45675708       4.918953         2.405168              2.7570459    \n",
       "5          NA       3.290420         1.855198              1.1564122    \n",
       "6  0.01673196       2.628921         1.535886              1.0821173    \n",
       "  Omicron.Spike.ADNP\n",
       "1 1.199664          \n",
       "2 1.043964          \n",
       "3 1.153594          \n",
       "4 1.411925          \n",
       "5 1.217701          \n",
       "6 1.074832          "
      ]
     },
     "metadata": {},
     "output_type": "display_data"
    }
   ],
   "source": [
    "head(data_norm)"
   ]
  },
  {
   "cell_type": "code",
   "execution_count": 33,
   "id": "d6cb4e8a-0738-40ba-b854-ce484fadeb0d",
   "metadata": {},
   "outputs": [
    {
     "data": {
      "text/html": [
       "<style>\n",
       ".list-inline {list-style: none; margin:0; padding: 0}\n",
       ".list-inline>li {display: inline-block}\n",
       ".list-inline>li:not(:last-child)::after {content: \"\\00b7\"; padding: 0 .5ex}\n",
       "</style>\n",
       "<ol class=list-inline><li>'Hosp'</li><li>'Naive'</li><li>'CoronaVac'</li><li>'Pfizer'</li><li>'CoronaVac2+Pfizer'</li><li>'HospCoronaVac'</li><li>'HospCoronaVac-'</li><li>'Hosp-1'</li><li>'HospPfizer-'</li><li>'Out'</li><li>'Out-1'</li><li>'OutCoronaVac'</li><li>'OutPfizer'</li><li>'OutCoronaVac-'</li></ol>\n"
      ],
      "text/latex": [
       "\\begin{enumerate*}\n",
       "\\item 'Hosp'\n",
       "\\item 'Naive'\n",
       "\\item 'CoronaVac'\n",
       "\\item 'Pfizer'\n",
       "\\item 'CoronaVac2+Pfizer'\n",
       "\\item 'HospCoronaVac'\n",
       "\\item 'HospCoronaVac-'\n",
       "\\item 'Hosp-1'\n",
       "\\item 'HospPfizer-'\n",
       "\\item 'Out'\n",
       "\\item 'Out-1'\n",
       "\\item 'OutCoronaVac'\n",
       "\\item 'OutPfizer'\n",
       "\\item 'OutCoronaVac-'\n",
       "\\end{enumerate*}\n"
      ],
      "text/markdown": [
       "1. 'Hosp'\n",
       "2. 'Naive'\n",
       "3. 'CoronaVac'\n",
       "4. 'Pfizer'\n",
       "5. 'CoronaVac2+Pfizer'\n",
       "6. 'HospCoronaVac'\n",
       "7. 'HospCoronaVac-'\n",
       "8. 'Hosp-1'\n",
       "9. 'HospPfizer-'\n",
       "10. 'Out'\n",
       "11. 'Out-1'\n",
       "12. 'OutCoronaVac'\n",
       "13. 'OutPfizer'\n",
       "14. 'OutCoronaVac-'\n",
       "\n",
       "\n"
      ],
      "text/plain": [
       " [1] \"Hosp\"              \"Naive\"             \"CoronaVac\"        \n",
       " [4] \"Pfizer\"            \"CoronaVac2+Pfizer\" \"HospCoronaVac\"    \n",
       " [7] \"HospCoronaVac-\"    \"Hosp-1\"            \"HospPfizer-\"      \n",
       "[10] \"Out\"               \"Out-1\"             \"OutCoronaVac\"     \n",
       "[13] \"OutPfizer\"         \"OutCoronaVac-\"    "
      ]
     },
     "metadata": {},
     "output_type": "display_data"
    }
   ],
   "source": [
    "unique(data_norm$vaccine)"
   ]
  },
  {
   "cell_type": "code",
   "execution_count": 34,
   "id": "1dbef58f-f52c-404c-803b-333c333c4c13",
   "metadata": {},
   "outputs": [
    {
     "name": "stderr",
     "output_type": "stream",
     "text": [
      "\u001b[1m\u001b[22m`geom_smooth()` using formula = 'y ~ x'\n",
      "Warning message:\n",
      "\"\u001b[1m\u001b[22mRemoved 112 rows containing non-finite outside the scale range (`stat_smooth()`).\"\n",
      "Warning message:\n",
      "\"\u001b[1m\u001b[22mRemoved 112 rows containing missing values or values outside the scale range (`geom_point()`).\"\n"
     ]
    },
    {
     "data": {
      "image/png": "[encoded data removed]",
      "text/plain": [
       "plot without title"
      ]
     },
     "metadata": {
      "image/png": {
       "height": 600,
       "width": 1200
      }
     },
     "output_type": "display_data"
    }
   ],
   "source": [
    "options(repr.plot.width=20,repr.plot.height=10)\n",
    "\n",
    "data_norm %>% \n",
    "    select(vaccine,DPFD,DPSD,WT.Spike.ADCPBL3,Omicron.Spike.ADCPBL3,WT.Spike.ADNP,Omicron.Spike.ADNP) %>% \n",
    "    melt(id.vars = c('vaccine','DPFD','DPSD')) %>%\n",
    "    mutate(\n",
    "        DPFI = if_else(vaccine%in%c('Hosp','Out'),DPFD,DPSD)\n",
    "    ) %>%\n",
    "    filter( vaccine%in%c('Pfizer','CoronaVac','Hosp','Out')) %>%\n",
    "    ggplot(aes(x=DPFI,color=vaccine,y=value))+\n",
    "        geom_point()+stat_smooth(method='lm')+facet_wrap(~variable,scale='free')+\n",
    "        theme_bw(base_size = 20)+\n",
    "        scale_y_log10()+ylab('Phago score Fold Change (x/Naive)')"
   ]
  },
  {
   "cell_type": "markdown",
   "id": "54b11c7b-7906-4c9d-b253-f9cbb2788e30",
   "metadata": {},
   "source": [
    "# Back effect"
   ]
  },
  {
   "cell_type": "code",
   "execution_count": 35,
   "id": "3a4b26bf-3350-4cd0-b65e-7b5030f3e8d6",
   "metadata": {},
   "outputs": [],
   "source": [
    "# colnames(data_norm)\n"
   ]
  },
  {
   "cell_type": "code",
   "execution_count": 36,
   "id": "74c0c8a5-c7dd-44a4-ac97-0062022389ba",
   "metadata": {
    "scrolled": true
   },
   "outputs": [
    {
     "data": {
      "text/html": [
       "<style>\n",
       ".list-inline {list-style: none; margin:0; padding: 0}\n",
       ".list-inline>li {display: inline-block}\n",
       ".list-inline>li:not(:last-child)::after {content: \"\\00b7\"; padding: 0 .5ex}\n",
       "</style>\n",
       "<ol class=list-inline><li>'Tube.Label'</li><li>'Lab.ID'</li><li>'ID'</li><li>'PlateNum'</li><li>'SampleNum'</li><li>'PlateID'</li><li>'PlateCoord'</li><li>'BOX'</li><li>'Vaccine'</li><li>'Time.sample'</li><li>'DPFD'</li><li>'DPSD'</li><li>'DPTD'</li><li>'order'</li><li>'vaccine'</li><li>'group'</li></ol>\n"
      ],
      "text/latex": [
       "\\begin{enumerate*}\n",
       "\\item 'Tube.Label'\n",
       "\\item 'Lab.ID'\n",
       "\\item 'ID'\n",
       "\\item 'PlateNum'\n",
       "\\item 'SampleNum'\n",
       "\\item 'PlateID'\n",
       "\\item 'PlateCoord'\n",
       "\\item 'BOX'\n",
       "\\item 'Vaccine'\n",
       "\\item 'Time.sample'\n",
       "\\item 'DPFD'\n",
       "\\item 'DPSD'\n",
       "\\item 'DPTD'\n",
       "\\item 'order'\n",
       "\\item 'vaccine'\n",
       "\\item 'group'\n",
       "\\end{enumerate*}\n"
      ],
      "text/markdown": [
       "1. 'Tube.Label'\n",
       "2. 'Lab.ID'\n",
       "3. 'ID'\n",
       "4. 'PlateNum'\n",
       "5. 'SampleNum'\n",
       "6. 'PlateID'\n",
       "7. 'PlateCoord'\n",
       "8. 'BOX'\n",
       "9. 'Vaccine'\n",
       "10. 'Time.sample'\n",
       "11. 'DPFD'\n",
       "12. 'DPSD'\n",
       "13. 'DPTD'\n",
       "14. 'order'\n",
       "15. 'vaccine'\n",
       "16. 'group'\n",
       "\n",
       "\n"
      ],
      "text/plain": [
       " [1] \"Tube.Label\"  \"Lab.ID\"      \"ID\"          \"PlateNum\"    \"SampleNum\"  \n",
       " [6] \"PlateID\"     \"PlateCoord\"  \"BOX\"         \"Vaccine\"     \"Time.sample\"\n",
       "[11] \"DPFD\"        \"DPSD\"        \"DPTD\"        \"order\"       \"vaccine\"    \n",
       "[16] \"group\"      "
      ]
     },
     "metadata": {},
     "output_type": "display_data"
    },
    {
     "data": {
      "text/html": [
       "<style>\n",
       ".list-inline {list-style: none; margin:0; padding: 0}\n",
       ".list-inline>li {display: inline-block}\n",
       ".list-inline>li:not(:last-child)::after {content: \"\\00b7\"; padding: 0 .5ex}\n",
       "</style>\n",
       "<ol class=list-inline><li>'WT.Spike.C1q'</li><li>'WT.RBD.C1q'</li><li>'WT.S1.C1q'</li><li>'WT.S2.C1q'</li><li>'WT.NTD.C1q'</li><li>'WT.N.C1q'</li><li>'Alpha.RBD.C1q'</li><li>'Alpha.Spike.C1q'</li><li>'Beta.RBD.C1q'</li><li>'Beta.Spike.C1q'</li><li>'Gamma.RBD.C1q'</li><li>'Gamma.Spike.C1q'</li><li>'Delta.RBD.C1q'</li><li>'Delta.Spike.C1q'</li><li>'OC43.Spike.C1q'</li><li>'HKU1.Spike.C1q'</li><li>'HCMVgB.Antigen.C1q'</li><li>'Influenza.HA.C1q'</li><li>'EBOV.Antigen.C1q'</li><li>'Omicron.RBD.C1q'</li><li>'Omicron.Spike.C1q'</li><li>'WT.Spike.IgA1'</li><li>'WT.RBD.IgA1'</li><li>'WT.S1.IgA1'</li><li>'WT.S2.IgA1'</li><li>'WT.NTD.IgA1'</li><li>'WT.N.IgA1'</li><li>'Alpha.RBD.IgA1'</li><li>'Alpha.Spike.IgA1'</li><li>'Beta.RBD.IgA1'</li><li>'Beta.Spike.IgA1'</li><li>'Gamma.RBD.IgA1'</li><li>'Gamma.Spike.IgA1'</li><li>'Delta.RBD.IgA1'</li><li>'Delta.Spike.IgA1'</li><li>'OC43.Spike.IgA1'</li><li>'HKU1.Spike.IgA1'</li><li>'HCMVgB.Antigen.IgA1'</li><li>'Influenza.HA.IgA1'</li><li>'EBOV.Antigen.IgA1'</li><li>'Omicron.RBD.IgA1'</li><li>'Omicron.Spike.IgA1'</li><li>'WT.Spike.IgG1'</li><li>'WT.RBD.IgG1'</li><li>'WT.S1.IgG1'</li><li>'WT.S2.IgG1'</li><li>'WT.NTD.IgG1'</li><li>'WT.N.IgG1'</li><li>'Alpha.RBD.IgG1'</li><li>'Alpha.Spike.IgG1'</li><li>'Beta.RBD.IgG1'</li><li>'Beta.Spike.IgG1'</li><li>'Gamma.RBD.IgG1'</li><li>'Gamma.Spike.IgG1'</li><li>'Delta.RBD.IgG1'</li><li>'Delta.Spike.IgG1'</li><li>'OC43.Spike.IgG1'</li><li>'HKU1.Spike.IgG1'</li><li>'HCMVgB.Antigen.IgG1'</li><li>'Influenza.HA.IgG1'</li><li>'EBOV.Antigen.IgG1'</li><li>'Omicron.RBD.IgG1'</li><li>'Omicron.Spike.IgG1'</li><li>'WT.Spike.IgG2'</li><li>'WT.RBD.IgG2'</li><li>'WT.S1.IgG2'</li><li>'WT.S2.IgG2'</li><li>'WT.NTD.IgG2'</li><li>'WT.N.IgG2'</li><li>'Alpha.RBD.IgG2'</li><li>'Alpha.Spike.IgG2'</li><li>'Beta.RBD.IgG2'</li><li>'Beta.Spike.IgG2'</li><li>'Gamma.RBD.IgG2'</li><li>'Gamma.Spike.IgG2'</li><li>'Delta.RBD.IgG2'</li><li>'Delta.Spike.IgG2'</li><li>'OC43.Spike.IgG2'</li><li>'HKU1.Spike.IgG2'</li><li>'HCMVgB.Antigen.IgG2'</li><li>'Influenza.HA.IgG2'</li><li>'EBOV.Antigen.IgG2'</li><li>'Omicron.RBD.IgG2'</li><li>'Omicron.Spike.IgG2'</li><li>'WT.Spike.IgG3'</li><li>'WT.RBD.IgG3'</li><li>'WT.S1.IgG3'</li><li>'WT.S2.IgG3'</li><li>'WT.NTD.IgG3'</li><li>'WT.N.IgG3'</li><li>'Alpha.RBD.IgG3'</li><li>'Alpha.Spike.IgG3'</li><li>'Beta.RBD.IgG3'</li><li>'Beta.Spike.IgG3'</li><li>'Gamma.RBD.IgG3'</li><li>'Gamma.Spike.IgG3'</li><li>'Delta.RBD.IgG3'</li><li>'Delta.Spike.IgG3'</li><li>'OC43.Spike.IgG3'</li><li>'HKU1.Spike.IgG3'</li><li>'HCMVgB.Antigen.IgG3'</li><li>'Influenza.HA.IgG3'</li><li>'EBOV.Antigen.IgG3'</li><li>'Omicron.RBD.IgG3'</li><li>'Omicron.Spike.IgG3'</li><li>'WT.Spike.IgG4'</li><li>'WT.RBD.IgG4'</li><li>'WT.S1.IgG4'</li><li>'WT.S2.IgG4'</li><li>'WT.NTD.IgG4'</li><li>'WT.N.IgG4'</li><li>'Alpha.RBD.IgG4'</li><li>'Alpha.Spike.IgG4'</li><li>'Beta.RBD.IgG4'</li><li>'Beta.Spike.IgG4'</li><li>'Gamma.RBD.IgG4'</li><li>'Gamma.Spike.IgG4'</li><li>'Delta.RBD.IgG4'</li><li>'Delta.Spike.IgG4'</li><li>'OC43.Spike.IgG4'</li><li>'HKU1.Spike.IgG4'</li><li>'HCMVgB.Antigen.IgG4'</li><li>'Influenza.HA.IgG4'</li><li>'EBOV.Antigen.IgG4'</li><li>'Omicron.RBD.IgG4'</li><li>'Omicron.Spike.IgG4'</li><li>'WT.Spike.IgM'</li><li>'WT.RBD.IgM'</li><li>'WT.S1.IgM'</li><li>'WT.S2.IgM'</li><li>'WT.NTD.IgM'</li><li>'WT.N.IgM'</li><li>'Alpha.RBD.IgM'</li><li>'Alpha.Spike.IgM'</li><li>'Beta.RBD.IgM'</li><li>'Beta.Spike.IgM'</li><li>'Gamma.RBD.IgM'</li><li>'Gamma.Spike.IgM'</li><li>'Delta.RBD.IgM'</li><li>'Delta.Spike.IgM'</li><li>'OC43.Spike.IgM'</li><li>'HKU1.Spike.IgM'</li><li>'HCMVgB.Antigen.IgM'</li><li>'Influenza.HA.IgM'</li><li>'EBOV.Antigen.IgM'</li><li>'Omicron.RBD.IgM'</li><li>'Omicron.Spike.IgM'</li><li>'WT.Spike.R2a'</li><li>'WT.RBD.R2a'</li><li>'WT.S1.R2a'</li><li>'WT.S2.R2a'</li><li>'WT.NTD.R2a'</li><li>'WT.N.R2a'</li><li>'Alpha.RBD.R2a'</li><li>'Alpha.Spike.R2a'</li><li>'Beta.RBD.R2a'</li><li>'Beta.Spike.R2a'</li><li>'Gamma.RBD.R2a'</li><li>'Gamma.Spike.R2a'</li><li>'Delta.RBD.R2a'</li><li>'Delta.Spike.R2a'</li><li>'OC43.Spike.R2a'</li><li>'HKU1.Spike.R2a'</li><li>'HCMVgB.Antigen.R2a'</li><li>'Influenza.HA.R2a'</li><li>'EBOV.Antigen.R2a'</li><li>'Omicron.RBD.R2a'</li><li>'Omicron.Spike.R2a'</li><li>'WT.Spike.R2b'</li><li>'WT.RBD.R2b'</li><li>'WT.S1.R2b'</li><li>'WT.S2.R2b'</li><li>'WT.NTD.R2b'</li><li>'WT.N.R2b'</li><li>'Alpha.RBD.R2b'</li><li>'Alpha.Spike.R2b'</li><li>'Beta.RBD.R2b'</li><li>'Beta.Spike.R2b'</li><li>'Gamma.RBD.R2b'</li><li>'Gamma.Spike.R2b'</li><li>'Delta.RBD.R2b'</li><li>'Delta.Spike.R2b'</li><li>'OC43.Spike.R2b'</li><li>'HKU1.Spike.R2b'</li><li>'HCMVgB.Antigen.R2b'</li><li>'Influenza.HA.R2b'</li><li>'EBOV.Antigen.R2b'</li><li>'Omicron.RBD.R2b'</li><li>'Omicron.Spike.R2b'</li><li>'WT.Spike.R3av'</li><li>'WT.RBD.R3av'</li><li>'WT.S1.R3av'</li><li>'WT.S2.R3av'</li><li>'WT.NTD.R3av'</li><li>'WT.N.R3av'</li><li>'Alpha.RBD.R3av'</li><li>'Alpha.Spike.R3av'</li><li>'Beta.RBD.R3av'</li><li>'Beta.Spike.R3av'</li><li>'Gamma.RBD.R3av'</li><li>'Gamma.Spike.R3av'</li><li>'Delta.RBD.R3av'</li><li>'Delta.Spike.R3av'</li><li>'OC43.Spike.R3av'</li><li>'HKU1.Spike.R3av'</li><li>'HCMVgB.Antigen.R3av'</li><li>'Influenza.HA.R3av'</li><li>'EBOV.Antigen.R3av'</li><li>'Omicron.RBD.R3av'</li><li>'Omicron.Spike.R3av'</li><li>'WT.Spike.R3b'</li><li>'WT.RBD.R3b'</li><li>'WT.S1.R3b'</li><li>'WT.S2.R3b'</li><li>'WT.NTD.R3b'</li><li>'WT.N.R3b'</li><li>'Alpha.RBD.R3b'</li><li>'Alpha.Spike.R3b'</li><li>'Beta.RBD.R3b'</li><li>'Beta.Spike.R3b'</li><li>'Gamma.RBD.R3b'</li><li>'Gamma.Spike.R3b'</li><li>'Delta.RBD.R3b'</li><li>'Delta.Spike.R3b'</li><li>'OC43.Spike.R3b'</li><li>'HKU1.Spike.R3b'</li><li>'HCMVgB.Antigen.R3b'</li><li>'Influenza.HA.R3b'</li><li>'EBOV.Antigen.R3b'</li><li>'Omicron.RBD.R3b'</li><li>'Omicron.Spike.R3b'</li><li>'WT.Spike.NeutIC50'</li><li>'WT.Spike.ADCPBL3'</li><li>'Omicron.Spike.ADCPBL3'</li><li>'WT.Spike.ADNP'</li><li>'Omicron.Spike.ADNP'</li></ol>\n"
      ],
      "text/latex": [
       "\\begin{enumerate*}\n",
       "\\item 'WT.Spike.C1q'\n",
       "\\item 'WT.RBD.C1q'\n",
       "\\item 'WT.S1.C1q'\n",
       "\\item 'WT.S2.C1q'\n",
       "\\item 'WT.NTD.C1q'\n",
       "\\item 'WT.N.C1q'\n",
       "\\item 'Alpha.RBD.C1q'\n",
       "\\item 'Alpha.Spike.C1q'\n",
       "\\item 'Beta.RBD.C1q'\n",
       "\\item 'Beta.Spike.C1q'\n",
       "\\item 'Gamma.RBD.C1q'\n",
       "\\item 'Gamma.Spike.C1q'\n",
       "\\item 'Delta.RBD.C1q'\n",
       "\\item 'Delta.Spike.C1q'\n",
       "\\item 'OC43.Spike.C1q'\n",
       "\\item 'HKU1.Spike.C1q'\n",
       "\\item 'HCMVgB.Antigen.C1q'\n",
       "\\item 'Influenza.HA.C1q'\n",
       "\\item 'EBOV.Antigen.C1q'\n",
       "\\item 'Omicron.RBD.C1q'\n",
       "\\item 'Omicron.Spike.C1q'\n",
       "\\item 'WT.Spike.IgA1'\n",
       "\\item 'WT.RBD.IgA1'\n",
       "\\item 'WT.S1.IgA1'\n",
       "\\item 'WT.S2.IgA1'\n",
       "\\item 'WT.NTD.IgA1'\n",
       "\\item 'WT.N.IgA1'\n",
       "\\item 'Alpha.RBD.IgA1'\n",
       "\\item 'Alpha.Spike.IgA1'\n",
       "\\item 'Beta.RBD.IgA1'\n",
       "\\item 'Beta.Spike.IgA1'\n",
       "\\item 'Gamma.RBD.IgA1'\n",
       "\\item 'Gamma.Spike.IgA1'\n",
       "\\item 'Delta.RBD.IgA1'\n",
       "\\item 'Delta.Spike.IgA1'\n",
       "\\item 'OC43.Spike.IgA1'\n",
       "\\item 'HKU1.Spike.IgA1'\n",
       "\\item 'HCMVgB.Antigen.IgA1'\n",
       "\\item 'Influenza.HA.IgA1'\n",
       "\\item 'EBOV.Antigen.IgA1'\n",
       "\\item 'Omicron.RBD.IgA1'\n",
       "\\item 'Omicron.Spike.IgA1'\n",
       "\\item 'WT.Spike.IgG1'\n",
       "\\item 'WT.RBD.IgG1'\n",
       "\\item 'WT.S1.IgG1'\n",
       "\\item 'WT.S2.IgG1'\n",
       "\\item 'WT.NTD.IgG1'\n",
       "\\item 'WT.N.IgG1'\n",
       "\\item 'Alpha.RBD.IgG1'\n",
       "\\item 'Alpha.Spike.IgG1'\n",
       "\\item 'Beta.RBD.IgG1'\n",
       "\\item 'Beta.Spike.IgG1'\n",
       "\\item 'Gamma.RBD.IgG1'\n",
       "\\item 'Gamma.Spike.IgG1'\n",
       "\\item 'Delta.RBD.IgG1'\n",
       "\\item 'Delta.Spike.IgG1'\n",
       "\\item 'OC43.Spike.IgG1'\n",
       "\\item 'HKU1.Spike.IgG1'\n",
       "\\item 'HCMVgB.Antigen.IgG1'\n",
       "\\item 'Influenza.HA.IgG1'\n",
       "\\item 'EBOV.Antigen.IgG1'\n",
       "\\item 'Omicron.RBD.IgG1'\n",
       "\\item 'Omicron.Spike.IgG1'\n",
       "\\item 'WT.Spike.IgG2'\n",
       "\\item 'WT.RBD.IgG2'\n",
       "\\item 'WT.S1.IgG2'\n",
       "\\item 'WT.S2.IgG2'\n",
       "\\item 'WT.NTD.IgG2'\n",
       "\\item 'WT.N.IgG2'\n",
       "\\item 'Alpha.RBD.IgG2'\n",
       "\\item 'Alpha.Spike.IgG2'\n",
       "\\item 'Beta.RBD.IgG2'\n",
       "\\item 'Beta.Spike.IgG2'\n",
       "\\item 'Gamma.RBD.IgG2'\n",
       "\\item 'Gamma.Spike.IgG2'\n",
       "\\item 'Delta.RBD.IgG2'\n",
       "\\item 'Delta.Spike.IgG2'\n",
       "\\item 'OC43.Spike.IgG2'\n",
       "\\item 'HKU1.Spike.IgG2'\n",
       "\\item 'HCMVgB.Antigen.IgG2'\n",
       "\\item 'Influenza.HA.IgG2'\n",
       "\\item 'EBOV.Antigen.IgG2'\n",
       "\\item 'Omicron.RBD.IgG2'\n",
       "\\item 'Omicron.Spike.IgG2'\n",
       "\\item 'WT.Spike.IgG3'\n",
       "\\item 'WT.RBD.IgG3'\n",
       "\\item 'WT.S1.IgG3'\n",
       "\\item 'WT.S2.IgG3'\n",
       "\\item 'WT.NTD.IgG3'\n",
       "\\item 'WT.N.IgG3'\n",
       "\\item 'Alpha.RBD.IgG3'\n",
       "\\item 'Alpha.Spike.IgG3'\n",
       "\\item 'Beta.RBD.IgG3'\n",
       "\\item 'Beta.Spike.IgG3'\n",
       "\\item 'Gamma.RBD.IgG3'\n",
       "\\item 'Gamma.Spike.IgG3'\n",
       "\\item 'Delta.RBD.IgG3'\n",
       "\\item 'Delta.Spike.IgG3'\n",
       "\\item 'OC43.Spike.IgG3'\n",
       "\\item 'HKU1.Spike.IgG3'\n",
       "\\item 'HCMVgB.Antigen.IgG3'\n",
       "\\item 'Influenza.HA.IgG3'\n",
       "\\item 'EBOV.Antigen.IgG3'\n",
       "\\item 'Omicron.RBD.IgG3'\n",
       "\\item 'Omicron.Spike.IgG3'\n",
       "\\item 'WT.Spike.IgG4'\n",
       "\\item 'WT.RBD.IgG4'\n",
       "\\item 'WT.S1.IgG4'\n",
       "\\item 'WT.S2.IgG4'\n",
       "\\item 'WT.NTD.IgG4'\n",
       "\\item 'WT.N.IgG4'\n",
       "\\item 'Alpha.RBD.IgG4'\n",
       "\\item 'Alpha.Spike.IgG4'\n",
       "\\item 'Beta.RBD.IgG4'\n",
       "\\item 'Beta.Spike.IgG4'\n",
       "\\item 'Gamma.RBD.IgG4'\n",
       "\\item 'Gamma.Spike.IgG4'\n",
       "\\item 'Delta.RBD.IgG4'\n",
       "\\item 'Delta.Spike.IgG4'\n",
       "\\item 'OC43.Spike.IgG4'\n",
       "\\item 'HKU1.Spike.IgG4'\n",
       "\\item 'HCMVgB.Antigen.IgG4'\n",
       "\\item 'Influenza.HA.IgG4'\n",
       "\\item 'EBOV.Antigen.IgG4'\n",
       "\\item 'Omicron.RBD.IgG4'\n",
       "\\item 'Omicron.Spike.IgG4'\n",
       "\\item 'WT.Spike.IgM'\n",
       "\\item 'WT.RBD.IgM'\n",
       "\\item 'WT.S1.IgM'\n",
       "\\item 'WT.S2.IgM'\n",
       "\\item 'WT.NTD.IgM'\n",
       "\\item 'WT.N.IgM'\n",
       "\\item 'Alpha.RBD.IgM'\n",
       "\\item 'Alpha.Spike.IgM'\n",
       "\\item 'Beta.RBD.IgM'\n",
       "\\item 'Beta.Spike.IgM'\n",
       "\\item 'Gamma.RBD.IgM'\n",
       "\\item 'Gamma.Spike.IgM'\n",
       "\\item 'Delta.RBD.IgM'\n",
       "\\item 'Delta.Spike.IgM'\n",
       "\\item 'OC43.Spike.IgM'\n",
       "\\item 'HKU1.Spike.IgM'\n",
       "\\item 'HCMVgB.Antigen.IgM'\n",
       "\\item 'Influenza.HA.IgM'\n",
       "\\item 'EBOV.Antigen.IgM'\n",
       "\\item 'Omicron.RBD.IgM'\n",
       "\\item 'Omicron.Spike.IgM'\n",
       "\\item 'WT.Spike.R2a'\n",
       "\\item 'WT.RBD.R2a'\n",
       "\\item 'WT.S1.R2a'\n",
       "\\item 'WT.S2.R2a'\n",
       "\\item 'WT.NTD.R2a'\n",
       "\\item 'WT.N.R2a'\n",
       "\\item 'Alpha.RBD.R2a'\n",
       "\\item 'Alpha.Spike.R2a'\n",
       "\\item 'Beta.RBD.R2a'\n",
       "\\item 'Beta.Spike.R2a'\n",
       "\\item 'Gamma.RBD.R2a'\n",
       "\\item 'Gamma.Spike.R2a'\n",
       "\\item 'Delta.RBD.R2a'\n",
       "\\item 'Delta.Spike.R2a'\n",
       "\\item 'OC43.Spike.R2a'\n",
       "\\item 'HKU1.Spike.R2a'\n",
       "\\item 'HCMVgB.Antigen.R2a'\n",
       "\\item 'Influenza.HA.R2a'\n",
       "\\item 'EBOV.Antigen.R2a'\n",
       "\\item 'Omicron.RBD.R2a'\n",
       "\\item 'Omicron.Spike.R2a'\n",
       "\\item 'WT.Spike.R2b'\n",
       "\\item 'WT.RBD.R2b'\n",
       "\\item 'WT.S1.R2b'\n",
       "\\item 'WT.S2.R2b'\n",
       "\\item 'WT.NTD.R2b'\n",
       "\\item 'WT.N.R2b'\n",
       "\\item 'Alpha.RBD.R2b'\n",
       "\\item 'Alpha.Spike.R2b'\n",
       "\\item 'Beta.RBD.R2b'\n",
       "\\item 'Beta.Spike.R2b'\n",
       "\\item 'Gamma.RBD.R2b'\n",
       "\\item 'Gamma.Spike.R2b'\n",
       "\\item 'Delta.RBD.R2b'\n",
       "\\item 'Delta.Spike.R2b'\n",
       "\\item 'OC43.Spike.R2b'\n",
       "\\item 'HKU1.Spike.R2b'\n",
       "\\item 'HCMVgB.Antigen.R2b'\n",
       "\\item 'Influenza.HA.R2b'\n",
       "\\item 'EBOV.Antigen.R2b'\n",
       "\\item 'Omicron.RBD.R2b'\n",
       "\\item 'Omicron.Spike.R2b'\n",
       "\\item 'WT.Spike.R3av'\n",
       "\\item 'WT.RBD.R3av'\n",
       "\\item 'WT.S1.R3av'\n",
       "\\item 'WT.S2.R3av'\n",
       "\\item 'WT.NTD.R3av'\n",
       "\\item 'WT.N.R3av'\n",
       "\\item 'Alpha.RBD.R3av'\n",
       "\\item 'Alpha.Spike.R3av'\n",
       "\\item 'Beta.RBD.R3av'\n",
       "\\item 'Beta.Spike.R3av'\n",
       "\\item 'Gamma.RBD.R3av'\n",
       "\\item 'Gamma.Spike.R3av'\n",
       "\\item 'Delta.RBD.R3av'\n",
       "\\item 'Delta.Spike.R3av'\n",
       "\\item 'OC43.Spike.R3av'\n",
       "\\item 'HKU1.Spike.R3av'\n",
       "\\item 'HCMVgB.Antigen.R3av'\n",
       "\\item 'Influenza.HA.R3av'\n",
       "\\item 'EBOV.Antigen.R3av'\n",
       "\\item 'Omicron.RBD.R3av'\n",
       "\\item 'Omicron.Spike.R3av'\n",
       "\\item 'WT.Spike.R3b'\n",
       "\\item 'WT.RBD.R3b'\n",
       "\\item 'WT.S1.R3b'\n",
       "\\item 'WT.S2.R3b'\n",
       "\\item 'WT.NTD.R3b'\n",
       "\\item 'WT.N.R3b'\n",
       "\\item 'Alpha.RBD.R3b'\n",
       "\\item 'Alpha.Spike.R3b'\n",
       "\\item 'Beta.RBD.R3b'\n",
       "\\item 'Beta.Spike.R3b'\n",
       "\\item 'Gamma.RBD.R3b'\n",
       "\\item 'Gamma.Spike.R3b'\n",
       "\\item 'Delta.RBD.R3b'\n",
       "\\item 'Delta.Spike.R3b'\n",
       "\\item 'OC43.Spike.R3b'\n",
       "\\item 'HKU1.Spike.R3b'\n",
       "\\item 'HCMVgB.Antigen.R3b'\n",
       "\\item 'Influenza.HA.R3b'\n",
       "\\item 'EBOV.Antigen.R3b'\n",
       "\\item 'Omicron.RBD.R3b'\n",
       "\\item 'Omicron.Spike.R3b'\n",
       "\\item 'WT.Spike.NeutIC50'\n",
       "\\item 'WT.Spike.ADCPBL3'\n",
       "\\item 'Omicron.Spike.ADCPBL3'\n",
       "\\item 'WT.Spike.ADNP'\n",
       "\\item 'Omicron.Spike.ADNP'\n",
       "\\end{enumerate*}\n"
      ],
      "text/markdown": [
       "1. 'WT.Spike.C1q'\n",
       "2. 'WT.RBD.C1q'\n",
       "3. 'WT.S1.C1q'\n",
       "4. 'WT.S2.C1q'\n",
       "5. 'WT.NTD.C1q'\n",
       "6. 'WT.N.C1q'\n",
       "7. 'Alpha.RBD.C1q'\n",
       "8. 'Alpha.Spike.C1q'\n",
       "9. 'Beta.RBD.C1q'\n",
       "10. 'Beta.Spike.C1q'\n",
       "11. 'Gamma.RBD.C1q'\n",
       "12. 'Gamma.Spike.C1q'\n",
       "13. 'Delta.RBD.C1q'\n",
       "14. 'Delta.Spike.C1q'\n",
       "15. 'OC43.Spike.C1q'\n",
       "16. 'HKU1.Spike.C1q'\n",
       "17. 'HCMVgB.Antigen.C1q'\n",
       "18. 'Influenza.HA.C1q'\n",
       "19. 'EBOV.Antigen.C1q'\n",
       "20. 'Omicron.RBD.C1q'\n",
       "21. 'Omicron.Spike.C1q'\n",
       "22. 'WT.Spike.IgA1'\n",
       "23. 'WT.RBD.IgA1'\n",
       "24. 'WT.S1.IgA1'\n",
       "25. 'WT.S2.IgA1'\n",
       "26. 'WT.NTD.IgA1'\n",
       "27. 'WT.N.IgA1'\n",
       "28. 'Alpha.RBD.IgA1'\n",
       "29. 'Alpha.Spike.IgA1'\n",
       "30. 'Beta.RBD.IgA1'\n",
       "31. 'Beta.Spike.IgA1'\n",
       "32. 'Gamma.RBD.IgA1'\n",
       "33. 'Gamma.Spike.IgA1'\n",
       "34. 'Delta.RBD.IgA1'\n",
       "35. 'Delta.Spike.IgA1'\n",
       "36. 'OC43.Spike.IgA1'\n",
       "37. 'HKU1.Spike.IgA1'\n",
       "38. 'HCMVgB.Antigen.IgA1'\n",
       "39. 'Influenza.HA.IgA1'\n",
       "40. 'EBOV.Antigen.IgA1'\n",
       "41. 'Omicron.RBD.IgA1'\n",
       "42. 'Omicron.Spike.IgA1'\n",
       "43. 'WT.Spike.IgG1'\n",
       "44. 'WT.RBD.IgG1'\n",
       "45. 'WT.S1.IgG1'\n",
       "46. 'WT.S2.IgG1'\n",
       "47. 'WT.NTD.IgG1'\n",
       "48. 'WT.N.IgG1'\n",
       "49. 'Alpha.RBD.IgG1'\n",
       "50. 'Alpha.Spike.IgG1'\n",
       "51. 'Beta.RBD.IgG1'\n",
       "52. 'Beta.Spike.IgG1'\n",
       "53. 'Gamma.RBD.IgG1'\n",
       "54. 'Gamma.Spike.IgG1'\n",
       "55. 'Delta.RBD.IgG1'\n",
       "56. 'Delta.Spike.IgG1'\n",
       "57. 'OC43.Spike.IgG1'\n",
       "58. 'HKU1.Spike.IgG1'\n",
       "59. 'HCMVgB.Antigen.IgG1'\n",
       "60. 'Influenza.HA.IgG1'\n",
       "61. 'EBOV.Antigen.IgG1'\n",
       "62. 'Omicron.RBD.IgG1'\n",
       "63. 'Omicron.Spike.IgG1'\n",
       "64. 'WT.Spike.IgG2'\n",
       "65. 'WT.RBD.IgG2'\n",
       "66. 'WT.S1.IgG2'\n",
       "67. 'WT.S2.IgG2'\n",
       "68. 'WT.NTD.IgG2'\n",
       "69. 'WT.N.IgG2'\n",
       "70. 'Alpha.RBD.IgG2'\n",
       "71. 'Alpha.Spike.IgG2'\n",
       "72. 'Beta.RBD.IgG2'\n",
       "73. 'Beta.Spike.IgG2'\n",
       "74. 'Gamma.RBD.IgG2'\n",
       "75. 'Gamma.Spike.IgG2'\n",
       "76. 'Delta.RBD.IgG2'\n",
       "77. 'Delta.Spike.IgG2'\n",
       "78. 'OC43.Spike.IgG2'\n",
       "79. 'HKU1.Spike.IgG2'\n",
       "80. 'HCMVgB.Antigen.IgG2'\n",
       "81. 'Influenza.HA.IgG2'\n",
       "82. 'EBOV.Antigen.IgG2'\n",
       "83. 'Omicron.RBD.IgG2'\n",
       "84. 'Omicron.Spike.IgG2'\n",
       "85. 'WT.Spike.IgG3'\n",
       "86. 'WT.RBD.IgG3'\n",
       "87. 'WT.S1.IgG3'\n",
       "88. 'WT.S2.IgG3'\n",
       "89. 'WT.NTD.IgG3'\n",
       "90. 'WT.N.IgG3'\n",
       "91. 'Alpha.RBD.IgG3'\n",
       "92. 'Alpha.Spike.IgG3'\n",
       "93. 'Beta.RBD.IgG3'\n",
       "94. 'Beta.Spike.IgG3'\n",
       "95. 'Gamma.RBD.IgG3'\n",
       "96. 'Gamma.Spike.IgG3'\n",
       "97. 'Delta.RBD.IgG3'\n",
       "98. 'Delta.Spike.IgG3'\n",
       "99. 'OC43.Spike.IgG3'\n",
       "100. 'HKU1.Spike.IgG3'\n",
       "101. 'HCMVgB.Antigen.IgG3'\n",
       "102. 'Influenza.HA.IgG3'\n",
       "103. 'EBOV.Antigen.IgG3'\n",
       "104. 'Omicron.RBD.IgG3'\n",
       "105. 'Omicron.Spike.IgG3'\n",
       "106. 'WT.Spike.IgG4'\n",
       "107. 'WT.RBD.IgG4'\n",
       "108. 'WT.S1.IgG4'\n",
       "109. 'WT.S2.IgG4'\n",
       "110. 'WT.NTD.IgG4'\n",
       "111. 'WT.N.IgG4'\n",
       "112. 'Alpha.RBD.IgG4'\n",
       "113. 'Alpha.Spike.IgG4'\n",
       "114. 'Beta.RBD.IgG4'\n",
       "115. 'Beta.Spike.IgG4'\n",
       "116. 'Gamma.RBD.IgG4'\n",
       "117. 'Gamma.Spike.IgG4'\n",
       "118. 'Delta.RBD.IgG4'\n",
       "119. 'Delta.Spike.IgG4'\n",
       "120. 'OC43.Spike.IgG4'\n",
       "121. 'HKU1.Spike.IgG4'\n",
       "122. 'HCMVgB.Antigen.IgG4'\n",
       "123. 'Influenza.HA.IgG4'\n",
       "124. 'EBOV.Antigen.IgG4'\n",
       "125. 'Omicron.RBD.IgG4'\n",
       "126. 'Omicron.Spike.IgG4'\n",
       "127. 'WT.Spike.IgM'\n",
       "128. 'WT.RBD.IgM'\n",
       "129. 'WT.S1.IgM'\n",
       "130. 'WT.S2.IgM'\n",
       "131. 'WT.NTD.IgM'\n",
       "132. 'WT.N.IgM'\n",
       "133. 'Alpha.RBD.IgM'\n",
       "134. 'Alpha.Spike.IgM'\n",
       "135. 'Beta.RBD.IgM'\n",
       "136. 'Beta.Spike.IgM'\n",
       "137. 'Gamma.RBD.IgM'\n",
       "138. 'Gamma.Spike.IgM'\n",
       "139. 'Delta.RBD.IgM'\n",
       "140. 'Delta.Spike.IgM'\n",
       "141. 'OC43.Spike.IgM'\n",
       "142. 'HKU1.Spike.IgM'\n",
       "143. 'HCMVgB.Antigen.IgM'\n",
       "144. 'Influenza.HA.IgM'\n",
       "145. 'EBOV.Antigen.IgM'\n",
       "146. 'Omicron.RBD.IgM'\n",
       "147. 'Omicron.Spike.IgM'\n",
       "148. 'WT.Spike.R2a'\n",
       "149. 'WT.RBD.R2a'\n",
       "150. 'WT.S1.R2a'\n",
       "151. 'WT.S2.R2a'\n",
       "152. 'WT.NTD.R2a'\n",
       "153. 'WT.N.R2a'\n",
       "154. 'Alpha.RBD.R2a'\n",
       "155. 'Alpha.Spike.R2a'\n",
       "156. 'Beta.RBD.R2a'\n",
       "157. 'Beta.Spike.R2a'\n",
       "158. 'Gamma.RBD.R2a'\n",
       "159. 'Gamma.Spike.R2a'\n",
       "160. 'Delta.RBD.R2a'\n",
       "161. 'Delta.Spike.R2a'\n",
       "162. 'OC43.Spike.R2a'\n",
       "163. 'HKU1.Spike.R2a'\n",
       "164. 'HCMVgB.Antigen.R2a'\n",
       "165. 'Influenza.HA.R2a'\n",
       "166. 'EBOV.Antigen.R2a'\n",
       "167. 'Omicron.RBD.R2a'\n",
       "168. 'Omicron.Spike.R2a'\n",
       "169. 'WT.Spike.R2b'\n",
       "170. 'WT.RBD.R2b'\n",
       "171. 'WT.S1.R2b'\n",
       "172. 'WT.S2.R2b'\n",
       "173. 'WT.NTD.R2b'\n",
       "174. 'WT.N.R2b'\n",
       "175. 'Alpha.RBD.R2b'\n",
       "176. 'Alpha.Spike.R2b'\n",
       "177. 'Beta.RBD.R2b'\n",
       "178. 'Beta.Spike.R2b'\n",
       "179. 'Gamma.RBD.R2b'\n",
       "180. 'Gamma.Spike.R2b'\n",
       "181. 'Delta.RBD.R2b'\n",
       "182. 'Delta.Spike.R2b'\n",
       "183. 'OC43.Spike.R2b'\n",
       "184. 'HKU1.Spike.R2b'\n",
       "185. 'HCMVgB.Antigen.R2b'\n",
       "186. 'Influenza.HA.R2b'\n",
       "187. 'EBOV.Antigen.R2b'\n",
       "188. 'Omicron.RBD.R2b'\n",
       "189. 'Omicron.Spike.R2b'\n",
       "190. 'WT.Spike.R3av'\n",
       "191. 'WT.RBD.R3av'\n",
       "192. 'WT.S1.R3av'\n",
       "193. 'WT.S2.R3av'\n",
       "194. 'WT.NTD.R3av'\n",
       "195. 'WT.N.R3av'\n",
       "196. 'Alpha.RBD.R3av'\n",
       "197. 'Alpha.Spike.R3av'\n",
       "198. 'Beta.RBD.R3av'\n",
       "199. 'Beta.Spike.R3av'\n",
       "200. 'Gamma.RBD.R3av'\n",
       "201. 'Gamma.Spike.R3av'\n",
       "202. 'Delta.RBD.R3av'\n",
       "203. 'Delta.Spike.R3av'\n",
       "204. 'OC43.Spike.R3av'\n",
       "205. 'HKU1.Spike.R3av'\n",
       "206. 'HCMVgB.Antigen.R3av'\n",
       "207. 'Influenza.HA.R3av'\n",
       "208. 'EBOV.Antigen.R3av'\n",
       "209. 'Omicron.RBD.R3av'\n",
       "210. 'Omicron.Spike.R3av'\n",
       "211. 'WT.Spike.R3b'\n",
       "212. 'WT.RBD.R3b'\n",
       "213. 'WT.S1.R3b'\n",
       "214. 'WT.S2.R3b'\n",
       "215. 'WT.NTD.R3b'\n",
       "216. 'WT.N.R3b'\n",
       "217. 'Alpha.RBD.R3b'\n",
       "218. 'Alpha.Spike.R3b'\n",
       "219. 'Beta.RBD.R3b'\n",
       "220. 'Beta.Spike.R3b'\n",
       "221. 'Gamma.RBD.R3b'\n",
       "222. 'Gamma.Spike.R3b'\n",
       "223. 'Delta.RBD.R3b'\n",
       "224. 'Delta.Spike.R3b'\n",
       "225. 'OC43.Spike.R3b'\n",
       "226. 'HKU1.Spike.R3b'\n",
       "227. 'HCMVgB.Antigen.R3b'\n",
       "228. 'Influenza.HA.R3b'\n",
       "229. 'EBOV.Antigen.R3b'\n",
       "230. 'Omicron.RBD.R3b'\n",
       "231. 'Omicron.Spike.R3b'\n",
       "232. 'WT.Spike.NeutIC50'\n",
       "233. 'WT.Spike.ADCPBL3'\n",
       "234. 'Omicron.Spike.ADCPBL3'\n",
       "235. 'WT.Spike.ADNP'\n",
       "236. 'Omicron.Spike.ADNP'\n",
       "\n",
       "\n"
      ],
      "text/plain": [
       "  [1] \"WT.Spike.C1q\"          \"WT.RBD.C1q\"            \"WT.S1.C1q\"            \n",
       "  [4] \"WT.S2.C1q\"             \"WT.NTD.C1q\"            \"WT.N.C1q\"             \n",
       "  [7] \"Alpha.RBD.C1q\"         \"Alpha.Spike.C1q\"       \"Beta.RBD.C1q\"         \n",
       " [10] \"Beta.Spike.C1q\"        \"Gamma.RBD.C1q\"         \"Gamma.Spike.C1q\"      \n",
       " [13] \"Delta.RBD.C1q\"         \"Delta.Spike.C1q\"       \"OC43.Spike.C1q\"       \n",
       " [16] \"HKU1.Spike.C1q\"        \"HCMVgB.Antigen.C1q\"    \"Influenza.HA.C1q\"     \n",
       " [19] \"EBOV.Antigen.C1q\"      \"Omicron.RBD.C1q\"       \"Omicron.Spike.C1q\"    \n",
       " [22] \"WT.Spike.IgA1\"         \"WT.RBD.IgA1\"           \"WT.S1.IgA1\"           \n",
       " [25] \"WT.S2.IgA1\"            \"WT.NTD.IgA1\"           \"WT.N.IgA1\"            \n",
       " [28] \"Alpha.RBD.IgA1\"        \"Alpha.Spike.IgA1\"      \"Beta.RBD.IgA1\"        \n",
       " [31] \"Beta.Spike.IgA1\"       \"Gamma.RBD.IgA1\"        \"Gamma.Spike.IgA1\"     \n",
       " [34] \"Delta.RBD.IgA1\"        \"Delta.Spike.IgA1\"      \"OC43.Spike.IgA1\"      \n",
       " [37] \"HKU1.Spike.IgA1\"       \"HCMVgB.Antigen.IgA1\"   \"Influenza.HA.IgA1\"    \n",
       " [40] \"EBOV.Antigen.IgA1\"     \"Omicron.RBD.IgA1\"      \"Omicron.Spike.IgA1\"   \n",
       " [43] \"WT.Spike.IgG1\"         \"WT.RBD.IgG1\"           \"WT.S1.IgG1\"           \n",
       " [46] \"WT.S2.IgG1\"            \"WT.NTD.IgG1\"           \"WT.N.IgG1\"            \n",
       " [49] \"Alpha.RBD.IgG1\"        \"Alpha.Spike.IgG1\"      \"Beta.RBD.IgG1\"        \n",
       " [52] \"Beta.Spike.IgG1\"       \"Gamma.RBD.IgG1\"        \"Gamma.Spike.IgG1\"     \n",
       " [55] \"Delta.RBD.IgG1\"        \"Delta.Spike.IgG1\"      \"OC43.Spike.IgG1\"      \n",
       " [58] \"HKU1.Spike.IgG1\"       \"HCMVgB.Antigen.IgG1\"   \"Influenza.HA.IgG1\"    \n",
       " [61] \"EBOV.Antigen.IgG1\"     \"Omicron.RBD.IgG1\"      \"Omicron.Spike.IgG1\"   \n",
       " [64] \"WT.Spike.IgG2\"         \"WT.RBD.IgG2\"           \"WT.S1.IgG2\"           \n",
       " [67] \"WT.S2.IgG2\"            \"WT.NTD.IgG2\"           \"WT.N.IgG2\"            \n",
       " [70] \"Alpha.RBD.IgG2\"        \"Alpha.Spike.IgG2\"      \"Beta.RBD.IgG2\"        \n",
       " [73] \"Beta.Spike.IgG2\"       \"Gamma.RBD.IgG2\"        \"Gamma.Spike.IgG2\"     \n",
       " [76] \"Delta.RBD.IgG2\"        \"Delta.Spike.IgG2\"      \"OC43.Spike.IgG2\"      \n",
       " [79] \"HKU1.Spike.IgG2\"       \"HCMVgB.Antigen.IgG2\"   \"Influenza.HA.IgG2\"    \n",
       " [82] \"EBOV.Antigen.IgG2\"     \"Omicron.RBD.IgG2\"      \"Omicron.Spike.IgG2\"   \n",
       " [85] \"WT.Spike.IgG3\"         \"WT.RBD.IgG3\"           \"WT.S1.IgG3\"           \n",
       " [88] \"WT.S2.IgG3\"            \"WT.NTD.IgG3\"           \"WT.N.IgG3\"            \n",
       " [91] \"Alpha.RBD.IgG3\"        \"Alpha.Spike.IgG3\"      \"Beta.RBD.IgG3\"        \n",
       " [94] \"Beta.Spike.IgG3\"       \"Gamma.RBD.IgG3\"        \"Gamma.Spike.IgG3\"     \n",
       " [97] \"Delta.RBD.IgG3\"        \"Delta.Spike.IgG3\"      \"OC43.Spike.IgG3\"      \n",
       "[100] \"HKU1.Spike.IgG3\"       \"HCMVgB.Antigen.IgG3\"   \"Influenza.HA.IgG3\"    \n",
       "[103] \"EBOV.Antigen.IgG3\"     \"Omicron.RBD.IgG3\"      \"Omicron.Spike.IgG3\"   \n",
       "[106] \"WT.Spike.IgG4\"         \"WT.RBD.IgG4\"           \"WT.S1.IgG4\"           \n",
       "[109] \"WT.S2.IgG4\"            \"WT.NTD.IgG4\"           \"WT.N.IgG4\"            \n",
       "[112] \"Alpha.RBD.IgG4\"        \"Alpha.Spike.IgG4\"      \"Beta.RBD.IgG4\"        \n",
       "[115] \"Beta.Spike.IgG4\"       \"Gamma.RBD.IgG4\"        \"Gamma.Spike.IgG4\"     \n",
       "[118] \"Delta.RBD.IgG4\"        \"Delta.Spike.IgG4\"      \"OC43.Spike.IgG4\"      \n",
       "[121] \"HKU1.Spike.IgG4\"       \"HCMVgB.Antigen.IgG4\"   \"Influenza.HA.IgG4\"    \n",
       "[124] \"EBOV.Antigen.IgG4\"     \"Omicron.RBD.IgG4\"      \"Omicron.Spike.IgG4\"   \n",
       "[127] \"WT.Spike.IgM\"          \"WT.RBD.IgM\"            \"WT.S1.IgM\"            \n",
       "[130] \"WT.S2.IgM\"             \"WT.NTD.IgM\"            \"WT.N.IgM\"             \n",
       "[133] \"Alpha.RBD.IgM\"         \"Alpha.Spike.IgM\"       \"Beta.RBD.IgM\"         \n",
       "[136] \"Beta.Spike.IgM\"        \"Gamma.RBD.IgM\"         \"Gamma.Spike.IgM\"      \n",
       "[139] \"Delta.RBD.IgM\"         \"Delta.Spike.IgM\"       \"OC43.Spike.IgM\"       \n",
       "[142] \"HKU1.Spike.IgM\"        \"HCMVgB.Antigen.IgM\"    \"Influenza.HA.IgM\"     \n",
       "[145] \"EBOV.Antigen.IgM\"      \"Omicron.RBD.IgM\"       \"Omicron.Spike.IgM\"    \n",
       "[148] \"WT.Spike.R2a\"          \"WT.RBD.R2a\"            \"WT.S1.R2a\"            \n",
       "[151] \"WT.S2.R2a\"             \"WT.NTD.R2a\"            \"WT.N.R2a\"             \n",
       "[154] \"Alpha.RBD.R2a\"         \"Alpha.Spike.R2a\"       \"Beta.RBD.R2a\"         \n",
       "[157] \"Beta.Spike.R2a\"        \"Gamma.RBD.R2a\"         \"Gamma.Spike.R2a\"      \n",
       "[160] \"Delta.RBD.R2a\"         \"Delta.Spike.R2a\"       \"OC43.Spike.R2a\"       \n",
       "[163] \"HKU1.Spike.R2a\"        \"HCMVgB.Antigen.R2a\"    \"Influenza.HA.R2a\"     \n",
       "[166] \"EBOV.Antigen.R2a\"      \"Omicron.RBD.R2a\"       \"Omicron.Spike.R2a\"    \n",
       "[169] \"WT.Spike.R2b\"          \"WT.RBD.R2b\"            \"WT.S1.R2b\"            \n",
       "[172] \"WT.S2.R2b\"             \"WT.NTD.R2b\"            \"WT.N.R2b\"             \n",
       "[175] \"Alpha.RBD.R2b\"         \"Alpha.Spike.R2b\"       \"Beta.RBD.R2b\"         \n",
       "[178] \"Beta.Spike.R2b\"        \"Gamma.RBD.R2b\"         \"Gamma.Spike.R2b\"      \n",
       "[181] \"Delta.RBD.R2b\"         \"Delta.Spike.R2b\"       \"OC43.Spike.R2b\"       \n",
       "[184] \"HKU1.Spike.R2b\"        \"HCMVgB.Antigen.R2b\"    \"Influenza.HA.R2b\"     \n",
       "[187] \"EBOV.Antigen.R2b\"      \"Omicron.RBD.R2b\"       \"Omicron.Spike.R2b\"    \n",
       "[190] \"WT.Spike.R3av\"         \"WT.RBD.R3av\"           \"WT.S1.R3av\"           \n",
       "[193] \"WT.S2.R3av\"            \"WT.NTD.R3av\"           \"WT.N.R3av\"            \n",
       "[196] \"Alpha.RBD.R3av\"        \"Alpha.Spike.R3av\"      \"Beta.RBD.R3av\"        \n",
       "[199] \"Beta.Spike.R3av\"       \"Gamma.RBD.R3av\"        \"Gamma.Spike.R3av\"     \n",
       "[202] \"Delta.RBD.R3av\"        \"Delta.Spike.R3av\"      \"OC43.Spike.R3av\"      \n",
       "[205] \"HKU1.Spike.R3av\"       \"HCMVgB.Antigen.R3av\"   \"Influenza.HA.R3av\"    \n",
       "[208] \"EBOV.Antigen.R3av\"     \"Omicron.RBD.R3av\"      \"Omicron.Spike.R3av\"   \n",
       "[211] \"WT.Spike.R3b\"          \"WT.RBD.R3b\"            \"WT.S1.R3b\"            \n",
       "[214] \"WT.S2.R3b\"             \"WT.NTD.R3b\"            \"WT.N.R3b\"             \n",
       "[217] \"Alpha.RBD.R3b\"         \"Alpha.Spike.R3b\"       \"Beta.RBD.R3b\"         \n",
       "[220] \"Beta.Spike.R3b\"        \"Gamma.RBD.R3b\"         \"Gamma.Spike.R3b\"      \n",
       "[223] \"Delta.RBD.R3b\"         \"Delta.Spike.R3b\"       \"OC43.Spike.R3b\"       \n",
       "[226] \"HKU1.Spike.R3b\"        \"HCMVgB.Antigen.R3b\"    \"Influenza.HA.R3b\"     \n",
       "[229] \"EBOV.Antigen.R3b\"      \"Omicron.RBD.R3b\"       \"Omicron.Spike.R3b\"    \n",
       "[232] \"WT.Spike.NeutIC50\"     \"WT.Spike.ADCPBL3\"      \"Omicron.Spike.ADCPBL3\"\n",
       "[235] \"WT.Spike.ADNP\"         \"Omicron.Spike.ADNP\"   "
      ]
     },
     "metadata": {},
     "output_type": "display_data"
    }
   ],
   "source": [
    "    # annot_vars = colnames(data_norm)[c(1:14,36:37)]\n",
    "annot_vars = c('Tube.Label','Lab.ID','ID','PlateNum','SampleNum','PlateID','PlateCoord','BOX','Vaccine','Time.sample','DPFD','DPSD','DPTD','order','vaccine','group')\n",
    "annot_vars\n",
    "data_vars = colnames(data_norm)[ ! colnames(data_norm) %in% annot_vars ]\n",
    "    # data_vars = grep('\\\\.',colnames(data_norm)[15:ncol(data_norm)],value=T)\n",
    "data_vars\n",
    "\n"
   ]
  },
  {
   "cell_type": "code",
   "execution_count": 37,
   "id": "e8b1baed-c4ea-4d2e-bd93-32652457cf72",
   "metadata": {},
   "outputs": [
    {
     "data": {
      "text/html": [
       "<style>\n",
       ".list-inline {list-style: none; margin:0; padding: 0}\n",
       ".list-inline>li {display: inline-block}\n",
       ".list-inline>li:not(:last-child)::after {content: \"\\00b7\"; padding: 0 .5ex}\n",
       "</style>\n",
       "<ol class=list-inline><li>'Tube.Label'</li><li>'Lab.ID'</li><li>'ID'</li><li>'PlateNum'</li><li>'SampleNum'</li><li>'PlateID'</li><li>'PlateCoord'</li><li>'BOX'</li><li>'Vaccine'</li><li>'Time.sample'</li><li>'DPFD'</li><li>'DPSD'</li><li>'DPTD'</li><li>'order'</li><li>'vaccine'</li><li>'group'</li></ol>\n"
      ],
      "text/latex": [
       "\\begin{enumerate*}\n",
       "\\item 'Tube.Label'\n",
       "\\item 'Lab.ID'\n",
       "\\item 'ID'\n",
       "\\item 'PlateNum'\n",
       "\\item 'SampleNum'\n",
       "\\item 'PlateID'\n",
       "\\item 'PlateCoord'\n",
       "\\item 'BOX'\n",
       "\\item 'Vaccine'\n",
       "\\item 'Time.sample'\n",
       "\\item 'DPFD'\n",
       "\\item 'DPSD'\n",
       "\\item 'DPTD'\n",
       "\\item 'order'\n",
       "\\item 'vaccine'\n",
       "\\item 'group'\n",
       "\\end{enumerate*}\n"
      ],
      "text/markdown": [
       "1. 'Tube.Label'\n",
       "2. 'Lab.ID'\n",
       "3. 'ID'\n",
       "4. 'PlateNum'\n",
       "5. 'SampleNum'\n",
       "6. 'PlateID'\n",
       "7. 'PlateCoord'\n",
       "8. 'BOX'\n",
       "9. 'Vaccine'\n",
       "10. 'Time.sample'\n",
       "11. 'DPFD'\n",
       "12. 'DPSD'\n",
       "13. 'DPTD'\n",
       "14. 'order'\n",
       "15. 'vaccine'\n",
       "16. 'group'\n",
       "\n",
       "\n"
      ],
      "text/plain": [
       " [1] \"Tube.Label\"  \"Lab.ID\"      \"ID\"          \"PlateNum\"    \"SampleNum\"  \n",
       " [6] \"PlateID\"     \"PlateCoord\"  \"BOX\"         \"Vaccine\"     \"Time.sample\"\n",
       "[11] \"DPFD\"        \"DPSD\"        \"DPTD\"        \"order\"       \"vaccine\"    \n",
       "[16] \"group\"      "
      ]
     },
     "metadata": {},
     "output_type": "display_data"
    },
    {
     "data": {
      "text/html": [
       "<style>\n",
       ".list-inline {list-style: none; margin:0; padding: 0}\n",
       ".list-inline>li {display: inline-block}\n",
       ".list-inline>li:not(:last-child)::after {content: \"\\00b7\"; padding: 0 .5ex}\n",
       "</style>\n",
       "<ol class=list-inline><li>'WT.Spike.C1q'</li><li>'WT.RBD.C1q'</li><li>'WT.S1.C1q'</li><li>'WT.S2.C1q'</li><li>'WT.NTD.C1q'</li><li>'WT.N.C1q'</li><li>'Alpha.RBD.C1q'</li><li>'Alpha.Spike.C1q'</li><li>'Beta.RBD.C1q'</li><li>'Beta.Spike.C1q'</li><li>'Gamma.RBD.C1q'</li><li>'Gamma.Spike.C1q'</li><li>'Delta.RBD.C1q'</li><li>'Delta.Spike.C1q'</li><li>'OC43.Spike.C1q'</li><li>'HKU1.Spike.C1q'</li><li>'HCMVgB.Antigen.C1q'</li><li>'Influenza.HA.C1q'</li><li>'EBOV.Antigen.C1q'</li><li>'Omicron.RBD.C1q'</li><li>'Omicron.Spike.C1q'</li><li>'WT.Spike.IgA1'</li><li>'WT.RBD.IgA1'</li><li>'WT.S1.IgA1'</li><li>'WT.S2.IgA1'</li><li>'WT.NTD.IgA1'</li><li>'WT.N.IgA1'</li><li>'Alpha.RBD.IgA1'</li><li>'Alpha.Spike.IgA1'</li><li>'Beta.RBD.IgA1'</li><li>'Beta.Spike.IgA1'</li><li>'Gamma.RBD.IgA1'</li><li>'Gamma.Spike.IgA1'</li><li>'Delta.RBD.IgA1'</li><li>'Delta.Spike.IgA1'</li><li>'OC43.Spike.IgA1'</li><li>'HKU1.Spike.IgA1'</li><li>'HCMVgB.Antigen.IgA1'</li><li>'Influenza.HA.IgA1'</li><li>'EBOV.Antigen.IgA1'</li><li>'Omicron.RBD.IgA1'</li><li>'Omicron.Spike.IgA1'</li><li>'WT.Spike.IgG1'</li><li>'WT.RBD.IgG1'</li><li>'WT.S1.IgG1'</li><li>'WT.S2.IgG1'</li><li>'WT.NTD.IgG1'</li><li>'WT.N.IgG1'</li><li>'Alpha.RBD.IgG1'</li><li>'Alpha.Spike.IgG1'</li><li>'Beta.RBD.IgG1'</li><li>'Beta.Spike.IgG1'</li><li>'Gamma.RBD.IgG1'</li><li>'Gamma.Spike.IgG1'</li><li>'Delta.RBD.IgG1'</li><li>'Delta.Spike.IgG1'</li><li>'OC43.Spike.IgG1'</li><li>'HKU1.Spike.IgG1'</li><li>'HCMVgB.Antigen.IgG1'</li><li>'Influenza.HA.IgG1'</li><li>'EBOV.Antigen.IgG1'</li><li>'Omicron.RBD.IgG1'</li><li>'Omicron.Spike.IgG1'</li><li>'WT.Spike.IgG2'</li><li>'WT.RBD.IgG2'</li><li>'WT.S1.IgG2'</li><li>'WT.S2.IgG2'</li><li>'WT.NTD.IgG2'</li><li>'WT.N.IgG2'</li><li>'Alpha.RBD.IgG2'</li><li>'Alpha.Spike.IgG2'</li><li>'Beta.RBD.IgG2'</li><li>'Beta.Spike.IgG2'</li><li>'Gamma.RBD.IgG2'</li><li>'Gamma.Spike.IgG2'</li><li>'Delta.RBD.IgG2'</li><li>'Delta.Spike.IgG2'</li><li>'OC43.Spike.IgG2'</li><li>'HKU1.Spike.IgG2'</li><li>'HCMVgB.Antigen.IgG2'</li><li>'Influenza.HA.IgG2'</li><li>'EBOV.Antigen.IgG2'</li><li>'Omicron.RBD.IgG2'</li><li>'Omicron.Spike.IgG2'</li><li>'WT.Spike.IgG3'</li><li>'WT.RBD.IgG3'</li><li>'WT.S1.IgG3'</li><li>'WT.S2.IgG3'</li><li>'WT.NTD.IgG3'</li><li>'WT.N.IgG3'</li><li>'Alpha.RBD.IgG3'</li><li>'Alpha.Spike.IgG3'</li><li>'Beta.RBD.IgG3'</li><li>'Beta.Spike.IgG3'</li><li>'Gamma.RBD.IgG3'</li><li>'Gamma.Spike.IgG3'</li><li>'Delta.RBD.IgG3'</li><li>'Delta.Spike.IgG3'</li><li>'OC43.Spike.IgG3'</li><li>'HKU1.Spike.IgG3'</li><li>'HCMVgB.Antigen.IgG3'</li><li>'Influenza.HA.IgG3'</li><li>'EBOV.Antigen.IgG3'</li><li>'Omicron.RBD.IgG3'</li><li>'Omicron.Spike.IgG3'</li><li>'WT.Spike.IgG4'</li><li>'WT.RBD.IgG4'</li><li>'WT.S1.IgG4'</li><li>'WT.S2.IgG4'</li><li>'WT.NTD.IgG4'</li><li>'WT.N.IgG4'</li><li>'Alpha.RBD.IgG4'</li><li>'Alpha.Spike.IgG4'</li><li>'Beta.RBD.IgG4'</li><li>'Beta.Spike.IgG4'</li><li>'Gamma.RBD.IgG4'</li><li>'Gamma.Spike.IgG4'</li><li>'Delta.RBD.IgG4'</li><li>'Delta.Spike.IgG4'</li><li>'OC43.Spike.IgG4'</li><li>'HKU1.Spike.IgG4'</li><li>'HCMVgB.Antigen.IgG4'</li><li>'Influenza.HA.IgG4'</li><li>'EBOV.Antigen.IgG4'</li><li>'Omicron.RBD.IgG4'</li><li>'Omicron.Spike.IgG4'</li><li>'WT.Spike.IgM'</li><li>'WT.RBD.IgM'</li><li>'WT.S1.IgM'</li><li>'WT.S2.IgM'</li><li>'WT.NTD.IgM'</li><li>'WT.N.IgM'</li><li>'Alpha.RBD.IgM'</li><li>'Alpha.Spike.IgM'</li><li>'Beta.RBD.IgM'</li><li>'Beta.Spike.IgM'</li><li>'Gamma.RBD.IgM'</li><li>'Gamma.Spike.IgM'</li><li>'Delta.RBD.IgM'</li><li>'Delta.Spike.IgM'</li><li>'OC43.Spike.IgM'</li><li>'HKU1.Spike.IgM'</li><li>'HCMVgB.Antigen.IgM'</li><li>'Influenza.HA.IgM'</li><li>'EBOV.Antigen.IgM'</li><li>'Omicron.RBD.IgM'</li><li>'Omicron.Spike.IgM'</li><li>'WT.Spike.R2a'</li><li>'WT.RBD.R2a'</li><li>'WT.S1.R2a'</li><li>'WT.S2.R2a'</li><li>'WT.NTD.R2a'</li><li>'WT.N.R2a'</li><li>'Alpha.RBD.R2a'</li><li>'Alpha.Spike.R2a'</li><li>'Beta.RBD.R2a'</li><li>'Beta.Spike.R2a'</li><li>'Gamma.RBD.R2a'</li><li>'Gamma.Spike.R2a'</li><li>'Delta.RBD.R2a'</li><li>'Delta.Spike.R2a'</li><li>'OC43.Spike.R2a'</li><li>'HKU1.Spike.R2a'</li><li>'HCMVgB.Antigen.R2a'</li><li>'Influenza.HA.R2a'</li><li>'EBOV.Antigen.R2a'</li><li>'Omicron.RBD.R2a'</li><li>'Omicron.Spike.R2a'</li><li>'WT.Spike.R2b'</li><li>'WT.RBD.R2b'</li><li>'WT.S1.R2b'</li><li>'WT.S2.R2b'</li><li>'WT.NTD.R2b'</li><li>'WT.N.R2b'</li><li>'Alpha.RBD.R2b'</li><li>'Alpha.Spike.R2b'</li><li>'Beta.RBD.R2b'</li><li>'Beta.Spike.R2b'</li><li>'Gamma.RBD.R2b'</li><li>'Gamma.Spike.R2b'</li><li>'Delta.RBD.R2b'</li><li>'Delta.Spike.R2b'</li><li>'OC43.Spike.R2b'</li><li>'HKU1.Spike.R2b'</li><li>'HCMVgB.Antigen.R2b'</li><li>'Influenza.HA.R2b'</li><li>'EBOV.Antigen.R2b'</li><li>'Omicron.RBD.R2b'</li><li>'Omicron.Spike.R2b'</li><li>'WT.Spike.R3av'</li><li>'WT.RBD.R3av'</li><li>'WT.S1.R3av'</li><li>'WT.S2.R3av'</li><li>'WT.NTD.R3av'</li><li>'WT.N.R3av'</li><li>'Alpha.RBD.R3av'</li><li>'Alpha.Spike.R3av'</li><li>'Beta.RBD.R3av'</li><li>'Beta.Spike.R3av'</li><li>'Gamma.RBD.R3av'</li><li>'Gamma.Spike.R3av'</li><li>'Delta.RBD.R3av'</li><li>'Delta.Spike.R3av'</li><li>'OC43.Spike.R3av'</li><li>'HKU1.Spike.R3av'</li><li>'HCMVgB.Antigen.R3av'</li><li>'Influenza.HA.R3av'</li><li>'EBOV.Antigen.R3av'</li><li>'Omicron.RBD.R3av'</li><li>'Omicron.Spike.R3av'</li><li>'WT.Spike.R3b'</li><li>'WT.RBD.R3b'</li><li>'WT.S1.R3b'</li><li>'WT.S2.R3b'</li><li>'WT.NTD.R3b'</li><li>'WT.N.R3b'</li><li>'Alpha.RBD.R3b'</li><li>'Alpha.Spike.R3b'</li><li>'Beta.RBD.R3b'</li><li>'Beta.Spike.R3b'</li><li>'Gamma.RBD.R3b'</li><li>'Gamma.Spike.R3b'</li><li>'Delta.RBD.R3b'</li><li>'Delta.Spike.R3b'</li><li>'OC43.Spike.R3b'</li><li>'HKU1.Spike.R3b'</li><li>'HCMVgB.Antigen.R3b'</li><li>'Influenza.HA.R3b'</li><li>'EBOV.Antigen.R3b'</li><li>'Omicron.RBD.R3b'</li><li>'Omicron.Spike.R3b'</li><li>'WT.Spike.NeutIC50'</li><li>'WT.Spike.ADCPBL3'</li><li>'Omicron.Spike.ADCPBL3'</li><li>'WT.Spike.ADNP'</li><li>'Omicron.Spike.ADNP'</li></ol>\n"
      ],
      "text/latex": [
       "\\begin{enumerate*}\n",
       "\\item 'WT.Spike.C1q'\n",
       "\\item 'WT.RBD.C1q'\n",
       "\\item 'WT.S1.C1q'\n",
       "\\item 'WT.S2.C1q'\n",
       "\\item 'WT.NTD.C1q'\n",
       "\\item 'WT.N.C1q'\n",
       "\\item 'Alpha.RBD.C1q'\n",
       "\\item 'Alpha.Spike.C1q'\n",
       "\\item 'Beta.RBD.C1q'\n",
       "\\item 'Beta.Spike.C1q'\n",
       "\\item 'Gamma.RBD.C1q'\n",
       "\\item 'Gamma.Spike.C1q'\n",
       "\\item 'Delta.RBD.C1q'\n",
       "\\item 'Delta.Spike.C1q'\n",
       "\\item 'OC43.Spike.C1q'\n",
       "\\item 'HKU1.Spike.C1q'\n",
       "\\item 'HCMVgB.Antigen.C1q'\n",
       "\\item 'Influenza.HA.C1q'\n",
       "\\item 'EBOV.Antigen.C1q'\n",
       "\\item 'Omicron.RBD.C1q'\n",
       "\\item 'Omicron.Spike.C1q'\n",
       "\\item 'WT.Spike.IgA1'\n",
       "\\item 'WT.RBD.IgA1'\n",
       "\\item 'WT.S1.IgA1'\n",
       "\\item 'WT.S2.IgA1'\n",
       "\\item 'WT.NTD.IgA1'\n",
       "\\item 'WT.N.IgA1'\n",
       "\\item 'Alpha.RBD.IgA1'\n",
       "\\item 'Alpha.Spike.IgA1'\n",
       "\\item 'Beta.RBD.IgA1'\n",
       "\\item 'Beta.Spike.IgA1'\n",
       "\\item 'Gamma.RBD.IgA1'\n",
       "\\item 'Gamma.Spike.IgA1'\n",
       "\\item 'Delta.RBD.IgA1'\n",
       "\\item 'Delta.Spike.IgA1'\n",
       "\\item 'OC43.Spike.IgA1'\n",
       "\\item 'HKU1.Spike.IgA1'\n",
       "\\item 'HCMVgB.Antigen.IgA1'\n",
       "\\item 'Influenza.HA.IgA1'\n",
       "\\item 'EBOV.Antigen.IgA1'\n",
       "\\item 'Omicron.RBD.IgA1'\n",
       "\\item 'Omicron.Spike.IgA1'\n",
       "\\item 'WT.Spike.IgG1'\n",
       "\\item 'WT.RBD.IgG1'\n",
       "\\item 'WT.S1.IgG1'\n",
       "\\item 'WT.S2.IgG1'\n",
       "\\item 'WT.NTD.IgG1'\n",
       "\\item 'WT.N.IgG1'\n",
       "\\item 'Alpha.RBD.IgG1'\n",
       "\\item 'Alpha.Spike.IgG1'\n",
       "\\item 'Beta.RBD.IgG1'\n",
       "\\item 'Beta.Spike.IgG1'\n",
       "\\item 'Gamma.RBD.IgG1'\n",
       "\\item 'Gamma.Spike.IgG1'\n",
       "\\item 'Delta.RBD.IgG1'\n",
       "\\item 'Delta.Spike.IgG1'\n",
       "\\item 'OC43.Spike.IgG1'\n",
       "\\item 'HKU1.Spike.IgG1'\n",
       "\\item 'HCMVgB.Antigen.IgG1'\n",
       "\\item 'Influenza.HA.IgG1'\n",
       "\\item 'EBOV.Antigen.IgG1'\n",
       "\\item 'Omicron.RBD.IgG1'\n",
       "\\item 'Omicron.Spike.IgG1'\n",
       "\\item 'WT.Spike.IgG2'\n",
       "\\item 'WT.RBD.IgG2'\n",
       "\\item 'WT.S1.IgG2'\n",
       "\\item 'WT.S2.IgG2'\n",
       "\\item 'WT.NTD.IgG2'\n",
       "\\item 'WT.N.IgG2'\n",
       "\\item 'Alpha.RBD.IgG2'\n",
       "\\item 'Alpha.Spike.IgG2'\n",
       "\\item 'Beta.RBD.IgG2'\n",
       "\\item 'Beta.Spike.IgG2'\n",
       "\\item 'Gamma.RBD.IgG2'\n",
       "\\item 'Gamma.Spike.IgG2'\n",
       "\\item 'Delta.RBD.IgG2'\n",
       "\\item 'Delta.Spike.IgG2'\n",
       "\\item 'OC43.Spike.IgG2'\n",
       "\\item 'HKU1.Spike.IgG2'\n",
       "\\item 'HCMVgB.Antigen.IgG2'\n",
       "\\item 'Influenza.HA.IgG2'\n",
       "\\item 'EBOV.Antigen.IgG2'\n",
       "\\item 'Omicron.RBD.IgG2'\n",
       "\\item 'Omicron.Spike.IgG2'\n",
       "\\item 'WT.Spike.IgG3'\n",
       "\\item 'WT.RBD.IgG3'\n",
       "\\item 'WT.S1.IgG3'\n",
       "\\item 'WT.S2.IgG3'\n",
       "\\item 'WT.NTD.IgG3'\n",
       "\\item 'WT.N.IgG3'\n",
       "\\item 'Alpha.RBD.IgG3'\n",
       "\\item 'Alpha.Spike.IgG3'\n",
       "\\item 'Beta.RBD.IgG3'\n",
       "\\item 'Beta.Spike.IgG3'\n",
       "\\item 'Gamma.RBD.IgG3'\n",
       "\\item 'Gamma.Spike.IgG3'\n",
       "\\item 'Delta.RBD.IgG3'\n",
       "\\item 'Delta.Spike.IgG3'\n",
       "\\item 'OC43.Spike.IgG3'\n",
       "\\item 'HKU1.Spike.IgG3'\n",
       "\\item 'HCMVgB.Antigen.IgG3'\n",
       "\\item 'Influenza.HA.IgG3'\n",
       "\\item 'EBOV.Antigen.IgG3'\n",
       "\\item 'Omicron.RBD.IgG3'\n",
       "\\item 'Omicron.Spike.IgG3'\n",
       "\\item 'WT.Spike.IgG4'\n",
       "\\item 'WT.RBD.IgG4'\n",
       "\\item 'WT.S1.IgG4'\n",
       "\\item 'WT.S2.IgG4'\n",
       "\\item 'WT.NTD.IgG4'\n",
       "\\item 'WT.N.IgG4'\n",
       "\\item 'Alpha.RBD.IgG4'\n",
       "\\item 'Alpha.Spike.IgG4'\n",
       "\\item 'Beta.RBD.IgG4'\n",
       "\\item 'Beta.Spike.IgG4'\n",
       "\\item 'Gamma.RBD.IgG4'\n",
       "\\item 'Gamma.Spike.IgG4'\n",
       "\\item 'Delta.RBD.IgG4'\n",
       "\\item 'Delta.Spike.IgG4'\n",
       "\\item 'OC43.Spike.IgG4'\n",
       "\\item 'HKU1.Spike.IgG4'\n",
       "\\item 'HCMVgB.Antigen.IgG4'\n",
       "\\item 'Influenza.HA.IgG4'\n",
       "\\item 'EBOV.Antigen.IgG4'\n",
       "\\item 'Omicron.RBD.IgG4'\n",
       "\\item 'Omicron.Spike.IgG4'\n",
       "\\item 'WT.Spike.IgM'\n",
       "\\item 'WT.RBD.IgM'\n",
       "\\item 'WT.S1.IgM'\n",
       "\\item 'WT.S2.IgM'\n",
       "\\item 'WT.NTD.IgM'\n",
       "\\item 'WT.N.IgM'\n",
       "\\item 'Alpha.RBD.IgM'\n",
       "\\item 'Alpha.Spike.IgM'\n",
       "\\item 'Beta.RBD.IgM'\n",
       "\\item 'Beta.Spike.IgM'\n",
       "\\item 'Gamma.RBD.IgM'\n",
       "\\item 'Gamma.Spike.IgM'\n",
       "\\item 'Delta.RBD.IgM'\n",
       "\\item 'Delta.Spike.IgM'\n",
       "\\item 'OC43.Spike.IgM'\n",
       "\\item 'HKU1.Spike.IgM'\n",
       "\\item 'HCMVgB.Antigen.IgM'\n",
       "\\item 'Influenza.HA.IgM'\n",
       "\\item 'EBOV.Antigen.IgM'\n",
       "\\item 'Omicron.RBD.IgM'\n",
       "\\item 'Omicron.Spike.IgM'\n",
       "\\item 'WT.Spike.R2a'\n",
       "\\item 'WT.RBD.R2a'\n",
       "\\item 'WT.S1.R2a'\n",
       "\\item 'WT.S2.R2a'\n",
       "\\item 'WT.NTD.R2a'\n",
       "\\item 'WT.N.R2a'\n",
       "\\item 'Alpha.RBD.R2a'\n",
       "\\item 'Alpha.Spike.R2a'\n",
       "\\item 'Beta.RBD.R2a'\n",
       "\\item 'Beta.Spike.R2a'\n",
       "\\item 'Gamma.RBD.R2a'\n",
       "\\item 'Gamma.Spike.R2a'\n",
       "\\item 'Delta.RBD.R2a'\n",
       "\\item 'Delta.Spike.R2a'\n",
       "\\item 'OC43.Spike.R2a'\n",
       "\\item 'HKU1.Spike.R2a'\n",
       "\\item 'HCMVgB.Antigen.R2a'\n",
       "\\item 'Influenza.HA.R2a'\n",
       "\\item 'EBOV.Antigen.R2a'\n",
       "\\item 'Omicron.RBD.R2a'\n",
       "\\item 'Omicron.Spike.R2a'\n",
       "\\item 'WT.Spike.R2b'\n",
       "\\item 'WT.RBD.R2b'\n",
       "\\item 'WT.S1.R2b'\n",
       "\\item 'WT.S2.R2b'\n",
       "\\item 'WT.NTD.R2b'\n",
       "\\item 'WT.N.R2b'\n",
       "\\item 'Alpha.RBD.R2b'\n",
       "\\item 'Alpha.Spike.R2b'\n",
       "\\item 'Beta.RBD.R2b'\n",
       "\\item 'Beta.Spike.R2b'\n",
       "\\item 'Gamma.RBD.R2b'\n",
       "\\item 'Gamma.Spike.R2b'\n",
       "\\item 'Delta.RBD.R2b'\n",
       "\\item 'Delta.Spike.R2b'\n",
       "\\item 'OC43.Spike.R2b'\n",
       "\\item 'HKU1.Spike.R2b'\n",
       "\\item 'HCMVgB.Antigen.R2b'\n",
       "\\item 'Influenza.HA.R2b'\n",
       "\\item 'EBOV.Antigen.R2b'\n",
       "\\item 'Omicron.RBD.R2b'\n",
       "\\item 'Omicron.Spike.R2b'\n",
       "\\item 'WT.Spike.R3av'\n",
       "\\item 'WT.RBD.R3av'\n",
       "\\item 'WT.S1.R3av'\n",
       "\\item 'WT.S2.R3av'\n",
       "\\item 'WT.NTD.R3av'\n",
       "\\item 'WT.N.R3av'\n",
       "\\item 'Alpha.RBD.R3av'\n",
       "\\item 'Alpha.Spike.R3av'\n",
       "\\item 'Beta.RBD.R3av'\n",
       "\\item 'Beta.Spike.R3av'\n",
       "\\item 'Gamma.RBD.R3av'\n",
       "\\item 'Gamma.Spike.R3av'\n",
       "\\item 'Delta.RBD.R3av'\n",
       "\\item 'Delta.Spike.R3av'\n",
       "\\item 'OC43.Spike.R3av'\n",
       "\\item 'HKU1.Spike.R3av'\n",
       "\\item 'HCMVgB.Antigen.R3av'\n",
       "\\item 'Influenza.HA.R3av'\n",
       "\\item 'EBOV.Antigen.R3av'\n",
       "\\item 'Omicron.RBD.R3av'\n",
       "\\item 'Omicron.Spike.R3av'\n",
       "\\item 'WT.Spike.R3b'\n",
       "\\item 'WT.RBD.R3b'\n",
       "\\item 'WT.S1.R3b'\n",
       "\\item 'WT.S2.R3b'\n",
       "\\item 'WT.NTD.R3b'\n",
       "\\item 'WT.N.R3b'\n",
       "\\item 'Alpha.RBD.R3b'\n",
       "\\item 'Alpha.Spike.R3b'\n",
       "\\item 'Beta.RBD.R3b'\n",
       "\\item 'Beta.Spike.R3b'\n",
       "\\item 'Gamma.RBD.R3b'\n",
       "\\item 'Gamma.Spike.R3b'\n",
       "\\item 'Delta.RBD.R3b'\n",
       "\\item 'Delta.Spike.R3b'\n",
       "\\item 'OC43.Spike.R3b'\n",
       "\\item 'HKU1.Spike.R3b'\n",
       "\\item 'HCMVgB.Antigen.R3b'\n",
       "\\item 'Influenza.HA.R3b'\n",
       "\\item 'EBOV.Antigen.R3b'\n",
       "\\item 'Omicron.RBD.R3b'\n",
       "\\item 'Omicron.Spike.R3b'\n",
       "\\item 'WT.Spike.NeutIC50'\n",
       "\\item 'WT.Spike.ADCPBL3'\n",
       "\\item 'Omicron.Spike.ADCPBL3'\n",
       "\\item 'WT.Spike.ADNP'\n",
       "\\item 'Omicron.Spike.ADNP'\n",
       "\\end{enumerate*}\n"
      ],
      "text/markdown": [
       "1. 'WT.Spike.C1q'\n",
       "2. 'WT.RBD.C1q'\n",
       "3. 'WT.S1.C1q'\n",
       "4. 'WT.S2.C1q'\n",
       "5. 'WT.NTD.C1q'\n",
       "6. 'WT.N.C1q'\n",
       "7. 'Alpha.RBD.C1q'\n",
       "8. 'Alpha.Spike.C1q'\n",
       "9. 'Beta.RBD.C1q'\n",
       "10. 'Beta.Spike.C1q'\n",
       "11. 'Gamma.RBD.C1q'\n",
       "12. 'Gamma.Spike.C1q'\n",
       "13. 'Delta.RBD.C1q'\n",
       "14. 'Delta.Spike.C1q'\n",
       "15. 'OC43.Spike.C1q'\n",
       "16. 'HKU1.Spike.C1q'\n",
       "17. 'HCMVgB.Antigen.C1q'\n",
       "18. 'Influenza.HA.C1q'\n",
       "19. 'EBOV.Antigen.C1q'\n",
       "20. 'Omicron.RBD.C1q'\n",
       "21. 'Omicron.Spike.C1q'\n",
       "22. 'WT.Spike.IgA1'\n",
       "23. 'WT.RBD.IgA1'\n",
       "24. 'WT.S1.IgA1'\n",
       "25. 'WT.S2.IgA1'\n",
       "26. 'WT.NTD.IgA1'\n",
       "27. 'WT.N.IgA1'\n",
       "28. 'Alpha.RBD.IgA1'\n",
       "29. 'Alpha.Spike.IgA1'\n",
       "30. 'Beta.RBD.IgA1'\n",
       "31. 'Beta.Spike.IgA1'\n",
       "32. 'Gamma.RBD.IgA1'\n",
       "33. 'Gamma.Spike.IgA1'\n",
       "34. 'Delta.RBD.IgA1'\n",
       "35. 'Delta.Spike.IgA1'\n",
       "36. 'OC43.Spike.IgA1'\n",
       "37. 'HKU1.Spike.IgA1'\n",
       "38. 'HCMVgB.Antigen.IgA1'\n",
       "39. 'Influenza.HA.IgA1'\n",
       "40. 'EBOV.Antigen.IgA1'\n",
       "41. 'Omicron.RBD.IgA1'\n",
       "42. 'Omicron.Spike.IgA1'\n",
       "43. 'WT.Spike.IgG1'\n",
       "44. 'WT.RBD.IgG1'\n",
       "45. 'WT.S1.IgG1'\n",
       "46. 'WT.S2.IgG1'\n",
       "47. 'WT.NTD.IgG1'\n",
       "48. 'WT.N.IgG1'\n",
       "49. 'Alpha.RBD.IgG1'\n",
       "50. 'Alpha.Spike.IgG1'\n",
       "51. 'Beta.RBD.IgG1'\n",
       "52. 'Beta.Spike.IgG1'\n",
       "53. 'Gamma.RBD.IgG1'\n",
       "54. 'Gamma.Spike.IgG1'\n",
       "55. 'Delta.RBD.IgG1'\n",
       "56. 'Delta.Spike.IgG1'\n",
       "57. 'OC43.Spike.IgG1'\n",
       "58. 'HKU1.Spike.IgG1'\n",
       "59. 'HCMVgB.Antigen.IgG1'\n",
       "60. 'Influenza.HA.IgG1'\n",
       "61. 'EBOV.Antigen.IgG1'\n",
       "62. 'Omicron.RBD.IgG1'\n",
       "63. 'Omicron.Spike.IgG1'\n",
       "64. 'WT.Spike.IgG2'\n",
       "65. 'WT.RBD.IgG2'\n",
       "66. 'WT.S1.IgG2'\n",
       "67. 'WT.S2.IgG2'\n",
       "68. 'WT.NTD.IgG2'\n",
       "69. 'WT.N.IgG2'\n",
       "70. 'Alpha.RBD.IgG2'\n",
       "71. 'Alpha.Spike.IgG2'\n",
       "72. 'Beta.RBD.IgG2'\n",
       "73. 'Beta.Spike.IgG2'\n",
       "74. 'Gamma.RBD.IgG2'\n",
       "75. 'Gamma.Spike.IgG2'\n",
       "76. 'Delta.RBD.IgG2'\n",
       "77. 'Delta.Spike.IgG2'\n",
       "78. 'OC43.Spike.IgG2'\n",
       "79. 'HKU1.Spike.IgG2'\n",
       "80. 'HCMVgB.Antigen.IgG2'\n",
       "81. 'Influenza.HA.IgG2'\n",
       "82. 'EBOV.Antigen.IgG2'\n",
       "83. 'Omicron.RBD.IgG2'\n",
       "84. 'Omicron.Spike.IgG2'\n",
       "85. 'WT.Spike.IgG3'\n",
       "86. 'WT.RBD.IgG3'\n",
       "87. 'WT.S1.IgG3'\n",
       "88. 'WT.S2.IgG3'\n",
       "89. 'WT.NTD.IgG3'\n",
       "90. 'WT.N.IgG3'\n",
       "91. 'Alpha.RBD.IgG3'\n",
       "92. 'Alpha.Spike.IgG3'\n",
       "93. 'Beta.RBD.IgG3'\n",
       "94. 'Beta.Spike.IgG3'\n",
       "95. 'Gamma.RBD.IgG3'\n",
       "96. 'Gamma.Spike.IgG3'\n",
       "97. 'Delta.RBD.IgG3'\n",
       "98. 'Delta.Spike.IgG3'\n",
       "99. 'OC43.Spike.IgG3'\n",
       "100. 'HKU1.Spike.IgG3'\n",
       "101. 'HCMVgB.Antigen.IgG3'\n",
       "102. 'Influenza.HA.IgG3'\n",
       "103. 'EBOV.Antigen.IgG3'\n",
       "104. 'Omicron.RBD.IgG3'\n",
       "105. 'Omicron.Spike.IgG3'\n",
       "106. 'WT.Spike.IgG4'\n",
       "107. 'WT.RBD.IgG4'\n",
       "108. 'WT.S1.IgG4'\n",
       "109. 'WT.S2.IgG4'\n",
       "110. 'WT.NTD.IgG4'\n",
       "111. 'WT.N.IgG4'\n",
       "112. 'Alpha.RBD.IgG4'\n",
       "113. 'Alpha.Spike.IgG4'\n",
       "114. 'Beta.RBD.IgG4'\n",
       "115. 'Beta.Spike.IgG4'\n",
       "116. 'Gamma.RBD.IgG4'\n",
       "117. 'Gamma.Spike.IgG4'\n",
       "118. 'Delta.RBD.IgG4'\n",
       "119. 'Delta.Spike.IgG4'\n",
       "120. 'OC43.Spike.IgG4'\n",
       "121. 'HKU1.Spike.IgG4'\n",
       "122. 'HCMVgB.Antigen.IgG4'\n",
       "123. 'Influenza.HA.IgG4'\n",
       "124. 'EBOV.Antigen.IgG4'\n",
       "125. 'Omicron.RBD.IgG4'\n",
       "126. 'Omicron.Spike.IgG4'\n",
       "127. 'WT.Spike.IgM'\n",
       "128. 'WT.RBD.IgM'\n",
       "129. 'WT.S1.IgM'\n",
       "130. 'WT.S2.IgM'\n",
       "131. 'WT.NTD.IgM'\n",
       "132. 'WT.N.IgM'\n",
       "133. 'Alpha.RBD.IgM'\n",
       "134. 'Alpha.Spike.IgM'\n",
       "135. 'Beta.RBD.IgM'\n",
       "136. 'Beta.Spike.IgM'\n",
       "137. 'Gamma.RBD.IgM'\n",
       "138. 'Gamma.Spike.IgM'\n",
       "139. 'Delta.RBD.IgM'\n",
       "140. 'Delta.Spike.IgM'\n",
       "141. 'OC43.Spike.IgM'\n",
       "142. 'HKU1.Spike.IgM'\n",
       "143. 'HCMVgB.Antigen.IgM'\n",
       "144. 'Influenza.HA.IgM'\n",
       "145. 'EBOV.Antigen.IgM'\n",
       "146. 'Omicron.RBD.IgM'\n",
       "147. 'Omicron.Spike.IgM'\n",
       "148. 'WT.Spike.R2a'\n",
       "149. 'WT.RBD.R2a'\n",
       "150. 'WT.S1.R2a'\n",
       "151. 'WT.S2.R2a'\n",
       "152. 'WT.NTD.R2a'\n",
       "153. 'WT.N.R2a'\n",
       "154. 'Alpha.RBD.R2a'\n",
       "155. 'Alpha.Spike.R2a'\n",
       "156. 'Beta.RBD.R2a'\n",
       "157. 'Beta.Spike.R2a'\n",
       "158. 'Gamma.RBD.R2a'\n",
       "159. 'Gamma.Spike.R2a'\n",
       "160. 'Delta.RBD.R2a'\n",
       "161. 'Delta.Spike.R2a'\n",
       "162. 'OC43.Spike.R2a'\n",
       "163. 'HKU1.Spike.R2a'\n",
       "164. 'HCMVgB.Antigen.R2a'\n",
       "165. 'Influenza.HA.R2a'\n",
       "166. 'EBOV.Antigen.R2a'\n",
       "167. 'Omicron.RBD.R2a'\n",
       "168. 'Omicron.Spike.R2a'\n",
       "169. 'WT.Spike.R2b'\n",
       "170. 'WT.RBD.R2b'\n",
       "171. 'WT.S1.R2b'\n",
       "172. 'WT.S2.R2b'\n",
       "173. 'WT.NTD.R2b'\n",
       "174. 'WT.N.R2b'\n",
       "175. 'Alpha.RBD.R2b'\n",
       "176. 'Alpha.Spike.R2b'\n",
       "177. 'Beta.RBD.R2b'\n",
       "178. 'Beta.Spike.R2b'\n",
       "179. 'Gamma.RBD.R2b'\n",
       "180. 'Gamma.Spike.R2b'\n",
       "181. 'Delta.RBD.R2b'\n",
       "182. 'Delta.Spike.R2b'\n",
       "183. 'OC43.Spike.R2b'\n",
       "184. 'HKU1.Spike.R2b'\n",
       "185. 'HCMVgB.Antigen.R2b'\n",
       "186. 'Influenza.HA.R2b'\n",
       "187. 'EBOV.Antigen.R2b'\n",
       "188. 'Omicron.RBD.R2b'\n",
       "189. 'Omicron.Spike.R2b'\n",
       "190. 'WT.Spike.R3av'\n",
       "191. 'WT.RBD.R3av'\n",
       "192. 'WT.S1.R3av'\n",
       "193. 'WT.S2.R3av'\n",
       "194. 'WT.NTD.R3av'\n",
       "195. 'WT.N.R3av'\n",
       "196. 'Alpha.RBD.R3av'\n",
       "197. 'Alpha.Spike.R3av'\n",
       "198. 'Beta.RBD.R3av'\n",
       "199. 'Beta.Spike.R3av'\n",
       "200. 'Gamma.RBD.R3av'\n",
       "201. 'Gamma.Spike.R3av'\n",
       "202. 'Delta.RBD.R3av'\n",
       "203. 'Delta.Spike.R3av'\n",
       "204. 'OC43.Spike.R3av'\n",
       "205. 'HKU1.Spike.R3av'\n",
       "206. 'HCMVgB.Antigen.R3av'\n",
       "207. 'Influenza.HA.R3av'\n",
       "208. 'EBOV.Antigen.R3av'\n",
       "209. 'Omicron.RBD.R3av'\n",
       "210. 'Omicron.Spike.R3av'\n",
       "211. 'WT.Spike.R3b'\n",
       "212. 'WT.RBD.R3b'\n",
       "213. 'WT.S1.R3b'\n",
       "214. 'WT.S2.R3b'\n",
       "215. 'WT.NTD.R3b'\n",
       "216. 'WT.N.R3b'\n",
       "217. 'Alpha.RBD.R3b'\n",
       "218. 'Alpha.Spike.R3b'\n",
       "219. 'Beta.RBD.R3b'\n",
       "220. 'Beta.Spike.R3b'\n",
       "221. 'Gamma.RBD.R3b'\n",
       "222. 'Gamma.Spike.R3b'\n",
       "223. 'Delta.RBD.R3b'\n",
       "224. 'Delta.Spike.R3b'\n",
       "225. 'OC43.Spike.R3b'\n",
       "226. 'HKU1.Spike.R3b'\n",
       "227. 'HCMVgB.Antigen.R3b'\n",
       "228. 'Influenza.HA.R3b'\n",
       "229. 'EBOV.Antigen.R3b'\n",
       "230. 'Omicron.RBD.R3b'\n",
       "231. 'Omicron.Spike.R3b'\n",
       "232. 'WT.Spike.NeutIC50'\n",
       "233. 'WT.Spike.ADCPBL3'\n",
       "234. 'Omicron.Spike.ADCPBL3'\n",
       "235. 'WT.Spike.ADNP'\n",
       "236. 'Omicron.Spike.ADNP'\n",
       "\n",
       "\n"
      ],
      "text/plain": [
       "  [1] \"WT.Spike.C1q\"          \"WT.RBD.C1q\"            \"WT.S1.C1q\"            \n",
       "  [4] \"WT.S2.C1q\"             \"WT.NTD.C1q\"            \"WT.N.C1q\"             \n",
       "  [7] \"Alpha.RBD.C1q\"         \"Alpha.Spike.C1q\"       \"Beta.RBD.C1q\"         \n",
       " [10] \"Beta.Spike.C1q\"        \"Gamma.RBD.C1q\"         \"Gamma.Spike.C1q\"      \n",
       " [13] \"Delta.RBD.C1q\"         \"Delta.Spike.C1q\"       \"OC43.Spike.C1q\"       \n",
       " [16] \"HKU1.Spike.C1q\"        \"HCMVgB.Antigen.C1q\"    \"Influenza.HA.C1q\"     \n",
       " [19] \"EBOV.Antigen.C1q\"      \"Omicron.RBD.C1q\"       \"Omicron.Spike.C1q\"    \n",
       " [22] \"WT.Spike.IgA1\"         \"WT.RBD.IgA1\"           \"WT.S1.IgA1\"           \n",
       " [25] \"WT.S2.IgA1\"            \"WT.NTD.IgA1\"           \"WT.N.IgA1\"            \n",
       " [28] \"Alpha.RBD.IgA1\"        \"Alpha.Spike.IgA1\"      \"Beta.RBD.IgA1\"        \n",
       " [31] \"Beta.Spike.IgA1\"       \"Gamma.RBD.IgA1\"        \"Gamma.Spike.IgA1\"     \n",
       " [34] \"Delta.RBD.IgA1\"        \"Delta.Spike.IgA1\"      \"OC43.Spike.IgA1\"      \n",
       " [37] \"HKU1.Spike.IgA1\"       \"HCMVgB.Antigen.IgA1\"   \"Influenza.HA.IgA1\"    \n",
       " [40] \"EBOV.Antigen.IgA1\"     \"Omicron.RBD.IgA1\"      \"Omicron.Spike.IgA1\"   \n",
       " [43] \"WT.Spike.IgG1\"         \"WT.RBD.IgG1\"           \"WT.S1.IgG1\"           \n",
       " [46] \"WT.S2.IgG1\"            \"WT.NTD.IgG1\"           \"WT.N.IgG1\"            \n",
       " [49] \"Alpha.RBD.IgG1\"        \"Alpha.Spike.IgG1\"      \"Beta.RBD.IgG1\"        \n",
       " [52] \"Beta.Spike.IgG1\"       \"Gamma.RBD.IgG1\"        \"Gamma.Spike.IgG1\"     \n",
       " [55] \"Delta.RBD.IgG1\"        \"Delta.Spike.IgG1\"      \"OC43.Spike.IgG1\"      \n",
       " [58] \"HKU1.Spike.IgG1\"       \"HCMVgB.Antigen.IgG1\"   \"Influenza.HA.IgG1\"    \n",
       " [61] \"EBOV.Antigen.IgG1\"     \"Omicron.RBD.IgG1\"      \"Omicron.Spike.IgG1\"   \n",
       " [64] \"WT.Spike.IgG2\"         \"WT.RBD.IgG2\"           \"WT.S1.IgG2\"           \n",
       " [67] \"WT.S2.IgG2\"            \"WT.NTD.IgG2\"           \"WT.N.IgG2\"            \n",
       " [70] \"Alpha.RBD.IgG2\"        \"Alpha.Spike.IgG2\"      \"Beta.RBD.IgG2\"        \n",
       " [73] \"Beta.Spike.IgG2\"       \"Gamma.RBD.IgG2\"        \"Gamma.Spike.IgG2\"     \n",
       " [76] \"Delta.RBD.IgG2\"        \"Delta.Spike.IgG2\"      \"OC43.Spike.IgG2\"      \n",
       " [79] \"HKU1.Spike.IgG2\"       \"HCMVgB.Antigen.IgG2\"   \"Influenza.HA.IgG2\"    \n",
       " [82] \"EBOV.Antigen.IgG2\"     \"Omicron.RBD.IgG2\"      \"Omicron.Spike.IgG2\"   \n",
       " [85] \"WT.Spike.IgG3\"         \"WT.RBD.IgG3\"           \"WT.S1.IgG3\"           \n",
       " [88] \"WT.S2.IgG3\"            \"WT.NTD.IgG3\"           \"WT.N.IgG3\"            \n",
       " [91] \"Alpha.RBD.IgG3\"        \"Alpha.Spike.IgG3\"      \"Beta.RBD.IgG3\"        \n",
       " [94] \"Beta.Spike.IgG3\"       \"Gamma.RBD.IgG3\"        \"Gamma.Spike.IgG3\"     \n",
       " [97] \"Delta.RBD.IgG3\"        \"Delta.Spike.IgG3\"      \"OC43.Spike.IgG3\"      \n",
       "[100] \"HKU1.Spike.IgG3\"       \"HCMVgB.Antigen.IgG3\"   \"Influenza.HA.IgG3\"    \n",
       "[103] \"EBOV.Antigen.IgG3\"     \"Omicron.RBD.IgG3\"      \"Omicron.Spike.IgG3\"   \n",
       "[106] \"WT.Spike.IgG4\"         \"WT.RBD.IgG4\"           \"WT.S1.IgG4\"           \n",
       "[109] \"WT.S2.IgG4\"            \"WT.NTD.IgG4\"           \"WT.N.IgG4\"            \n",
       "[112] \"Alpha.RBD.IgG4\"        \"Alpha.Spike.IgG4\"      \"Beta.RBD.IgG4\"        \n",
       "[115] \"Beta.Spike.IgG4\"       \"Gamma.RBD.IgG4\"        \"Gamma.Spike.IgG4\"     \n",
       "[118] \"Delta.RBD.IgG4\"        \"Delta.Spike.IgG4\"      \"OC43.Spike.IgG4\"      \n",
       "[121] \"HKU1.Spike.IgG4\"       \"HCMVgB.Antigen.IgG4\"   \"Influenza.HA.IgG4\"    \n",
       "[124] \"EBOV.Antigen.IgG4\"     \"Omicron.RBD.IgG4\"      \"Omicron.Spike.IgG4\"   \n",
       "[127] \"WT.Spike.IgM\"          \"WT.RBD.IgM\"            \"WT.S1.IgM\"            \n",
       "[130] \"WT.S2.IgM\"             \"WT.NTD.IgM\"            \"WT.N.IgM\"             \n",
       "[133] \"Alpha.RBD.IgM\"         \"Alpha.Spike.IgM\"       \"Beta.RBD.IgM\"         \n",
       "[136] \"Beta.Spike.IgM\"        \"Gamma.RBD.IgM\"         \"Gamma.Spike.IgM\"      \n",
       "[139] \"Delta.RBD.IgM\"         \"Delta.Spike.IgM\"       \"OC43.Spike.IgM\"       \n",
       "[142] \"HKU1.Spike.IgM\"        \"HCMVgB.Antigen.IgM\"    \"Influenza.HA.IgM\"     \n",
       "[145] \"EBOV.Antigen.IgM\"      \"Omicron.RBD.IgM\"       \"Omicron.Spike.IgM\"    \n",
       "[148] \"WT.Spike.R2a\"          \"WT.RBD.R2a\"            \"WT.S1.R2a\"            \n",
       "[151] \"WT.S2.R2a\"             \"WT.NTD.R2a\"            \"WT.N.R2a\"             \n",
       "[154] \"Alpha.RBD.R2a\"         \"Alpha.Spike.R2a\"       \"Beta.RBD.R2a\"         \n",
       "[157] \"Beta.Spike.R2a\"        \"Gamma.RBD.R2a\"         \"Gamma.Spike.R2a\"      \n",
       "[160] \"Delta.RBD.R2a\"         \"Delta.Spike.R2a\"       \"OC43.Spike.R2a\"       \n",
       "[163] \"HKU1.Spike.R2a\"        \"HCMVgB.Antigen.R2a\"    \"Influenza.HA.R2a\"     \n",
       "[166] \"EBOV.Antigen.R2a\"      \"Omicron.RBD.R2a\"       \"Omicron.Spike.R2a\"    \n",
       "[169] \"WT.Spike.R2b\"          \"WT.RBD.R2b\"            \"WT.S1.R2b\"            \n",
       "[172] \"WT.S2.R2b\"             \"WT.NTD.R2b\"            \"WT.N.R2b\"             \n",
       "[175] \"Alpha.RBD.R2b\"         \"Alpha.Spike.R2b\"       \"Beta.RBD.R2b\"         \n",
       "[178] \"Beta.Spike.R2b\"        \"Gamma.RBD.R2b\"         \"Gamma.Spike.R2b\"      \n",
       "[181] \"Delta.RBD.R2b\"         \"Delta.Spike.R2b\"       \"OC43.Spike.R2b\"       \n",
       "[184] \"HKU1.Spike.R2b\"        \"HCMVgB.Antigen.R2b\"    \"Influenza.HA.R2b\"     \n",
       "[187] \"EBOV.Antigen.R2b\"      \"Omicron.RBD.R2b\"       \"Omicron.Spike.R2b\"    \n",
       "[190] \"WT.Spike.R3av\"         \"WT.RBD.R3av\"           \"WT.S1.R3av\"           \n",
       "[193] \"WT.S2.R3av\"            \"WT.NTD.R3av\"           \"WT.N.R3av\"            \n",
       "[196] \"Alpha.RBD.R3av\"        \"Alpha.Spike.R3av\"      \"Beta.RBD.R3av\"        \n",
       "[199] \"Beta.Spike.R3av\"       \"Gamma.RBD.R3av\"        \"Gamma.Spike.R3av\"     \n",
       "[202] \"Delta.RBD.R3av\"        \"Delta.Spike.R3av\"      \"OC43.Spike.R3av\"      \n",
       "[205] \"HKU1.Spike.R3av\"       \"HCMVgB.Antigen.R3av\"   \"Influenza.HA.R3av\"    \n",
       "[208] \"EBOV.Antigen.R3av\"     \"Omicron.RBD.R3av\"      \"Omicron.Spike.R3av\"   \n",
       "[211] \"WT.Spike.R3b\"          \"WT.RBD.R3b\"            \"WT.S1.R3b\"            \n",
       "[214] \"WT.S2.R3b\"             \"WT.NTD.R3b\"            \"WT.N.R3b\"             \n",
       "[217] \"Alpha.RBD.R3b\"         \"Alpha.Spike.R3b\"       \"Beta.RBD.R3b\"         \n",
       "[220] \"Beta.Spike.R3b\"        \"Gamma.RBD.R3b\"         \"Gamma.Spike.R3b\"      \n",
       "[223] \"Delta.RBD.R3b\"         \"Delta.Spike.R3b\"       \"OC43.Spike.R3b\"       \n",
       "[226] \"HKU1.Spike.R3b\"        \"HCMVgB.Antigen.R3b\"    \"Influenza.HA.R3b\"     \n",
       "[229] \"EBOV.Antigen.R3b\"      \"Omicron.RBD.R3b\"       \"Omicron.Spike.R3b\"    \n",
       "[232] \"WT.Spike.NeutIC50\"     \"WT.Spike.ADCPBL3\"      \"Omicron.Spike.ADCPBL3\"\n",
       "[235] \"WT.Spike.ADNP\"         \"Omicron.Spike.ADNP\"   "
      ]
     },
     "metadata": {},
     "output_type": "display_data"
    }
   ],
   "source": [
    "annot_vars = c('Tube.Label','Lab.ID','ID','PlateNum','SampleNum','PlateID','PlateCoord','BOX','Vaccine','Time.sample','DPFD','DPSD','DPTD','order','vaccine','group')\n",
    "annot_vars\n",
    "data_vars = colnames(data)[ ! colnames(data) %in% annot_vars ]\n",
    "    # data_vars = grep('\\\\.',colnames(data_norm)[15:ncol(data_norm)],value=T)\n",
    "data_vars\n"
   ]
  },
  {
   "cell_type": "code",
   "execution_count": null,
   "id": "b64b87a2-1421-4eee-a501-1b7d32438374",
   "metadata": {},
   "outputs": [],
   "source": []
  },
  {
   "cell_type": "code",
   "execution_count": 38,
   "id": "163fd7a9-c0f1-4c06-a9bb-ea98719f4439",
   "metadata": {},
   "outputs": [],
   "source": [
    "data = data[,c(annot_vars,data_vars)]\n",
    "data_norm = data_norm[,c(annot_vars,data_vars)]"
   ]
  },
  {
   "cell_type": "markdown",
   "id": "c47f5ed7-e6c7-409d-8916-9e691398a9e2",
   "metadata": {},
   "source": [
    "# melt data"
   ]
  },
  {
   "cell_type": "code",
   "execution_count": 39,
   "id": "081dc345-c7e6-4fa9-a832-042e329ab48e",
   "metadata": {},
   "outputs": [
    {
     "data": {
      "text/html": [
       "<table class=\"dataframe\">\n",
       "<caption>A data.frame: 6 × 21</caption>\n",
       "<thead>\n",
       "\t<tr><th></th><th scope=col>PlateNum</th><th scope=col>SampleNum</th><th scope=col>PlateID</th><th scope=col>PlateCoord</th><th scope=col>ID</th><th scope=col>vaccine</th><th scope=col>group</th><th scope=col>BOX</th><th scope=col>Lab.ID</th><th scope=col>Vaccine</th><th scope=col>...</th><th scope=col>Time.sample</th><th scope=col>DPFD</th><th scope=col>DPSD</th><th scope=col>DPTD</th><th scope=col>order</th><th scope=col>variable</th><th scope=col>value</th><th scope=col>antigen</th><th scope=col>virus</th><th scope=col>affinity</th></tr>\n",
       "\t<tr><th></th><th scope=col>&lt;dbl&gt;</th><th scope=col>&lt;dbl&gt;</th><th scope=col>&lt;dbl&gt;</th><th scope=col>&lt;chr&gt;</th><th scope=col>&lt;chr&gt;</th><th scope=col>&lt;chr&gt;</th><th scope=col>&lt;chr&gt;</th><th scope=col>&lt;dbl&gt;</th><th scope=col>&lt;chr&gt;</th><th scope=col>&lt;chr&gt;</th><th scope=col>...</th><th scope=col>&lt;chr&gt;</th><th scope=col>&lt;dbl&gt;</th><th scope=col>&lt;dbl&gt;</th><th scope=col>&lt;dbl&gt;</th><th scope=col>&lt;dbl&gt;</th><th scope=col>&lt;fct&gt;</th><th scope=col>&lt;dbl&gt;</th><th scope=col>&lt;chr&gt;</th><th scope=col>&lt;chr&gt;</th><th scope=col>&lt;chr&gt;</th></tr>\n",
       "</thead>\n",
       "<tbody>\n",
       "\t<tr><th scope=row>1</th><td>60</td><td>228</td><td>3</td><td>E12</td><td>Hosp-1      </td><td>Hosp     </td><td>p</td><td>3</td><td>p4 2020 G4 </td><td>NA          </td><td>...</td><td>D21</td><td> 18</td><td>NaN</td><td>NaN</td><td>455.5</td><td>WT.Spike.C1q</td><td>2671.75</td><td>Spike</td><td>WT</td><td>C1q</td></tr>\n",
       "\t<tr><th scope=row>2</th><td> 1</td><td>  1</td><td>1</td><td>A1 </td><td>Naive       </td><td>Naive    </td><td>C</td><td>1</td><td>C64 2020 G4</td><td>Naive       </td><td>...</td><td>PRE</td><td>NaN</td><td>NaN</td><td>NaN</td><td>  1.5</td><td>WT.Spike.C1q</td><td>2515.25</td><td>Spike</td><td>WT</td><td>C1q</td></tr>\n",
       "\t<tr><th scope=row>3</th><td> 2</td><td>  2</td><td>1</td><td>A2 </td><td>CoronaVac   </td><td>CoronaVac</td><td>C</td><td>1</td><td>C64 2020 G4</td><td>CoronaVac   </td><td>...</td><td>D28</td><td> 29</td><td>  1</td><td>NaN</td><td>  3.5</td><td>WT.Spike.C1q</td><td>2602.00</td><td>Spike</td><td>WT</td><td>C1q</td></tr>\n",
       "\t<tr><th scope=row>4</th><td> 3</td><td>  3</td><td>1</td><td>A3 </td><td>CoronaVac2  </td><td>CoronaVac</td><td>C</td><td>1</td><td>C64 2020 G4</td><td>CoronaVac-2 </td><td>...</td><td>D42</td><td> 41</td><td> 13</td><td>NaN</td><td>  5.5</td><td>WT.Spike.C1q</td><td>2579.75</td><td>Spike</td><td>WT</td><td>C1q</td></tr>\n",
       "\t<tr><th scope=row>5</th><td> 4</td><td>  4</td><td>1</td><td>A4 </td><td>CoronaVac2-3</td><td>CoronaVac</td><td>C</td><td>1</td><td>C64 2020 G4</td><td>CoronaVac2-2</td><td>...</td><td>M3 </td><td>104</td><td> 76</td><td>NaN</td><td>  7.5</td><td>WT.Spike.C1q</td><td>2626.25</td><td>Spike</td><td>WT</td><td>C1q</td></tr>\n",
       "\t<tr><th scope=row>6</th><td> 5</td><td>  5</td><td>1</td><td>A5 </td><td>CoronaVac2-5</td><td>CoronaVac</td><td>C</td><td>1</td><td>C64 2020 G4</td><td>CoronaVac2-3</td><td>...</td><td>M6 </td><td>153</td><td>125</td><td>NaN</td><td>  9.5</td><td>WT.Spike.C1q</td><td>2791.00</td><td>Spike</td><td>WT</td><td>C1q</td></tr>\n",
       "</tbody>\n",
       "</table>\n"
      ],
      "text/latex": [
       "A data.frame: 6 × 21\n",
       "\\begin{tabular}{r|lllllllllllllllllllll}\n",
       "  & PlateNum & SampleNum & PlateID & PlateCoord & ID & vaccine & group & BOX & Lab.ID & Vaccine & ... & Time.sample & DPFD & DPSD & DPTD & order & variable & value & antigen & virus & affinity\\\\\n",
       "  & <dbl> & <dbl> & <dbl> & <chr> & <chr> & <chr> & <chr> & <dbl> & <chr> & <chr> & ... & <chr> & <dbl> & <dbl> & <dbl> & <dbl> & <fct> & <dbl> & <chr> & <chr> & <chr>\\\\\n",
       "\\hline\n",
       "\t1 & 60 & 228 & 3 & E12 & Hosp-1       & Hosp      & p & 3 & p4 2020 G4  & NA           & ... & D21 &  18 & NaN & NaN & 455.5 & WT.Spike.C1q & 2671.75 & Spike & WT & C1q\\\\\n",
       "\t2 &  1 &   1 & 1 & A1  & Naive        & Naive     & C & 1 & C64 2020 G4 & Naive        & ... & PRE & NaN & NaN & NaN &   1.5 & WT.Spike.C1q & 2515.25 & Spike & WT & C1q\\\\\n",
       "\t3 &  2 &   2 & 1 & A2  & CoronaVac    & CoronaVac & C & 1 & C64 2020 G4 & CoronaVac    & ... & D28 &  29 &   1 & NaN &   3.5 & WT.Spike.C1q & 2602.00 & Spike & WT & C1q\\\\\n",
       "\t4 &  3 &   3 & 1 & A3  & CoronaVac2   & CoronaVac & C & 1 & C64 2020 G4 & CoronaVac-2  & ... & D42 &  41 &  13 & NaN &   5.5 & WT.Spike.C1q & 2579.75 & Spike & WT & C1q\\\\\n",
       "\t5 &  4 &   4 & 1 & A4  & CoronaVac2-3 & CoronaVac & C & 1 & C64 2020 G4 & CoronaVac2-2 & ... & M3  & 104 &  76 & NaN &   7.5 & WT.Spike.C1q & 2626.25 & Spike & WT & C1q\\\\\n",
       "\t6 &  5 &   5 & 1 & A5  & CoronaVac2-5 & CoronaVac & C & 1 & C64 2020 G4 & CoronaVac2-3 & ... & M6  & 153 & 125 & NaN &   9.5 & WT.Spike.C1q & 2791.00 & Spike & WT & C1q\\\\\n",
       "\\end{tabular}\n"
      ],
      "text/markdown": [
       "\n",
       "A data.frame: 6 × 21\n",
       "\n",
       "| <!--/--> | PlateNum &lt;dbl&gt; | SampleNum &lt;dbl&gt; | PlateID &lt;dbl&gt; | PlateCoord &lt;chr&gt; | ID &lt;chr&gt; | vaccine &lt;chr&gt; | group &lt;chr&gt; | BOX &lt;dbl&gt; | Lab.ID &lt;chr&gt; | Vaccine &lt;chr&gt; | ... ... | Time.sample &lt;chr&gt; | DPFD &lt;dbl&gt; | DPSD &lt;dbl&gt; | DPTD &lt;dbl&gt; | order &lt;dbl&gt; | variable &lt;fct&gt; | value &lt;dbl&gt; | antigen &lt;chr&gt; | virus &lt;chr&gt; | affinity &lt;chr&gt; |\n",
       "|---|---|---|---|---|---|---|---|---|---|---|---|---|---|---|---|---|---|---|---|---|---|\n",
       "| 1 | 60 | 228 | 3 | E12 | Hosp-1       | Hosp      | p | 3 | p4 2020 G4  | NA           | ... | D21 |  18 | NaN | NaN | 455.5 | WT.Spike.C1q | 2671.75 | Spike | WT | C1q |\n",
       "| 2 |  1 |   1 | 1 | A1  | Naive        | Naive     | C | 1 | C64 2020 G4 | Naive        | ... | PRE | NaN | NaN | NaN |   1.5 | WT.Spike.C1q | 2515.25 | Spike | WT | C1q |\n",
       "| 3 |  2 |   2 | 1 | A2  | CoronaVac    | CoronaVac | C | 1 | C64 2020 G4 | CoronaVac    | ... | D28 |  29 |   1 | NaN |   3.5 | WT.Spike.C1q | 2602.00 | Spike | WT | C1q |\n",
       "| 4 |  3 |   3 | 1 | A3  | CoronaVac2   | CoronaVac | C | 1 | C64 2020 G4 | CoronaVac-2  | ... | D42 |  41 |  13 | NaN |   5.5 | WT.Spike.C1q | 2579.75 | Spike | WT | C1q |\n",
       "| 5 |  4 |   4 | 1 | A4  | CoronaVac2-3 | CoronaVac | C | 1 | C64 2020 G4 | CoronaVac2-2 | ... | M3  | 104 |  76 | NaN |   7.5 | WT.Spike.C1q | 2626.25 | Spike | WT | C1q |\n",
       "| 6 |  5 |   5 | 1 | A5  | CoronaVac2-5 | CoronaVac | C | 1 | C64 2020 G4 | CoronaVac2-3 | ... | M6  | 153 | 125 | NaN |   9.5 | WT.Spike.C1q | 2791.00 | Spike | WT | C1q |\n",
       "\n"
      ],
      "text/plain": [
       "  PlateNum SampleNum PlateID PlateCoord ID           vaccine   group BOX\n",
       "1 60       228       3       E12        Hosp-1       Hosp      p     3  \n",
       "2  1         1       1       A1         Naive        Naive     C     1  \n",
       "3  2         2       1       A2         CoronaVac    CoronaVac C     1  \n",
       "4  3         3       1       A3         CoronaVac2   CoronaVac C     1  \n",
       "5  4         4       1       A4         CoronaVac2-3 CoronaVac C     1  \n",
       "6  5         5       1       A5         CoronaVac2-5 CoronaVac C     1  \n",
       "  Lab.ID      Vaccine      ... Time.sample DPFD DPSD DPTD order variable    \n",
       "1 p4 2020 G4  NA           ... D21          18  NaN  NaN  455.5 WT.Spike.C1q\n",
       "2 C64 2020 G4 Naive        ... PRE         NaN  NaN  NaN    1.5 WT.Spike.C1q\n",
       "3 C64 2020 G4 CoronaVac    ... D28          29    1  NaN    3.5 WT.Spike.C1q\n",
       "4 C64 2020 G4 CoronaVac-2  ... D42          41   13  NaN    5.5 WT.Spike.C1q\n",
       "5 C64 2020 G4 CoronaVac2-2 ... M3          104   76  NaN    7.5 WT.Spike.C1q\n",
       "6 C64 2020 G4 CoronaVac2-3 ... M6          153  125  NaN    9.5 WT.Spike.C1q\n",
       "  value   antigen virus affinity\n",
       "1 2671.75 Spike   WT    C1q     \n",
       "2 2515.25 Spike   WT    C1q     \n",
       "3 2602.00 Spike   WT    C1q     \n",
       "4 2579.75 Spike   WT    C1q     \n",
       "5 2626.25 Spike   WT    C1q     \n",
       "6 2791.00 Spike   WT    C1q     "
      ]
     },
     "metadata": {},
     "output_type": "display_data"
    },
    {
     "data": {
      "text/html": [
       "<table class=\"dataframe\">\n",
       "<caption>A data.frame: 6 × 21</caption>\n",
       "<thead>\n",
       "\t<tr><th></th><th scope=col>PlateNum</th><th scope=col>SampleNum</th><th scope=col>PlateID</th><th scope=col>PlateCoord</th><th scope=col>ID</th><th scope=col>vaccine</th><th scope=col>group</th><th scope=col>BOX</th><th scope=col>Lab.ID</th><th scope=col>Vaccine</th><th scope=col>...</th><th scope=col>Time.sample</th><th scope=col>DPFD</th><th scope=col>DPSD</th><th scope=col>DPTD</th><th scope=col>order</th><th scope=col>variable</th><th scope=col>value</th><th scope=col>antigen</th><th scope=col>virus</th><th scope=col>affinity</th></tr>\n",
       "\t<tr><th></th><th scope=col>&lt;dbl&gt;</th><th scope=col>&lt;dbl&gt;</th><th scope=col>&lt;dbl&gt;</th><th scope=col>&lt;chr&gt;</th><th scope=col>&lt;chr&gt;</th><th scope=col>&lt;chr&gt;</th><th scope=col>&lt;chr&gt;</th><th scope=col>&lt;dbl&gt;</th><th scope=col>&lt;chr&gt;</th><th scope=col>&lt;chr&gt;</th><th scope=col>...</th><th scope=col>&lt;chr&gt;</th><th scope=col>&lt;dbl&gt;</th><th scope=col>&lt;dbl&gt;</th><th scope=col>&lt;dbl&gt;</th><th scope=col>&lt;dbl&gt;</th><th scope=col>&lt;fct&gt;</th><th scope=col>&lt;dbl&gt;</th><th scope=col>&lt;chr&gt;</th><th scope=col>&lt;chr&gt;</th><th scope=col>&lt;chr&gt;</th></tr>\n",
       "</thead>\n",
       "<tbody>\n",
       "\t<tr><th scope=row>1</th><td>60</td><td>228</td><td>3</td><td>E12</td><td>Hosp-1      </td><td>Hosp     </td><td>p</td><td>3</td><td>p4 2020 G4 </td><td>NA          </td><td>...</td><td>D21</td><td> 18</td><td>NaN</td><td>NaN</td><td>455.5</td><td>WT.Spike.C1q</td><td>1.115553</td><td>Spike</td><td>WT</td><td>C1q</td></tr>\n",
       "\t<tr><th scope=row>2</th><td> 1</td><td>  1</td><td>1</td><td>A1 </td><td>Naive       </td><td>Naive    </td><td>C</td><td>1</td><td>C64 2020 G4</td><td>Naive       </td><td>...</td><td>PRE</td><td>NaN</td><td>NaN</td><td>NaN</td><td>  1.5</td><td>WT.Spike.C1q</td><td>1.050209</td><td>Spike</td><td>WT</td><td>C1q</td></tr>\n",
       "\t<tr><th scope=row>3</th><td> 2</td><td>  2</td><td>1</td><td>A2 </td><td>CoronaVac   </td><td>CoronaVac</td><td>C</td><td>1</td><td>C64 2020 G4</td><td>CoronaVac   </td><td>...</td><td>D28</td><td> 29</td><td>  1</td><td>NaN</td><td>  3.5</td><td>WT.Spike.C1q</td><td>1.086430</td><td>Spike</td><td>WT</td><td>C1q</td></tr>\n",
       "\t<tr><th scope=row>4</th><td> 3</td><td>  3</td><td>1</td><td>A3 </td><td>CoronaVac2  </td><td>CoronaVac</td><td>C</td><td>1</td><td>C64 2020 G4</td><td>CoronaVac-2 </td><td>...</td><td>D42</td><td> 41</td><td> 13</td><td>NaN</td><td>  5.5</td><td>WT.Spike.C1q</td><td>1.077140</td><td>Spike</td><td>WT</td><td>C1q</td></tr>\n",
       "\t<tr><th scope=row>5</th><td> 4</td><td>  4</td><td>1</td><td>A4 </td><td>CoronaVac2-3</td><td>CoronaVac</td><td>C</td><td>1</td><td>C64 2020 G4</td><td>CoronaVac2-2</td><td>...</td><td>M3 </td><td>104</td><td> 76</td><td>NaN</td><td>  7.5</td><td>WT.Spike.C1q</td><td>1.096555</td><td>Spike</td><td>WT</td><td>C1q</td></tr>\n",
       "\t<tr><th scope=row>6</th><td> 5</td><td>  5</td><td>1</td><td>A5 </td><td>CoronaVac2-5</td><td>CoronaVac</td><td>C</td><td>1</td><td>C64 2020 G4</td><td>CoronaVac2-3</td><td>...</td><td>M6 </td><td>153</td><td>125</td><td>NaN</td><td>  9.5</td><td>WT.Spike.C1q</td><td>1.165344</td><td>Spike</td><td>WT</td><td>C1q</td></tr>\n",
       "</tbody>\n",
       "</table>\n"
      ],
      "text/latex": [
       "A data.frame: 6 × 21\n",
       "\\begin{tabular}{r|lllllllllllllllllllll}\n",
       "  & PlateNum & SampleNum & PlateID & PlateCoord & ID & vaccine & group & BOX & Lab.ID & Vaccine & ... & Time.sample & DPFD & DPSD & DPTD & order & variable & value & antigen & virus & affinity\\\\\n",
       "  & <dbl> & <dbl> & <dbl> & <chr> & <chr> & <chr> & <chr> & <dbl> & <chr> & <chr> & ... & <chr> & <dbl> & <dbl> & <dbl> & <dbl> & <fct> & <dbl> & <chr> & <chr> & <chr>\\\\\n",
       "\\hline\n",
       "\t1 & 60 & 228 & 3 & E12 & Hosp-1       & Hosp      & p & 3 & p4 2020 G4  & NA           & ... & D21 &  18 & NaN & NaN & 455.5 & WT.Spike.C1q & 1.115553 & Spike & WT & C1q\\\\\n",
       "\t2 &  1 &   1 & 1 & A1  & Naive        & Naive     & C & 1 & C64 2020 G4 & Naive        & ... & PRE & NaN & NaN & NaN &   1.5 & WT.Spike.C1q & 1.050209 & Spike & WT & C1q\\\\\n",
       "\t3 &  2 &   2 & 1 & A2  & CoronaVac    & CoronaVac & C & 1 & C64 2020 G4 & CoronaVac    & ... & D28 &  29 &   1 & NaN &   3.5 & WT.Spike.C1q & 1.086430 & Spike & WT & C1q\\\\\n",
       "\t4 &  3 &   3 & 1 & A3  & CoronaVac2   & CoronaVac & C & 1 & C64 2020 G4 & CoronaVac-2  & ... & D42 &  41 &  13 & NaN &   5.5 & WT.Spike.C1q & 1.077140 & Spike & WT & C1q\\\\\n",
       "\t5 &  4 &   4 & 1 & A4  & CoronaVac2-3 & CoronaVac & C & 1 & C64 2020 G4 & CoronaVac2-2 & ... & M3  & 104 &  76 & NaN &   7.5 & WT.Spike.C1q & 1.096555 & Spike & WT & C1q\\\\\n",
       "\t6 &  5 &   5 & 1 & A5  & CoronaVac2-5 & CoronaVac & C & 1 & C64 2020 G4 & CoronaVac2-3 & ... & M6  & 153 & 125 & NaN &   9.5 & WT.Spike.C1q & 1.165344 & Spike & WT & C1q\\\\\n",
       "\\end{tabular}\n"
      ],
      "text/markdown": [
       "\n",
       "A data.frame: 6 × 21\n",
       "\n",
       "| <!--/--> | PlateNum &lt;dbl&gt; | SampleNum &lt;dbl&gt; | PlateID &lt;dbl&gt; | PlateCoord &lt;chr&gt; | ID &lt;chr&gt; | vaccine &lt;chr&gt; | group &lt;chr&gt; | BOX &lt;dbl&gt; | Lab.ID &lt;chr&gt; | Vaccine &lt;chr&gt; | ... ... | Time.sample &lt;chr&gt; | DPFD &lt;dbl&gt; | DPSD &lt;dbl&gt; | DPTD &lt;dbl&gt; | order &lt;dbl&gt; | variable &lt;fct&gt; | value &lt;dbl&gt; | antigen &lt;chr&gt; | virus &lt;chr&gt; | affinity &lt;chr&gt; |\n",
       "|---|---|---|---|---|---|---|---|---|---|---|---|---|---|---|---|---|---|---|---|---|---|\n",
       "| 1 | 60 | 228 | 3 | E12 | Hosp-1       | Hosp      | p | 3 | p4 2020 G4  | NA           | ... | D21 |  18 | NaN | NaN | 455.5 | WT.Spike.C1q | 1.115553 | Spike | WT | C1q |\n",
       "| 2 |  1 |   1 | 1 | A1  | Naive        | Naive     | C | 1 | C64 2020 G4 | Naive        | ... | PRE | NaN | NaN | NaN |   1.5 | WT.Spike.C1q | 1.050209 | Spike | WT | C1q |\n",
       "| 3 |  2 |   2 | 1 | A2  | CoronaVac    | CoronaVac | C | 1 | C64 2020 G4 | CoronaVac    | ... | D28 |  29 |   1 | NaN |   3.5 | WT.Spike.C1q | 1.086430 | Spike | WT | C1q |\n",
       "| 4 |  3 |   3 | 1 | A3  | CoronaVac2   | CoronaVac | C | 1 | C64 2020 G4 | CoronaVac-2  | ... | D42 |  41 |  13 | NaN |   5.5 | WT.Spike.C1q | 1.077140 | Spike | WT | C1q |\n",
       "| 5 |  4 |   4 | 1 | A4  | CoronaVac2-3 | CoronaVac | C | 1 | C64 2020 G4 | CoronaVac2-2 | ... | M3  | 104 |  76 | NaN |   7.5 | WT.Spike.C1q | 1.096555 | Spike | WT | C1q |\n",
       "| 6 |  5 |   5 | 1 | A5  | CoronaVac2-5 | CoronaVac | C | 1 | C64 2020 G4 | CoronaVac2-3 | ... | M6  | 153 | 125 | NaN |   9.5 | WT.Spike.C1q | 1.165344 | Spike | WT | C1q |\n",
       "\n"
      ],
      "text/plain": [
       "  PlateNum SampleNum PlateID PlateCoord ID           vaccine   group BOX\n",
       "1 60       228       3       E12        Hosp-1       Hosp      p     3  \n",
       "2  1         1       1       A1         Naive        Naive     C     1  \n",
       "3  2         2       1       A2         CoronaVac    CoronaVac C     1  \n",
       "4  3         3       1       A3         CoronaVac2   CoronaVac C     1  \n",
       "5  4         4       1       A4         CoronaVac2-3 CoronaVac C     1  \n",
       "6  5         5       1       A5         CoronaVac2-5 CoronaVac C     1  \n",
       "  Lab.ID      Vaccine      ... Time.sample DPFD DPSD DPTD order variable    \n",
       "1 p4 2020 G4  NA           ... D21          18  NaN  NaN  455.5 WT.Spike.C1q\n",
       "2 C64 2020 G4 Naive        ... PRE         NaN  NaN  NaN    1.5 WT.Spike.C1q\n",
       "3 C64 2020 G4 CoronaVac    ... D28          29    1  NaN    3.5 WT.Spike.C1q\n",
       "4 C64 2020 G4 CoronaVac-2  ... D42          41   13  NaN    5.5 WT.Spike.C1q\n",
       "5 C64 2020 G4 CoronaVac2-2 ... M3          104   76  NaN    7.5 WT.Spike.C1q\n",
       "6 C64 2020 G4 CoronaVac2-3 ... M6          153  125  NaN    9.5 WT.Spike.C1q\n",
       "  value    antigen virus affinity\n",
       "1 1.115553 Spike   WT    C1q     \n",
       "2 1.050209 Spike   WT    C1q     \n",
       "3 1.086430 Spike   WT    C1q     \n",
       "4 1.077140 Spike   WT    C1q     \n",
       "5 1.096555 Spike   WT    C1q     \n",
       "6 1.165344 Spike   WT    C1q     "
      ]
     },
     "metadata": {},
     "output_type": "display_data"
    }
   ],
   "source": [
    "data_m=melt(data,id.vars = c('PlateNum','SampleNum','PlateID','PlateCoord',#'Well',\n",
    "                             'ID','vaccine','group','BOX','Lab.ID','Vaccine','Tube.Label','Time.sample','DPFD','DPSD','DPTD','order'))\n",
    "data_m$antigen  = do.call(rbind,strsplit(as.character(data_m$variable),'\\\\.'))[,2]\n",
    "data_m$virus    = do.call(rbind,strsplit(as.character(data_m$variable),'\\\\.'))[,1]\n",
    "data_m$affinity = do.call(rbind,strsplit(as.character(data_m$variable),'\\\\.'))[,3]\n",
    "data_r = data_m\n",
    "head(data_m)\n",
    "\n",
    "data_m=melt(data_norm,id.vars = c('PlateNum','SampleNum','PlateID','PlateCoord',#'Well',\n",
    "                                  'ID','vaccine','group','BOX','Lab.ID','Vaccine','Tube.Label','Time.sample','DPFD','DPSD','DPTD','order'))\n",
    "data_m$antigen  = do.call(rbind,strsplit(as.character(data_m$variable),'\\\\.'))[,2]\n",
    "data_m$virus    = do.call(rbind,strsplit(as.character(data_m$variable),'\\\\.'))[,1]\n",
    "data_m$affinity = do.call(rbind,strsplit(as.character(data_m$variable),'\\\\.'))[,3]\n",
    "head(data_m)"
   ]
  },
  {
   "cell_type": "markdown",
   "id": "7df968ca-abdb-44a3-b2f0-ff51c9bde6e9",
   "metadata": {},
   "source": [
    "# Save formated data"
   ]
  },
  {
   "cell_type": "code",
   "execution_count": 40,
   "id": "bf31d122-19fb-4cae-8d56-95aeed60f0b4",
   "metadata": {},
   "outputs": [],
   "source": [
    "write.csv(data,file=paste0('../data-final/DS1-annotated_luminex.lum_func.csv'),row.names=F)\n",
    "write.csv(data_m,file=paste0('../data-final/DS2-annotated_luminex.lum_func.melted.csv'),row.names=F)\n",
    "write.csv(data_r,file=paste0('../data-final/DS2-annotated_luminex.lum_func.melted.raw.csv'),row.names=F)"
   ]
  },
  {
   "cell_type": "code",
   "execution_count": 41,
   "id": "384febeb-cfda-4776-ab53-180752261c0e",
   "metadata": {},
   "outputs": [
    {
     "name": "stdout",
     "output_type": "stream",
     "text": [
      "[1] \"done\"\n"
     ]
    }
   ],
   "source": [
    "print('done')"
   ]
  },
  {
   "cell_type": "code",
   "execution_count": null,
   "id": "b22d41aa-61ec-4ba0-b15c-886872fa83ae",
   "metadata": {},
   "outputs": [],
   "source": []
  },
  {
   "cell_type": "code",
   "execution_count": null,
   "id": "bd19cca4-28bd-4e29-9072-106f2a6f60dd",
   "metadata": {},
   "outputs": [],
   "source": []
  },
  {
   "cell_type": "code",
   "execution_count": null,
   "id": "ab91689b-1b19-4b5f-8636-c2f02e1e7e73",
   "metadata": {},
   "outputs": [],
   "source": []
  },
  {
   "cell_type": "code",
   "execution_count": 42,
   "id": "0f24af6a-7cf4-4185-87cb-1a6f37f5b44c",
   "metadata": {},
   "outputs": [
    {
     "ename": "ERROR",
     "evalue": "Error in eval(expr, envir, enclos): \n",
     "output_type": "error",
     "traceback": [
      "Error in eval(expr, envir, enclos): \nTraceback:\n",
      "1. stop()"
     ]
    }
   ],
   "source": [
    "stop()"
   ]
  },
  {
   "cell_type": "markdown",
   "id": "ea3c51d9-670a-4b6a-bc17-c1ec36957043",
   "metadata": {},
   "source": [
    "# trash"
   ]
  },
  {
   "cell_type": "code",
   "execution_count": null,
   "id": "afcfa51e-8d37-4585-b34b-199b7c722867",
   "metadata": {},
   "outputs": [],
   "source": [
    "# head(data_m)\n",
    "\n",
    "options(repr.plot.width=20,repr.plot.height=6)\n",
    "\n",
    "data_m %>% filter( antigen%in%c('RBD','Spike') & virus%in%c('WT') & affinity%in%c('IgG1')) %>%\n",
    "    filter( (vaccine%in%c('CoronaVac','Pfizer') & DPSD>15 & DPSD<350) | #  \n",
    "           (vaccine=='Naive') |\n",
    "           (vaccine%in%c('Out','Hosp') & DPFD>20 & DPFD<350 ))  %>%\n",
    "    ggplot(aes(x=variable,y=value,color=variable))+\n",
    "        geom_boxplot()+scale_y_log10()+\n",
    "        ggpubr::stat_compare_means()+ylab('MFI (A.U.)')+\n",
    "        facet_grid(~gsub('-.*','',vaccine))+\n",
    "        theme_bw(base_size=20)+ggtitle(\"All sampels post peak\")\n",
    "\n",
    "l=15; u=90\n",
    "data_m %>% filter( antigen%in%c('RBD','Spike') & virus%in%c('WT') & affinity%in%c('IgG1')) %>%\n",
    "    filter( (vaccine%in%c('CoronaVac','Pfizer') & DPSD>l & DPSD<u) | #  \n",
    "           (vaccine=='Naive') |\n",
    "           (vaccine%in%c('Out','Hosp') & DPFD>l & DPFD<u ))  %>%\n",
    "    ggplot(aes(x=variable,y=value,color=variable))+\n",
    "        geom_boxplot()+scale_y_log10()+\n",
    "        ggpubr::stat_compare_means()+ylab('MFI (A.U.)')+\n",
    "        facet_grid(~gsub('-.*','',vaccine))+\n",
    "        theme_bw(base_size=20)+ggtitle(paste('Near-peak samples:',l,'-',u,'days post 2nd dose or infection'))\n",
    "\n",
    "\n",
    "l=0; u=20\n",
    "data_m %>% filter( antigen%in%c('RBD','Spike') & virus%in%c('WT') & affinity%in%c('IgG1')) %>%\n",
    "    filter( (vaccine%in%c('CoronaVac','Pfizer') & DPSD>l & DPSD<u) | #  \n",
    "           (vaccine=='Naive') |\n",
    "           (vaccine%in%c('Out','Hosp') & DPFD>l & DPFD<u ))  %>%\n",
    "    ggplot(aes(x=variable,y=value,color=variable))+\n",
    "        geom_boxplot()+scale_y_log10()+\n",
    "        ggpubr::stat_compare_means()+ylab('MFI (A.U.)')+\n",
    "        facet_grid(~gsub('-.*','',vaccine))+\n",
    "        theme_bw(base_size=20)+ggtitle(paste('Near-peak samples:',l,'-',u,'days post 2nd dose or infection'))\n",
    "\n",
    "\n"
   ]
  },
  {
   "cell_type": "code",
   "execution_count": null,
   "id": "21734cb4-305d-41b3-b78c-9f0289f21894",
   "metadata": {},
   "outputs": [],
   "source": [
    "colnames(data_m)\n",
    "# head(data_m[data_m$group=='C',c('ID','vaccine','group','BOX','Lab.ID','Vaccine','Tube.Label','Time.sample','DPFD','DPSD','DPTD')],n=20)"
   ]
  },
  {
   "cell_type": "code",
   "execution_count": null,
   "id": "ba568319-4d9c-4a48-b9dd-a82cb497e8eb",
   "metadata": {},
   "outputs": [],
   "source": [
    "options(repr.plot.width=15,repr.plot.height=20)\n",
    "\n",
    "data_m %>% filter( antigen%in%c('RBD','Spike') & !grepl('\\\\+',vaccine) &\n",
    "                  !grepl('-2$|-6$',ID) &\n",
    "                  affinity%in%c('IgG1') & group=='C' & !virus%in%c('HKU1','OC43')) %>% \n",
    "    mutate( antigen=factor(antigen,levels=c('Spike','RBD'))) %>%\n",
    "    ggplot( aes(x=ID, y=value , fill=trimws(vaccine),shape= antigen))+\n",
    "        geom_boxplot()+\n",
    "        geom_jitter(width = .1)+\n",
    "        facet_grid(virus~antigen)+\n",
    "        scale_y_log10()+\n",
    "        scale_fill_manual(values = c('grey','white','lightblue'))+\n",
    "        theme_bw(base_size = 15)+\n",
    "        theme(axis.text.x = element_text(angle = 90, vjust = 0.5, hjust=1))"
   ]
  },
  {
   "cell_type": "code",
   "execution_count": null,
   "id": "821d0477-bf32-4b8a-bd24-52b123b389b7",
   "metadata": {},
   "outputs": [],
   "source": []
  },
  {
   "cell_type": "code",
   "execution_count": null,
   "id": "094b2370-855e-4abf-85c8-6e823a2e056f",
   "metadata": {},
   "outputs": [],
   "source": [
    "infected = read.table('../luminex_data_for_corrections_050924/new_old_together_infected_vaccinated/05_08_24_temp_luminex_infected_new_&_old.tsv',header=T,sep='\\t')\n",
    "# head(infected,n=3)\n",
    "\n",
    "vax = read.table('../luminex_data_for_corrections_050924/new_old_together_infected_vaccinated/05_08_24_temp_luminex_vaccinated_new_&_old.tsv',header=T,sep='\\t')\n",
    "# head(vax,n=3)\n",
    "\n",
    "# rerun = rbind(infected,vax)\n",
    "\n",
    "detectors= unique(gsub('_.*','',colnames(vax)[-(1:161)]))\n",
    "antigens=gsub('^_','',gsub(paste(detectors,collapse = '|'),'',colnames(vax)[-(1:161)]))\n",
    "virus=c('WT','Alpha','Beta','Gamma','Delta')\n",
    "\n",
    "# head(rerun)"
   ]
  },
  {
   "cell_type": "code",
   "execution_count": null,
   "id": "b937bf25-1b9d-486b-bb14-5aadbfe27be8",
   "metadata": {},
   "outputs": [],
   "source": [
    "options(repr.plot.width=25,repr.plot.height=6)\n",
    "\n",
    "cr=do.call(rbind,lapply(detectors,function(d){\n",
    "    do.call(rbind,lapply(virus,function(v){\n",
    "  idx=grep(paste0(d,'_',v,'|',v,'_spike_',d,'|',v,'_RBD_',d),(colnames(vax)),value=T,ignore.case = T)\n",
    "  cr=cor(log10(data.matrix(vax[, idx] +2000)),method = 'pearson',\n",
    "         use='pairwise.complete.obs')\n",
    "  cr[!is.finite(cr)]=0\n",
    " melt(cr) %>% \n",
    "        mutate( \n",
    "            run = if_else( grepl('_rerun',Var1,ignore.case=T) & grepl('_rerun',Var2,ignore.case=T), 'rerun',\n",
    "                          if_else( !grepl('_rerun',Var1,ignore.case=T) & !grepl('_rerun',Var2,ignore.case=T),'old','mixed')),\n",
    "            same_run= grepl('_rerun',Var1) & grepl('_rerun',Var2) | (!grepl('_rerun',Var1) & !grepl('_rerun',Var2)),\n",
    "            same_antigen= grepl('spike',Var1,ignore.case=T) & grepl('spike',Var2,ignore.case=T) | (!grepl('spike',Var1,ignore.case=T) & !grepl('spike',Var2,ignore.case=T)),\n",
    "            antigen = if_else( grepl('spike',Var1,ignore.case=T) & grepl('spike',Var2,ignore.case=T), 'spike',\n",
    "                              if_else( grepl('RBD',Var1,ignore.case=T) & grepl('RBD',Var2,ignore.case=T),'RBD','mixed')),\n",
    "            virus=v,detector=d\n",
    "            ) %>%\n",
    "        filter(Var1!=Var2)\n",
    "}))}))\n",
    "\n",
    "# (cr)\n",
    "  # heatmap.2( cr,trace='none',margins = c(15,15),Rowv = F,Colv = F)\n",
    "  \n",
    "cr %>% filter(detector=='IgG1') %>% filter( grepl('spike',Var1,ignore.case=T) | grepl('spike',Var2,ignore.case=T) ) %>%\n",
    "  ggplot(aes(x=run,shape=same_antigen,y=value,color=antigen,\n",
    "             label=ifelse(value>.7,as.character(Var1),NA)))+\n",
    "    geom_point(size=3,position = position_dodge(width = .1))+\n",
    "    ggrepel::geom_text_repel()+\n",
    "    facet_grid(~virus)+\n",
    "    theme_bw(base_size=20)\n",
    "\n",
    "cr %>% filter(detector=='IgG1') %>% filter( grepl('RBD',Var1,ignore.case=T) | grepl('RBD',Var2,ignore.case=T) ) %>%\n",
    "  ggplot(aes(x=run,shape=same_antigen,y=value,color=antigen,\n",
    "             label=ifelse(value>.7,as.character(Var1),NA)))+\n",
    "    geom_point(size=3,position = position_dodge(width = .1))+\n",
    "    ggrepel::geom_text_repel()+\n",
    "    facet_grid(~virus)+\n",
    "    theme_bw(base_size=20)\n",
    "\n",
    "# pm <- GGally::ggpairs(\n",
    "#   (data.matrix(vax[, idx] )+2e3),\n",
    "#   columnLabels = idx\n",
    "# ) #+ #scale_y_log10()+scale_x_log10()+\n",
    "#    # theme_bw(base_size=20)\n",
    "# pm\n",
    "# p_(pm)"
   ]
  },
  {
   "cell_type": "code",
   "execution_count": null,
   "id": "0f014881-d136-4531-b44c-6905aee37429",
   "metadata": {},
   "outputs": [],
   "source": [
    "dat_new = read.csv('../luminex_data_for_corrections_050924//new_data/luminex_data_050224.csv',skip = 1)\n",
    "annot_new = openxlsx::read.xlsx('../luminex_data_for_corrections_050924//new_data/samples_plate_design_new_version_042224.xlsx',sheet=2)\n",
    "head(annot_new)\n",
    "dim(annot_new)\n",
    "head(dat_new)\n",
    "dim(dat_new)"
   ]
  },
  {
   "cell_type": "code",
   "execution_count": null,
   "id": "20aab62c-1675-40e3-8432-ba7b34258141",
   "metadata": {},
   "outputs": [],
   "source": [
    "dat_new %>% arrange(Well.ID) %>% tail(n=20)"
   ]
  },
  {
   "cell_type": "code",
   "execution_count": null,
   "id": "86f370e9-f971-40ea-b3dc-a7282a8bb294",
   "metadata": {},
   "outputs": [],
   "source": [
    "stop()"
   ]
  },
  {
   "cell_type": "code",
   "execution_count": null,
   "id": "2032cf98-6b90-4713-9bc9-5d9cabc9e6f6",
   "metadata": {},
   "outputs": [],
   "source": [
    "# options(repr.plot.width=25,repr.plot.height=25)\n",
    "\n",
    "# melt(data_norm[,c('PlateID',data_vars)],id.vars='PlateID') %>%\n",
    "#     ggplot(aes(x=factor(PlateID),y=value,color=factor(PlateID))) +\n",
    "#         geom_boxplot()+\n",
    "#         scale_y_log10()+\n",
    "#         facet_wrap(~variable)+\n",
    "#         theme_bw(base_size=20)+\n",
    "#         theme(axis.text.x = element_text(angle = 90, vjust = 0.5, hjust=1),legend.position = 'none')"
   ]
  },
  {
   "cell_type": "code",
   "execution_count": null,
   "id": "09b4817b-bfff-4136-941a-ff4b5e32b4f7",
   "metadata": {},
   "outputs": [],
   "source": []
  }
 ],
 "metadata": {
  "kernelspec": {
   "display_name": "R 4.3",
   "language": "R",
   "name": "ir43"
  },
  "language_info": {
   "codemirror_mode": "r",
   "file_extension": ".r",
   "mimetype": "text/x-r-source",
   "name": "R",
   "pygments_lexer": "r",
   "version": "4.1.3"
  }
 },
 "nbformat": 4,
 "nbformat_minor": 5
}
